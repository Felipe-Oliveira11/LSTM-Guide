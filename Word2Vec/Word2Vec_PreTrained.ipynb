{
  "nbformat": 4,
  "nbformat_minor": 0,
  "metadata": {
    "colab": {
      "name": "Word2Vec-PreTrained.ipynb",
      "provenance": [],
      "collapsed_sections": [],
      "toc_visible": true
    },
    "kernelspec": {
      "name": "python3",
      "display_name": "Python 3"
    },
    "accelerator": "GPU"
  },
  "cells": [
    {
      "cell_type": "markdown",
      "metadata": {
        "id": "U4CZxkSb72gr",
        "colab_type": "text"
      },
      "source": [
        "### <b>Word2Vec</b>\n",
        "\n",
        "<br>\n",
        "\n",
        "##### What is Word2Vec ? \n",
        "\n",
        "Word2Vec is a Word Embedding that´s applied on NLP tasks, across Embedding We be able extract representation on words in text, Beyond be most user Embedding for NLP, let´s go studing this concept. \n",
        " \n",
        "<br>\n",
        "\n",
        "Word2vec is a group of related models that are used to produce word embeddings. These models are shallow, two-layer neural networks that are trained to reconstruct linguistic contexts of words. Word2vec takes as its input a large corpus of text and produces a vector space, typically of several hundred dimensions, with each unique word in the corpus being assigned a corresponding vector in the space. Word vectors are positioned in the vector space such that words that share common contexts in the corpus are located close to one another in the space.\n",
        "\n",
        "<br>\n",
        "\n",
        "\n",
        "#### How does Word2Vec work?\n",
        "\n",
        "Word2Vec is a method to construct such an embedding. It can be obtained using two methods (both involving Neural Networks): Skip Gram and Common Bag Of Words (CBOW)\n",
        "CBOW Model: This method takes the context of each word as the input and tries to predict the word corresponding to the context. Consider our example: Have a great day.\n",
        "Let the input to the Neural Network be the word, great. Notice that here we are trying to predict a target word (day) using a single context input word great. More specifically, we use the one hot encoding of the input word and measure the output error compared to one hot encoding of the target word (day). In the process of predicting the target word, we learn the vector representation of the target word.\n",
        "Let us look deeper into the actual architecture.\n",
        "\n",
        "<br>\n",
        "\n",
        "\n",
        "<p align=center>\n",
        "<img src=\"https://miro.medium.com/max/700/0*3DFDpaXoglalyB4c.png\" width=\"70%\"></p>\n",
        "\n",
        "<br>\n",
        "\n",
        "The input or the context word is a one hot encoded vector of size V. The hidden layer contains N neurons and the output is again a V length vector with the elements being the softmax values.\n",
        "Let’s get the terms in the picture right:\n",
        "- Wvn is the weight matrix that maps the input x to the hidden layer (V*N dimensional matrix)\n",
        "-W`nv is the weight matrix that maps the hidden layer outputs to the final output layer (N*V dimensional matrix)\n",
        "I won’t get into the mathematics. We’ll just get an idea of what’s going on.\n",
        "The hidden layer neurons just copy the weighted sum of inputs to the next layer. There is no activation like sigmoid, tanh or ReLU. The only non-linearity is the softmax calculations in the output layer.\n",
        "But, the above model used a single context word to predict the target. We can use multiple context words to do the same.\n",
        "\n",
        "<br>\n",
        "\n",
        "<p align=center>\n",
        "<img src=\"\n",
        "https://www.researchgate.net/profile/Olivier_Caelen/publication/322709818/figure/fig1/AS:731527327514624@1551421114982/Architecture-of-Word2Vec-with-CBOW-technique.ppm\n",
        "\" width=\"40%\"></p>\n",
        "\n",
        "<br>\n",
        "\n",
        "\n",
        "The above model takes C context words. When Wvn is used to calculate hidden layer inputs, we take an average over all these C context word inputs.\n",
        "So, we have seen how word representations are generated using the context words. But there’s one more way we can do the same. We can use the target word (whose representation we want to generate) to predict the context and in the process, we produce the representations. Another variant, called Skip Gram model does this.\n",
        "\n",
        "<br>\n",
        "\n",
        "#### Skip-Gram model\n",
        "\n",
        "\n",
        "This looks like multiple-context CBOW model just got flipped. To some extent that is true.\n",
        "We input the target word into the network. The model outputs C probability distributions. What does this mean?\n",
        "For each context position, we get C probability distributions of V probabilities, one for each word.\n",
        "\n",
        "\n",
        "<br>\n",
        "\n",
        "<p align=center>\n",
        "<img src=\"https://miro.medium.com/max/600/0*wzqwkNA3ylFwmB6D.png\" width=\"50%\"></p>\n",
        "\n",
        "<br>\n",
        "\n",
        "\n",
        "\n",
        "#### Who wins?\n",
        "\n",
        "Both have their own advantages and disadvantages. According to Mikolov, Skip Gram works well with small amount of data and is found to represent rare words well.\n",
        "On the other hand, CBOW is faster and has better representations for more frequent words.\n",
        "\n",
        "\n",
        "<br>\n",
        "\n",
        "<hr>\n",
        "\n"
      ]
    },
    {
      "cell_type": "code",
      "metadata": {
        "id": "kTrKaoA47nmt",
        "colab_type": "code",
        "colab": {
          "base_uri": "https://localhost:8080/",
          "height": 173
        },
        "outputId": "edcec02e-2db0-43fd-e114-d38232ea22af"
      },
      "source": [
        "import os \n",
        "import re \n",
        "import string \n",
        "import time \n",
        "import numpy as np \n",
        "import pandas as pd\n",
        "import matplotlib.pyplot as plt \n",
        "import seaborn as sns \n",
        "from xgboost import XGBClassifier\n",
        "\n",
        "import warnings\n",
        "warnings.filterwarnings('ignore')\n",
        "\n",
        "\n",
        "import nltk \n",
        "import gensim \n",
        "nltk.download('punkt')\n",
        "nltk.download('wordnet')\n",
        "nltk.download('stopwords')\n",
        "\n",
        "from nltk.corpus import stopwords\n",
        "from nltk.stem.porter import PorterStemmer\n",
        "from nltk.stem import SnowballStemmer\n",
        "from nltk.stem.wordnet import WordNetLemmatizer\n",
        "from nltk.tokenize import word_tokenize\n",
        "from nltk.tokenize import sent_tokenize\n",
        "from gensim.models import Word2Vec\n",
        "from gensim.models import KeyedVectors\n",
        "import gensim.downloader as api\n",
        "\n",
        "from sklearn.manifold import TSNE\n",
        "from sklearn.decomposition import PCA\n",
        "import matplotlib.pyplot as plt\n",
        "%matplotlib inline"
      ],
      "execution_count": 1,
      "outputs": [
        {
          "output_type": "stream",
          "text": [
            "/usr/local/lib/python3.6/dist-packages/statsmodels/tools/_testing.py:19: FutureWarning: pandas.util.testing is deprecated. Use the functions in the public API at pandas.testing instead.\n",
            "  import pandas.util.testing as tm\n"
          ],
          "name": "stderr"
        },
        {
          "output_type": "stream",
          "text": [
            "[nltk_data] Downloading package punkt to /root/nltk_data...\n",
            "[nltk_data]   Unzipping tokenizers/punkt.zip.\n",
            "[nltk_data] Downloading package wordnet to /root/nltk_data...\n",
            "[nltk_data]   Unzipping corpora/wordnet.zip.\n",
            "[nltk_data] Downloading package stopwords to /root/nltk_data...\n",
            "[nltk_data]   Unzipping corpora/stopwords.zip.\n"
          ],
          "name": "stdout"
        }
      ]
    },
    {
      "cell_type": "code",
      "metadata": {
        "id": "ubE6a0E2U4SZ",
        "colab_type": "code",
        "colab": {}
      },
      "source": [
        "# seed \n",
        "seed = 42\n",
        "np.random.seed(seed)"
      ],
      "execution_count": 2,
      "outputs": []
    },
    {
      "cell_type": "code",
      "metadata": {
        "id": "oq-_GvK2TtI3",
        "colab_type": "code",
        "colab": {
          "base_uri": "https://localhost:8080/",
          "height": 547
        },
        "outputId": "c6b8ed50-ab2e-4ea6-e33c-b34be689b523"
      },
      "source": [
        "path = '/content/drive/My Drive/Deep Learning - Projetos/Embeddings /Musical_instruments_reviews.csv'\n",
        "data = pd.read_csv(path)\n",
        "data.head()"
      ],
      "execution_count": 3,
      "outputs": [
        {
          "output_type": "execute_result",
          "data": {
            "text/html": [
              "<div>\n",
              "<style scoped>\n",
              "    .dataframe tbody tr th:only-of-type {\n",
              "        vertical-align: middle;\n",
              "    }\n",
              "\n",
              "    .dataframe tbody tr th {\n",
              "        vertical-align: top;\n",
              "    }\n",
              "\n",
              "    .dataframe thead th {\n",
              "        text-align: right;\n",
              "    }\n",
              "</style>\n",
              "<table border=\"1\" class=\"dataframe\">\n",
              "  <thead>\n",
              "    <tr style=\"text-align: right;\">\n",
              "      <th></th>\n",
              "      <th>reviewerID</th>\n",
              "      <th>asin</th>\n",
              "      <th>reviewerName</th>\n",
              "      <th>helpful</th>\n",
              "      <th>reviewText</th>\n",
              "      <th>overall</th>\n",
              "      <th>summary</th>\n",
              "      <th>unixReviewTime</th>\n",
              "      <th>reviewTime</th>\n",
              "    </tr>\n",
              "  </thead>\n",
              "  <tbody>\n",
              "    <tr>\n",
              "      <th>0</th>\n",
              "      <td>A2IBPI20UZIR0U</td>\n",
              "      <td>1384719342</td>\n",
              "      <td>cassandra tu \"Yeah, well, that's just like, u...</td>\n",
              "      <td>[0, 0]</td>\n",
              "      <td>Not much to write about here, but it does exac...</td>\n",
              "      <td>5.0</td>\n",
              "      <td>good</td>\n",
              "      <td>1393545600</td>\n",
              "      <td>02 28, 2014</td>\n",
              "    </tr>\n",
              "    <tr>\n",
              "      <th>1</th>\n",
              "      <td>A14VAT5EAX3D9S</td>\n",
              "      <td>1384719342</td>\n",
              "      <td>Jake</td>\n",
              "      <td>[13, 14]</td>\n",
              "      <td>The product does exactly as it should and is q...</td>\n",
              "      <td>5.0</td>\n",
              "      <td>Jake</td>\n",
              "      <td>1363392000</td>\n",
              "      <td>03 16, 2013</td>\n",
              "    </tr>\n",
              "    <tr>\n",
              "      <th>2</th>\n",
              "      <td>A195EZSQDW3E21</td>\n",
              "      <td>1384719342</td>\n",
              "      <td>Rick Bennette \"Rick Bennette\"</td>\n",
              "      <td>[1, 1]</td>\n",
              "      <td>The primary job of this device is to block the...</td>\n",
              "      <td>5.0</td>\n",
              "      <td>It Does The Job Well</td>\n",
              "      <td>1377648000</td>\n",
              "      <td>08 28, 2013</td>\n",
              "    </tr>\n",
              "    <tr>\n",
              "      <th>3</th>\n",
              "      <td>A2C00NNG1ZQQG2</td>\n",
              "      <td>1384719342</td>\n",
              "      <td>RustyBill \"Sunday Rocker\"</td>\n",
              "      <td>[0, 0]</td>\n",
              "      <td>Nice windscreen protects my MXL mic and preven...</td>\n",
              "      <td>5.0</td>\n",
              "      <td>GOOD WINDSCREEN FOR THE MONEY</td>\n",
              "      <td>1392336000</td>\n",
              "      <td>02 14, 2014</td>\n",
              "    </tr>\n",
              "    <tr>\n",
              "      <th>4</th>\n",
              "      <td>A94QU4C90B1AX</td>\n",
              "      <td>1384719342</td>\n",
              "      <td>SEAN MASLANKA</td>\n",
              "      <td>[0, 0]</td>\n",
              "      <td>This pop filter is great. It looks and perform...</td>\n",
              "      <td>5.0</td>\n",
              "      <td>No more pops when I record my vocals.</td>\n",
              "      <td>1392940800</td>\n",
              "      <td>02 21, 2014</td>\n",
              "    </tr>\n",
              "  </tbody>\n",
              "</table>\n",
              "</div>"
            ],
            "text/plain": [
              "       reviewerID        asin  ... unixReviewTime   reviewTime\n",
              "0  A2IBPI20UZIR0U  1384719342  ...     1393545600  02 28, 2014\n",
              "1  A14VAT5EAX3D9S  1384719342  ...     1363392000  03 16, 2013\n",
              "2  A195EZSQDW3E21  1384719342  ...     1377648000  08 28, 2013\n",
              "3  A2C00NNG1ZQQG2  1384719342  ...     1392336000  02 14, 2014\n",
              "4   A94QU4C90B1AX  1384719342  ...     1392940800  02 21, 2014\n",
              "\n",
              "[5 rows x 9 columns]"
            ]
          },
          "metadata": {
            "tags": []
          },
          "execution_count": 3
        }
      ]
    },
    {
      "cell_type": "code",
      "metadata": {
        "id": "VkL1RYve040H",
        "colab_type": "code",
        "colab": {}
      },
      "source": [
        "data.columns = data.columns.str.lower()"
      ],
      "execution_count": 4,
      "outputs": []
    },
    {
      "cell_type": "code",
      "metadata": {
        "id": "uFWf76msUxFA",
        "colab_type": "code",
        "colab": {}
      },
      "source": [
        "cols_drop = ['reviewerid','asin','reviewername','helpful','unixreviewtime', 'reviewtime']\n",
        "data.drop(columns=cols_drop, axis=1, inplace=True)"
      ],
      "execution_count": 5,
      "outputs": []
    },
    {
      "cell_type": "code",
      "metadata": {
        "id": "yh9iPMWyUVO-",
        "colab_type": "code",
        "colab": {}
      },
      "source": [
        "data['reviewtext'] = data['reviewtext'] + ' ' + data['summary']\n",
        "data.drop('summary', axis=1, inplace=True)\n",
        "\n",
        "data['reviewtext'] = data['reviewtext'].astype(str)"
      ],
      "execution_count": 6,
      "outputs": []
    },
    {
      "cell_type": "code",
      "metadata": {
        "id": "j-9kBgtl1oP3",
        "colab_type": "code",
        "colab": {}
      },
      "source": [
        "# create corpus \n",
        "document = data['reviewtext']\n",
        "\n",
        "corpus = []\n",
        "for sentence in document:\n",
        "  corpus.append(sentence.split())"
      ],
      "execution_count": 7,
      "outputs": []
    },
    {
      "cell_type": "code",
      "metadata": {
        "id": "np_wvoWg_08n",
        "colab_type": "code",
        "colab": {
          "base_uri": "https://localhost:8080/",
          "height": 901
        },
        "outputId": "2cec4d88-2080-401d-aff0-cc5396ead49b"
      },
      "source": [
        "corpus[0]"
      ],
      "execution_count": 8,
      "outputs": [
        {
          "output_type": "execute_result",
          "data": {
            "text/plain": [
              "['Not',\n",
              " 'much',\n",
              " 'to',\n",
              " 'write',\n",
              " 'about',\n",
              " 'here,',\n",
              " 'but',\n",
              " 'it',\n",
              " 'does',\n",
              " 'exactly',\n",
              " 'what',\n",
              " \"it's\",\n",
              " 'supposed',\n",
              " 'to.',\n",
              " 'filters',\n",
              " 'out',\n",
              " 'the',\n",
              " 'pop',\n",
              " 'sounds.',\n",
              " 'now',\n",
              " 'my',\n",
              " 'recordings',\n",
              " 'are',\n",
              " 'much',\n",
              " 'more',\n",
              " 'crisp.',\n",
              " 'it',\n",
              " 'is',\n",
              " 'one',\n",
              " 'of',\n",
              " 'the',\n",
              " 'lowest',\n",
              " 'prices',\n",
              " 'pop',\n",
              " 'filters',\n",
              " 'on',\n",
              " 'amazon',\n",
              " 'so',\n",
              " 'might',\n",
              " 'as',\n",
              " 'well',\n",
              " 'buy',\n",
              " 'it,',\n",
              " 'they',\n",
              " 'honestly',\n",
              " 'work',\n",
              " 'the',\n",
              " 'same',\n",
              " 'despite',\n",
              " 'their',\n",
              " 'pricing,',\n",
              " 'good']"
            ]
          },
          "metadata": {
            "tags": []
          },
          "execution_count": 8
        }
      ]
    },
    {
      "cell_type": "markdown",
      "metadata": {
        "id": "UkhoSTN11TCo",
        "colab_type": "text"
      },
      "source": [
        "<hr>\n",
        "<br>\n",
        "\n",
        "### Word2Vec \n",
        "\n",
        "Explanation about parameters of Word2Vec: \n",
        "\n",
        "* <b> Size </b>: The size of the dense vector to represent each token or word (i.e. the context or neighboring words) The number of dimensions of the embedding, e.g. the length of the dense vector to represent each token (word). If you have limited data, then size should be a much smaller value since you would only have so many unique neighbors for a given word. If you have lots of data, it’s good to experiment with various sizes. A value of 100–150 has worked well for me for similarity lookups.\n",
        "\n",
        "<br>\n",
        "\n",
        "* <b> Window </b>: The maximum distance between the target word and its neighboring word. If your neighbor’s position is greater than the maximum window width to the left or the right, then, some neighbors would not be considered as being related to the target word. In theory, a smaller window should give you terms that are more related. Again, if your data is not sparse, then the window size should not matter too much, as long as it’s not overly narrow or overly broad. If you are not too sure about this, just use the default value.\n",
        "\n",
        "<br>\n",
        "\n",
        "* <b> Min_count</b>: Minimium frequency count of words. The model would ignore words that do not satisfy the min_count. Extremely infrequent words are usually unimportant, so its best to get rid of those. Unless your dataset is really tiny, this does not really affect the model in terms of your final results. The settings here probably has more of an effect on memory usage and storage requirements of the model files.\n",
        "\n",
        "<br> \n",
        "\n",
        "* <b> Workers </b>: How many threads to use behind the scenes?\n",
        "\n",
        "<br> \n",
        "\n",
        "* <b> Iter </b>: Number of iterations (epochs) over the corpus. 5 is a good starting point.\n",
        "\n",
        "<br>\n",
        "\n",
        "* <b> Sg </b>: This parameter to be able choose our algorithm, can choose both CBOW or Skip-gram. (CBOW=0 |Skip-Gram=1)  \n",
        "\n",
        "<br>\n",
        "<hr>"
      ]
    },
    {
      "cell_type": "code",
      "metadata": {
        "id": "uUQmZ6To1Y6R",
        "colab_type": "code",
        "colab": {}
      },
      "source": [
        "# Word2Vec \n",
        "model = Word2Vec(sentences=corpus, size=150, window=10, min_count=2, workers=5, iter=10, sg=0, seed=42)"
      ],
      "execution_count": 9,
      "outputs": []
    },
    {
      "cell_type": "code",
      "metadata": {
        "id": "t2hUWy2MPR5x",
        "colab_type": "code",
        "colab": {
          "base_uri": "https://localhost:8080/",
          "height": 54
        },
        "outputId": "8f44a881-f664-46bb-8f6b-6e51e065180f"
      },
      "source": [
        "# vocabulary learned\n",
        "vocab = list(model.wv.vocab)\n",
        "print(vocab)"
      ],
      "execution_count": 10,
      "outputs": [
        {
          "output_type": "stream",
          "text": [
            "['Not', 'much', 'to', 'write', 'about', 'here,', 'but', 'it', 'does', 'exactly', 'what', \"it's\", 'supposed', 'to.', 'filters', 'out', 'the', 'pop', 'sounds.', 'now', 'my', 'recordings', 'are', 'more', 'crisp.', 'is', 'one', 'of', 'lowest', 'prices', 'on', 'amazon', 'so', 'might', 'as', 'well', 'buy', 'it,', 'they', 'honestly', 'work', 'same', 'despite', 'their', 'pricing,', 'good', 'The', 'product', 'should', 'and', 'quite', 'affordable.I', 'did', 'not', 'realized', 'was', 'double', 'screened', 'until', 'arrived,', 'even', 'better', 'than', 'I', 'had', 'an', 'added', 'bonus,', 'screens', 'carries', 'a', 'small', 'hint', 'smell', 'old', 'candy', 'used', 'buy,', 'for', 'sake,', 'cannot', 'stop', 'putting', 'filter', 'next', 'nose', 'smelling', 'after', 'recording.', 'you', 'needed', 'filter,', 'this', 'will', 'just', 'expensive', 'ones,', 'may', 'come', 'with', 'pleasing', 'like', 'mine', 'product!', ':]', 'Jake', 'primary', 'job', 'device', 'block', 'breath', 'that', 'would', 'otherwise', 'produce', 'popping', 'sound,', 'while', 'allowing', 'your', 'voice', 'pass', 'through', 'no', 'noticeable', 'reduction', 'volume', 'or', 'high', 'frequencies.', 'cloth', 'blocks', 'pops', 'lets', 'coloration.', 'metal', 'clamp', 'mount', 'attaches', 'mike', 'stand', 'secure', 'enough', 'keep', 'attached.', 'goose', 'neck', 'needs', 'little', 'stay', 'where', 'put', 'it.', 'It', 'Does', 'Job', 'Well', 'Nice', 'windscreen', 'protects', 'MXL', 'mic', 'prevents', 'pops.', 'Only', 'thing', 'gooseneck', 'only', 'marginally', 'able', 'hold', 'screen', 'in', 'position', 'requires', 'careful', 'positioning', 'avoid', 'sagging.', 'GOOD', 'FOR', 'THE', 'MONEY', 'This', 'great.', 'looks', 'performs', 'studio', 'filter.', 'If', \"you're\", 'recording', 'vocals', 'eliminate', 'gets', 'recorded', 'when', 'sing.', 'No', 'record', 'vocals.', 'So', 'bought', 'another', 'one.', 'Love', 'heavy', 'cord', 'gold', 'connectors.', 'Bass', 'sounds', 'learned', 'last', 'night', 'how', 'coil', 'them', 'up.', 'guess', 'read', 'instructions', 'carefully.', 'But', 'harm', 'done,', 'still', 'works', 'great!', 'Best', 'Cable', 'have', 'monster', 'cables', 'years,', 'reason.', 'lifetime', 'warranty', 'worth', 'price', 'alone.', 'Simple', 'fact:', 'break,', 'getting', 'replace', 'at', 'cost', 'at.', 'Monster', 'Standard', '100', '-', \"21'\", 'Instrument', 'use', 'cable', 'run', 'from', 'output', 'pedal', 'chain', 'input', 'Fender', 'Amp.', 'After', 'hook', 'up', 'board', 'thought', 'try', 'update', 'guitar.', 'been', 'using', 'end', 'Planet', 'Waves', 'Once', 'found', 'jacks', 'new', \"didn't\", 'fit', 'into', 'Strat', 'jack', 'return', 'stated', 'board.', 'Save', 'money...', 'went', 'back', 'payed', '$30.00', 'which', 'comes', 'around', 'What', \"I'm\", 'get', 'pay', 'for.', 'lot', 'money', \"haven't\", 'guitar', 'since', 'plus', 'years', \"Didn't\", '1996', 'Strat...', 'Perfect', 'Epiphone', 'Sheraton', 'II.', 'constructed.', 'several', 'never', 'any', 'problems', 'over', 'years.', 'Got', 'because', 'wanted', '90', 'degree', 'plug.', 'Great', 'makes', 'best', 'doesnt', 'hurt', 'either.', 'isnt', 'top', 'line', 'series', 'great', 'bass', 'rig', 'has', 'some', 'time.', 'You', 'cant', 'go', 'wrong', 'Cables.', 'Cables', 'On', 'Market', 'wide', 'array', 'cables,', 'including', 'very', 'end.', 'initially', 'purchased', 'pair', 'Rock', '21', 'Feet', 'Straight', '1/4-Inch', 'keyboards,', 'came', 'time', 'purchase', \"I'd\", 'pinch', 'few', 'am', 'glad', 'did.I', 'compared', 'model', 'models', 'previously', 'and,', 'aside', 'looks,', 'could', 'detect', 'difference', 'sound.', 'forth', 'between', 'guitars', 'ensuring', 'each', 'instrument', 'going', 'looks.', 'sure', '(the', 'higher', 'priced', 'model)', 'sturdy', 'molded', 'stress', 'relief', 'ends', 'seem', 'make', 'reliable', 'its', 'pricier', 'line:', 'carefully', 'compare', 'both', 'own', 'amp', 'if', 'possible', 'before', 'making', 'decision.', 'find,', 'did,', 'necessarily', 'equal', 'value,', 'manufacturer.', 'One', 'within', 'brand', 'got', 'i', \"don't\", 'really', 'need', 'often', 'rarely', 'can', 'see', 'need.', 'keyboard', 'organ.', 'hardly', 'large', 'sustaining', 'playing', 'piano,', 'appear', 'awkward.', 'HAS', 'TO', 'GET', 'USE', 'SIZE', 'love', 'Yamaha', 'great,', 'recommend', 'anyone', 'awesome', 'home', 'control', 'midi', 'keyboard.', 'do.', 'works!', \"wasn't\", 'aware', 'there', 'were', 'other', 'options', 'pedals.', \"doesn't\", 'smoothly', 'pedals', 'do', 'acoustic', 'always', 'used.', \"Doesn't\", 'feel', 'Nowhere', 'opinion,', 'sustain', 'M-Audio', 'SP-2', 'Sustain', 'Pedal', 'Piano', 'Style', 'Action', 'similar', 'choice.', 'dollars', 'action', 'better.', \"I've\", 'taking', 'space', 'drawer', 'electric', 'Definitely', 'For', 'Player', 'perfect', 'length', 'me!', 'Sometimes', 'find', 'bit', 'too', 'long', 'mind.', 'build', 'quality', 'know', 'last.', 'gripe', 'sleeve', 'unscrewed', 'way', 'easily,', 'requiring', 'me', 'tighten', 'color', 'cool,', 'definitely', 'out.', 'Durable', 'nice', 'looking', 'Sam', 'Ash', 'packed', 'mailer', 'inside', 'box', 'n', 'his', 'shipping', 'team', 'complaints', 'me...', 'thanks', 'Amazon', 'fender', '18', 'ft.', 'these', '4', 'months', 'holding', 'pretty', 'well.', 'seemingly', 'indestructable', 'made', 'by', 'electrician', 'friend.', 'When', 'finally', 'gave', 'out,', 'habit', 'no-name', 'display', 'near', 'register', 'Guitar', 'impulse', 'something', 'into.', 'third', 'fourth', 'Center', 'failed', 'light', 'decided', 'cables.', 'cheaper', 'be', 'terribly', 'hard', 'gear', 'tend', 'twisted', 'move', 'ones', 'eventually', 'fail', 'mind', 'spending', 'extra', 'durable.', 'actually', '$12', 'These', 'reasonably', \"18'\", 'There', 'kind', 'limited', 'life', 'Five', 'stars', 'nicely', 'foot', 'costs', 'shielded', 'meant', 'connect', \"amp's\", 'input.', 'Do', 'amplifier', 'speaker', 'cab.', 'want', 'unshielded', 'More', '6', 'passed', 'functioning', 'without', 'issues.', 'things', 'gone', 'significantly', 'although', 'highly', 'recommended,', 'probably', 'values', 'Hosa,', 'far', 'good.', 'Will', 'revisit', 'month', 'mark', ';)', 'cords', 'look', 'By', 'adding', 'word', 'California', 'description', 'sound', 'Beach', 'Add', 'name', 'cool', 'cheap', 'bent', 'connectors', 'badly', 'fault.', 'consider', 'once', 'awhile.', \"You'll\", 'hear', 'rattle.', 'seems', 'screw', 'black', 'rubber,', 'that,', 'well.I', 'also', 'shorter', 'red', 'goes', 'perfectly.', 'theses', 'practicing', 'others', 'who', \"It's\", 'easier', 'plug', 'different', 'amps', 'cutting', 'someone', 'accident.', 'green', 'that.', 'Cheap', 'looking,', 'Clear', 'Lake', 'Placid', 'Blue', 'price.', 'Very', 'cable.', 'Candy', 'Apple', 'Red', 'Tele.', 'reason', 'tends', 'lay', 'flat', 'floor.', 'rockband', 'controller', 'M-audio', 'Pro', 'Tools.', 'Works', 'Firm', 'fit,', 'solidly', 'ends,', 'reputable', 'branded', 'thin', 'side,', 'seen', 'issue', 'due', 'anything.', \"Couldn't\", '$5', 'prime', 'Quality', 'cable!', 'searching', 'MIDI', 'ART', 'controller,', 'across', 'Hosa', '$2', 'each!', 'As', '$6,', 'realize', 'happy', 'well,', 'plastic', 'connectors,', 'flawlessly.', 'must', '5', 'feet,', 'wish', 'longer.', 'connection', 'racked', 'perfect.', 'Still', 'Really', 'Good', 'Product', 'Cant', 'wrong.', 'budget', 'Its', 'quality.', 'Connection', 'secure,', 'worries', 'uneven', 'connections,', 'detaches', 'Highly', 'recommended.', 'Secure', 'Just', 'trying', 'task,', 'pin', 'config', 'correct.', 'fine', 'Midi', 'XLR', 'affordable', 'heavily', 'made.I', 'mixer', 'rack', '5ft', 'measurement', 'worked', 'disappointed', 'these.', 'Heavy', 'At', 'Affordable', 'Price', 'amp.', 'We', 'mobile', 'church', 'take', 'They', 'strong.', 'Sturdy', 'plugs,', 'inexpensive,', 'value.', 'require', 'professional-level', 'equipment,', 'serves', 'purposes', 'Satisfied', 'purchase.', 'Use', 'every', 'week', 'gigs.', 'Solid,', 'solder', 'joints.', 'A', 'products', 'bang', 'buck.', 'looked', 'guessing', 'wire', '22', '24', 'AWG,', \"10'\", 'long,', 'enough.', 'Enough', 'after.', 'touch', 'Before', '20', '12', 'inches.', 'those', 'connected', 'solo', 'live', 'show.', 'And', 'myself.', 'Who', 'all', 'spaghetti', 'trip', 'two', 'Digitech', 'Live', '2', 'Harmony', 'processor', 'required', 'here', 'too.', 'Hard', 'cords.', 'Usually', 'longer', 'job.', 'need?', 'while.', 'being', 'DI', 'abused', 'vocal', 'mics', 'Decent', 'greatest', \"they're\", 'fast', 'them.', 'many', 'our', 'broadcast', 'first', 'place', 'audio,', 'video,', 'computers', 'concert', 'music', 'all!', 'inexpensive', 'decent', 'point,', 'nothing', 'exceptional', 'mind,', 'done', 'indeed', 'audio', 'range', 'market.', 'returning', \"should've\", 'known', 'buy.', 'My', 'son,', 'experience', 'musician', 'recommended', 'seeking', 'proper', 'replacement.I', 'setup', 'includes', 'Behringer', 'C-1', 'Condenser', 'Microphone', 'Xenyx', 'Mixer,', 'mic;', 'excellent', 'value', 'money.', 'Excellent', 'quality,', 'solid', 'support', 'ends.', 'Should', 'usage', 'problem', 'tube', 'preamp.', 'Stars', 'Zero', 'issues', 'far.', 'feels', 'fairly', 'weight', 'survived', 'plugging', 'in,', 'packing', 'practice', 'review', 'if/when', 'breaks.', 'Pretty', 'lasted', 'patch', 'guitar.I', 'held', 'replacement', 'short.', 'pleasantly', 'surprised', 'cable,', 'already', 'though,', 'fortunately', 'fine.', 'Inside', 'phono', 'connector', 'wires', 'covered', 'white', 'shrink', 'plastic.', \"Haven't\", 'noticed', 'hum', 'crackles.', 'Want', 'texture', 'rubber', 'stiff.', 'tell', 'soldering', 'is.', 'Sounds', 'me.', 'flexible,', 'soft', 'Seems', 'enough,', 'noise', 'issues,', 'it;', 'leave', 'house', 'asking', 'handle', 'lot,', 'reasonable', 'care', 'wonderfully,', 'professional,', 'many,', 'ever', 'had,', 'though', 'Eric', 'Clapton', 'made,', 'length.', 'son', 'expanding', 'collection', 'effects', 'additional', 'everything', 'connected.', \"25'\", 'gives', 'him', 'flexibility', 'stepped', 'pulled', 'around.The', 'cable.Highly', 'Recommended!CFH', 'Cable,', 'Value', 'Recommended', 'expect', 'thin.', 'easily', '1/2', 'thickness', 'long-term', 'durability', 'signal', 'foresight', 'spend', 'couple', 'bucks', 'thicker', 'Still,', 'later', 'dead', 'already.', 'Wire', 'right', 'angle', 'jack.', 'Cannot', 'Bought', 'daughter', 'along', 'her', 'weeks.', 'described', 'hums,', 'crackles,', 'think', 'having', 'equipment.', 'soon', 'then', 'gone.', 'based', 'typically', 'guitar,', 'dont', 'much,', 'play', 'hour', 'day.', 'perform', 'buzz,', 'and/or', 'noises', 'performed', 'rugged,', 'price,', \"Hosa's\", 'purchased.', '1/4&#34;', 'plugs.', 'lugs', 'joints', 'heat', 'material,', 'Grade', 'A+', 'more.', '25', '10', 'crappy', 'purchasing', 'shell', 'pedalboard', '(which', 'box).', 'clean', 'sounding.', 'HOSA', 'past', 'confidence.', 'cord.', 'Hopefully', 'usefull', 'you.', 'affordable,', 'second', '(The', 'Like', 'item.', 'brand.', '...', 'say', 'maybe', 'purpose.', 'purpose', 'taken', 'beating', 'months,', 'served', 'on,', 'silicone', 'jackets', 'strain', 'reliefs', 'High', 'low', 'In', 'opinion', 'around.', 'From', 'die', 'notice.', 'feeling', 'built', 'good.I', 'product.', 'Never', 'lengths', 'absolutely', 'complaints.', 'disappointed.', 'Complaints', 'noise,', 'effective', 'under', 'course', 'durable', 'change', 'anything', 'now,', 'say,', 'problems.', 'stage,', 'everything...', 'practice!', 'nice.', 'Fantastic', 'deal', 'Have', 'multiple', 'times', 'speaker.', 'friends', 'jam.', 'item', 'terminal', 'spring', 'in.', \"aren't\", 'most', 'road', 'ft', 'size', 'jammin', 'aesthetically', 'totally', 'GTR210', '10ft.', 'cost,', \"won't\", 'break', 'bank.', 'satisfied', 'notoriously', 'noisy', 'especially', 'florescent', 'lights.', 'different.', 'prefer', 'shielding', 'justify', 'expense', 'considering', 'basic,', 'connections', 'rubbery', 'feet', 'arise', 'review,', 'whatsoever', 'Electric', 'place,', 'good,', 'reliable,', 'prematurely,', 'short', 'useful', 'nice,', 'jacket', 'working', 'diameter', '(by', 'add', 'strength', 'internet', 'concert,', 'we', 'lots', 'splits', 'arrived', 'condition', \"we've\", 'continuously', 'dozen', 'particular', 'degradation', 'Far', 'frills,', 'tangles', 'easy', 'design', 'rattle', 'average', 'considered', 'taught', 'afford.', 'showed', 'search', 'amazon,', 'jumped', 'figured', 'surprise,', 'strong,', 'thick', 'inspires', 'identical', 'quarter', 'tried', 'figure', 'myself', 'instead', 'listening', 'twice', 'over,', 'yourself', 'overpriced', 'loose,', 'tightened', 'keeps', 'coming', 'loose', 'dab', 'crazy', 'glue', 'threads,', 'hope', 'open', 'repair.', 'trust', 'key', 'points', '(where', 'meets', 'again', 'push', 'down', 'accident', 'plugged', 'seven', 'done.', 'doing', 'testing', 'chances', 'lasting.', 'Feel', 'flimsy', 'breaking,', 'stuff,', 'exception.', 'trusted', \"can't\", 'single', 'owned', \"that's\", 'failed.', 'complaint', 'least', '15', 'plan', 'stage.', 'day', 'speak', 'of.', 'perfectly', 'unscrew', 'now.', 'notion', 'outweighs', \"Let's\", 'face', 'vary', 'greatly.', 'replaced', 'lighter', 'Ibanez', 'watt', 'set', 'home.', 'With', 'changed', 'significant', 'volume.', 'checked', 'teacher', 'said', 'he', 'surprised.', 'appears', 'duty', 'proximity', 'point', '(so', 'far)', 'Ft', 'band', \"i'm\", 'noise.', 'price!!', 'use,', 'sturdy,', 'feedback,', 'performing', 'Unless', 'professional', 'chords,', 'medium', 'sized', 'venue.', 'them.I', 'active', 'musician,', 'throughthe', 'happens', 'comment', '40', '(10', 'realize,', 'ALWAYS', '(just', 'strings)', 'you,', 'sometimes', 'let', 'down.', '3', 'weeks', 'strong', 'flexible', 'develop', 'bending', 'roll', 'point.', 'certainly', 'sweet', 'spot,', 'opinion.', 'Solid', 'hated', 'thing.', \"They're\", 'noisy,', 'cheap,', 'Drop', 'else!', 'Crap', 'Almost', 'compares', 'plenty', 'Room', 'Good.', 'Thick,', 'stiff', 'all.', 'hosa', 'there.', 'recieved', 'bad', '50', 'so.', 'guys', 'them,', 'yet.', 'rocks', 'job,', 'leaves', 'desired', 'structural', 'integrity', 'concerned.', 'part', 'forth.', 'switch', 'loose.', '2mm', 'microphone', 'critical', 'applications.', 'suited', 'hobby', 'use.', 'connecting', 'directly', 'computer', 'console', 'recomended', 'direct', 'Beta', '58', 'Panasonic', 'G2', 'DSLR', 'interviews.', 'TRS', 'touch.', 'intended', 'received', 'expected.', 'adapter', 'construction', 'superb.', 'expected', 'me,', 'digital', 'recorder', 'handy', 'type', 'forget', 'hooking', 'PC.', 'Way', 'uses', 'HF', 'G10', 'Video', 'Camera', 'Shotgun', 'Mic', 'recently', '12&#34;', 'mounted', 'Mini', '*not*', '1', 'long.', 'actual', '8&#34;', 'itself.', 'returned', 'rated', 'star,', 'ok.', 'tight', '(since', \"there's\", \"2'\", 'adapter;', 'worst', 'case', 'scenario,', 'loop', 'angry', 'affect', 'stars)', 'hiss', 'unsure', 'stretched', 'max', '(or', 'shotgun', 'mic).', 'damned', 'sending', 'them...', 'adaptor', 'mini.', 'Needed', 'real', 'Recommend', 'listing', 'confusing', 'stereo', 'Stereo', 'headphones,', 'left', 'separate', 'unbalanced', 'wires.', 'configured', 'mono', 'balanced', 'fix', 'moving', 'ping', '#3', '#2', 'wire.', 'Pin', 'ties', '#1', 'ground', 'expected,', 'First,', 'reasons', 'why', 'awarded', 'five', 'uniformly', 'excellent.', 'Both', 'reliefs,', '1/8\"', 'mates', 'insert', 'specifically', 'transform', 'channels', 'Watt', 'Personal', 'P.A.', 'useable.', 'greatly', 'expands', 'functionality', 'versatility', 'portable', 'PA', 'mic.', 'Since', 'three', 'units', 'enhance', 'entire', 'system', 'simple', 'free.', 'environments', 'sources', 'interference', 'pick', 'one,', 'pleased', 'spare', 'damage', 'lose', 'considered,', 'peace', 'premium.', 'big', 'podiums', 'zoom', 'H1.', 'instrumental', 'capturing', 'events.', 'visual', 'professional.', 'Also', 'check', 'splitter.', 'cameras', 'function', 'weight.', 'That', 'means', \"That's\", 'none', 'us', 'production', 'field', 'worry', 'beat', 'reach', 'wherever', 'camera.', 'extend', 'others.', 'duty,', 'pays', 'shop', 'around!', 'Light', 'Weight', 'Mics', 'made.', 'should.', 'However,', 'straight', '(more', 'usual', 'Mic,', 'Tested', 'Zoom', 'H4', 'surprises.', 'Minor', 'post.', 'yet', 'company,', 'keys', 'convert', 'true', 'channel', 'EQ', 'properly', 'charm.', 'Perfect.', 'Another', 'Hosa.', 'EQ.', 'slightly', 'zip', 'tie', 'INSERT', 'ordered', 'expecting', 'whole', 'nearly', 'turns', 'waited', 'static,', 'buzz', 'explain', 'signal.', 'Insert', '--', 'introduction', 'discernible', 'loss', 'Especially', 'reviewers', 'wondering', 'such', 'economical', 'judgment', 'count', 'among', \"weren't\", 'become', 'convinced', 'knows', 'charge', 'mixer,', 'send', 'tip,', 'ring,', 'common', 'ground.', 'boxes', '1/4\"', 'ins', 'hookup', 'behringer', 'Shark', 'Automatic', 'Compact', 'order', 'returns', 'operate', 'analog', 'environment', 'often,', 'inserts.', '8', 'compression,', 'gate', 'various', 'EQs', 'processors', 'routed', 'applied', 'specific', 'channels.', 'snake', 'individual', '(of', 'differing', 'carry', 'efficient', 'soundman', 'during', 'INSERTS', 'side', 'note,', 'Gold', 'G5', 'Spray', 'Contact', 'musicians,', 'spray', 'q-tip', 'instruments.', 'vs.', 'cable.We', 'custom', 'manufacture', 'fixed', 'rigs,', 'cases', 'processing', 'gear,', 'simply', 'effective,', 'go-to', 'reliability', 'durability.', 'brands,', 'reputation', 'allows', 'maintain', 'reputation,', 'lowering', 'labor', 'costs.', 'Thanks', 'dependable', 'product,', 'Amazon!', 'wake', 'kids.', 'Keep', 'I-Pod', 'mono.', 'needing', 'else.', 'Plug', 'Amp', 'else', 'stage', 'systems,', 'anyway,', 'adapters', 'solution,', 'Sound', 'Solution', 'gig', 'bag', 'phone', 'Genz', 'Benz', 'head.', 'Handy', 'rehearsals', 'listen', 'track', 'arrangement', '(my', 'cab', 'full', 'fEARful', 'picking', 'up,', '/', '1/8&#34;', 'seemed', 'hand.', 'exact', 'application', 'is...', 'super', 'sufficient', 'gauge', 'etc.For', 'almost', 'stars.', '5-star', 'fair', 'ultra', 'right.', '(Yes,', 'wrote', 'what,', 'complete', 'failure', 'away.', 'usually', 'work.', 'Amazon,', 'deals', 'Picked', 'test', 'pedalboard,', \"couldn't\", 'happier.', 'suck', 'tone,', 'normal', '1/4', 'inch', 'saves', 'Inexpensive,', 'L', 'Jack', 'Flexible', 'fact', 'paid', 'care.', 'nicely,', 'tone', '5.', 'says', 'inches,', 'right?', 'jump', 'planet', 'waves', 'listed', '.5', '(same', 'whereas', 'room', 'another.', 'emergency', 'conclude,', 'these?', 'Yes,', 'recommendation', '6\"', 'pedals,', 'farther.', 'deliver', 'small,', 'cheap.', 'ask', 'pedal.', \"hasn't\", 'given', 'tone.', 'constructed,', 'durable,', 'stomp', 'boxes.', 'Worth', 'con', 'give', 'opening', 'Most', 'people', 'movement', 'wear', 'fine,', 'spaces', 'another,', 'distance,', 'type,', 'generally', 'distortion', 'favor,', 'threw', 'placed', 'report', 'scam', 'operation', 'credit', 'card', 'customer', 'reviews', 'terrible,', 'mistake', 'placing', 'eyes', 'BAD', 'hassle-free', 'players', 'budget.', 'Budget', 'mail,', 'level', 'performance', 'form', 'forsee', 'together', 'fits', 'perfectly,', 'anytime', 'soon,', 'connector,', 'issue.', 'breaks', 'fails.', 'Reliable', 'link', 'stompboxes', 'together.', 'yet,', 'havent', 'crackly,', 'which,', 'frequent', 'Often,', 'year', 'Every', 'guitarist', 'stock', 'things,', 'accessible.', 'twelve', 'flexible.', 'firm', 'fan.', 'guys.', 'lower', 'profile', 'bend', 'places', \"can't.\", 'Possibly', 'ended', 'hoping', 'microphones', 'funky', 'inputs.', 'discovered', 'do),', 'however', 'situation.', 'tool,', 'transformer', 'balancing', 'snake,', 'monitor', 'return.', 'Female', 'create', 'headphone', 'setup.', 'Now', 'channels,', '2.', \"(It's\", 'Why', 'ask?', 'buying', 'have?', 'hence', 'tool', 'setup,', 'matter', 'doing.', 'Definately', 'happen', 'solid,', 'definately', 'ION', 'shure', 'Arrived', 'fit.', 'title', 'says,', 'works.', 'took', 'off', 'star', 'stuck', 'force', 'XLR.', 'But,', 'besides', 'converts', 'xlr', '(for', 'Shure', 'SM57', 'mic)', 'male', '(I', 'amp).', 'converter', 'bulky', 'clip', 'onto', 'Could', 'fitting', 'certain', 'overall.', 'Gets', 'None', 'Perhaps', 'thing?', 'impedance', '$15', '$20', 'local', 'stores.', \"Can't\", 'basic', 'female', 'adapter.', 'regular', 'PA.', 'splitter', 'split', 'lead', 'rack.', 'Used', 'power', 'began', 'isolated', 'started', 'bigger', 'venues', 'Y', 'short,', 'cause', 'stick', 'microphone.', 'close', 'ground,', 'horizontally', 'placed,', 'funny', 'vertical', 'stand.', 'utility,', 'everyone.', 'single,', 'Tascam', 'DR-40,', 'step', 'items', \"wouldn't\", 'important', 'Purchasing', 'save', 'believe', 'else,', 'myself,', 'business.', 'business', 'way,', 'apply', 'so...', 'Nice.', 'Dual', 'event', 'video', 'company', 'shoot', 'audio.', 'half', \"DJ's\", 'dj', 'words', 'speaking.', 'Often', 'hot,', 'crap,', 'stupid.', 'edit', 'compress', 'improved', 'productions', 'beyond', 'sold.', 'wireless', 'systems', 'recorder.', 'once.', 'running', 'engineer', 'amplification', 'company.', 'Andy', 'superior', 'other.', 'He', 'Fixed', 'scratchy', 'potentiometer', 'jacks,', 'oxidized', 'causing', 'intermittently', '90%', 'good!', 'gigs', 'testing,', 'cleaning', 'coating', 'effect', 'components.', 'Wow!', 'no,', 'affiliation', 'with,', 'represent', 'manufacturers', 'Nor', 'I.', 'great!!!!', 'money!!', 'magic', 'Spray!', 'hinges,', 'car', 'doors,', 'etc.I', '(volume', 'controls', 'knobs)', 'Guitars,', 'rid', 'static', 'turn', 'radio', 'example.', 'Magic', 'pots.', 'restored', 'evaporate', 'away,', 'minutes', 'go!', 'well!', 'Back', \"1980's\", 'remember', 'it)', 'less.', 'levels', 'high.', 'stuff', 'it.It', 'cost.', 'luck', 'too,', 'call', 'average.', 'tech', 'knobs', 'switches', 'amp,', 'this.', '95%', 'time,', 'problem.', 'cuts', 'spraying', 'pushing', 'socket', 'times.', 'itself', 'hundred', 'over.', '!', 'Can', 'Of', 'electronic', 'musical', 'guitars,', 'basses,', 'amps,', 'FX,', 'etc.', 'Over', 'starts', 'suffering', 'pots', 'electronics', 'cleaner,', 'provided', 'can.', 'contrast', 'cleaned', 'piece', 'saving', 'physically', 'jacks.', 'errors', 'printer', 'cartridge', 'recognized', 'sprayed', 'contacts', 'wiped', 'excess', 'paper', 'towel.', 'jarring', 'glide', 'new,', \"I'll\", 'around,', 'stuff.', \"guitar's\", 'pot', 'new.', 'Wish', 'sooner.', 'contact', 'cleaning.', 'coin.', 'mesa', 'boogie', 'developed', 'years.This', 'midrange', 'starting', 'crackle', 'again.I', 'hate', 'tear', 'chassis', \"it'd\", 'gotta', 'kinda', 'Tone', 'Volume', 'clears', 'replacethe', 'potentiometers', 'alot', 'kinds', 'electronics.', 'crackling', 'again.', 'needed.', 'Cleaned', 'money,', 'karaoke', 'box.', 'usable', 'truly', 'saw', 'was,', ',and', ',', '(not', 'cheep', ',,', 'MUCH', 'BETTER', 'THEN', 'IT', 'WOULD', 'BE', ')', 'chord', 'missing', 'chord...', 'hot', \"son's\", 'set-up', 'mixer.', 'cord,', 'reviews,', 'occasionally', 'plays', 'basis.', 'seasoned', 'interest', 'per', 'se', 'less', 'group', 'Nady', '(even', 'ago)', 'insisting', \"SM-57's\", 'workmanship', '(any', 'casual', 'prove', 'much).', \"Nady's\", 'announcing,', 'vocals,', 'needed,', 'softer', 'sounding', 'instruments', 'broken', 'quit', 'keyboardist,', 'fidelity', 'trifle', 'musicians', 'audience', 'catch', 'demonic', 'all,', \"who's\", 'it?', 'seeing', 'grandson', 'handling', 'machine', 'thinking', 'nady', 'impressive', 'Roland', 'cube', 'micro', 'also.', 'Surprise', \"band's\", 'show', 'ago', 'currently', 'application.', 'While', 'live,', 'Mogami,', 'performances', 'resolder', 'though.', \"There's\", 'complicated', 'lot.', 'deal.', 'Get', 'it.I', 'week,', 'Then,', 'again,', 'runs', 'narrower', '(e.g.,', 'stand)', 'belt', 'pack', 'pronounced', 'butyl', 'smell,', 'activated', 'first.', 'stored', 'cardboard', 'help', 'smell.', 'everyone', 'Cheap,', 'awhile', 'impressed', 'workout.', 'Fair', 'GLS.', 'picked', 'equipment', 'lacking', 'shielding.', 'Thin', 'cables...', 'Gain', \"isn't\", 'greatest,', 'guy', 'Beginners', 'SM58s', 'volumes', 'ok', 'SM58', 'think,', 'capability.', 'Idea', 'learning', 'process', 'side.', 'crisp', 'reproduction', 'flaw', 'have.', 'instruction', 'website.', 'podcasting,', \"What's\", 'included.', 'Deal!', 'tune', 'duo', 'player,', 'trio', 'drums', 'bass.', 'club', 'basically', 'room.', 'Pyle', 'self', 'contained', 'Martin', 'hesitation', 'rooms', 'heard', 'feedback', 'on/off', 'paying', 'Toshiba', 'bucks,', 'Think', 'Audio', 'Gear.', 'companies', 'bringing', 'market', 'affordable.', 'strongly', 'Buy', 'This!', 'far,', 'Microphone.', 'backup', 'band.', 'Although', 'included', 'package.', 'honest', 'SM58.', 'standard', 'measured.', 'perhaps', 'SM48,', 'PG58', 'specs,', 'price.The', 'heavier.', 'protecting', 'interchangeable.', 'settings', 'identical.', 'other,', 'speaking', 'singing', 'settings,', 'specifically,', 'repeated', 'experiment,', 'changing', 'flatter', 'mid', 'range.', 'brighter', 'presence.', 'slight', 'differences', 'manipulated', 'ordinary', 'controls.', 'Neither', 'susceptible', 'comparison', 'situation', 'practice,', 'interferes', 'playing.', 'difficulty', 'judge', 'situations', 'awkward,', 'combination', 'difference,', 'except', 'person', 'preference', 'PG58,', 'settings.I', 'specs', 'mikes', 'response,', 'end,', 'Hz,', 'picks', 'dB', 'PG', '58,', 'somewhere', '60', 'Hz.', 'human', '300', 'neither', 'likely', 'effect,', 'tad', 'responsive', 'Radio', 'Shack', 'mike.', 'tinny', 'presence', '2000XM', 'B', '2000', 'inferior', 'offered', 'bundles', 'backup,', 'practice.', 'number', 'mike,', 'volume,', 'tone.I', 'choosing', 'microphones,', 'standard.', 'ARE', '$100.', 'prices,', 'test.I', 'toward', 'either', 'alternatives', 'giving', 'evaluation', 'holds', 'sing', 'songs', 'southern', 'gospel', 'smooth', 'enhances', 'nicely.', 'Built', 'Shure.', 'Lead', 'this,', 'rehearsal,', 'revise', 'somehow', 'changes', 'Right', 'SM58,', 'consider.', 'Other', 'degree.', 'acquired', 'ready', 'agree', 'argue', 'Neumann', 'costing', \"G's\", 'bucks.', 'respect', 'Shure,', '40%', 'sufficiently', '\"clean\"', 'tweaked', 'favor', 'frequencies', 'voice,', 'mistaken', 'attempts', 'led', 'sounded', 'somewhat', 'muted', 'dull', 'Switching', 'common,', 'admittedly', 'mic,', 'gain', 'crispness', 'clarity', '(at', 'notice', 'head', 'larger', 'rise', '(who', 'free,', 'Garage', 'Band', 'it?),', 'large,', 'place.', 'Despite', 'appearances,', 'mics,', 'school', 'bands', 'headsets', 'wrap', 'half-way', 'face,', 'knowing', 'girls', 'Some', 'tiny,', 'expensive.', 'clear', 'helps', 'proven', 'classic.', 'Using', 'Mesa', 'Boogie', 'Mark', 'V', '1x12', 'cabinet.', 'fantastic', 'built.', 'Classic', 'delivers', 'get,', 'forward', 'future', 'projects,', 'primarily', 'preferred', '1970', 'Model', 'stolen', 'ago,', 'remarkably', 'boosted', 'function.', 'countless', 'modern', \"SM-58's\", 'dozens', 'manufacturers.', 'deep', 'baritone', 'closer', '7', 'inches', 'SM-57.', 'To', 'SM-57', 'SM-7', 'fragile', 'four', 'crisper', 'highs', 'fuller', 'natural', 'muddy', 'muffled.', 'shove', 'benefit', 'dramatic', 'SM-58.', 'genuine', 'precisely', 'locks', 'securely', 'mad', 'drawback', 'available', 'days.', 'anywhere.', \"you've\", 'forgot', 'became', 'generations', 'purposes.', 'built-in', 'variable', 'like.', 'predecessors', 'enduring', 'unless', 'windscreen.', '30', 'years!', 'start', 'studio,', 'sets', 'standard,', 'kidding.', 'REAL', 'drums,', 'it..', 'vocalist', 'above', 'SM57.', 'lack', 'projection', '(most', 'best.', 'Industry', 'Tom', 'vox', 'rest', 'us.', 'Dropped', 'story', 'building', 'barley', 'dented', 'housing', '100%.', 'drummer', 'kit', 'told', 'haha', 'shame', 'IE', 'etc)', 'pieces', 'garbage.', 'Classic.', 'Shures', 'cabinet', '(and', \"doesn't,\", 'dynamic', 'instruments,', 'sometimes.', 'frequency', 'response', 'tailored', 'towards', 'mean', '57', 'voice.', 'concerned,', 'amateur', \"you'll\", 'operating', 'refuse', 'personal', 'condenser', 'filling', 'here.', 'SM57,', \"what's\", 'say?', 'snare', 'cabinets.', 'most.', 'living', 'mics.', 'Considering', 'introduced', 'world', '1967,', 'SM58LC', 'Vocal', 'Microphone,', 'assessment', 'foam', 'lined', 'cage', 'screen,', 'SM', 'Microphone)', 'designed', 'begin', 'increasing', 'rock', 'amplifiers,', 'drum', 'kits,', 'cousin', 'sold', 'mostly', \"mic'ing\", 'excels', 'roles', 'official', 'podium', 'White', 'press', 'VIP', 'bundled', 'use.The', 'extremely', 'rugged', 'tough', 'standards', 'abuse.', 'popular', 'touring', 'companies.', 'Performer', 'Microphonethat', 'capsule', 'overly', 'priced.', 'companies,', 'recordists', 'musicians.', 'Half', \"Shure's\", 'Long', 'Lasting', 'Dynamic', 'Duo', 'knocked', 'amount,', 'rugged.', 'happier', '(heavy', 'multi-track', 'studio.', 'teen', 'Christmas.', 'loves', 'along.', 'model.', 'sounds,', 'sturdy.', 'stays', 'put.', 'them..', 'industry', 'performance,', 'withstood', 'off.', 'microphones.', '(', '600', 'bucks)', 'Now,', 'decide', 'want,', 'alone', 'result', 'HD', 'TV', 'player', 'compliment', 'speakers', 'on.', 'user,', 'exceeds', 'promised', 'frustration', 'free', 'packing.', 'Also,', 'hood', 'unwanted', 'dirt', 'dent', 'body', 'How', 'life,', 'continue', 'same,', 'old,', 'rusted', 'grill', ':)', 'D5', 'price)', 'choice', 'backup.', 'rule', 'Rule', 'is,', 'applications', 'signature', 'relatives', 'broadcasting', 'spoken', 'content', 'use)', 'vocals.The', 'mouth', 'public', 'address', 'people,', 'included,', 'comfortable', 'setting', 'SM-58', 'example,', 'resist', 'against', 'lips', 'People', 'weaker', 'voices', 'directional', 'manageable', 'increases', 'singers', 'practically', 'ball', 'hand,', 'away', \"user's\", 'precious', 'colored', 'prominent', 'boost', 'upper', 'source', 'clearly.', 'like,', \"you'd\", 'sax', 'Personally', 'technique', 'nature', 'However', 'depends', 'advantage', 'turned', 'louder', 'annoying', 'switch.', 'shaped', 'screws', 'ten', 'dollars.', 'rusty,', 'dusty,', 'smoked', 'spit', 'into,', 'hardwood', 'boom', 'mass', 'fall', 'malfunction', 'it.All', 'pro', 'look.', 'on-stage', 'foreseeable', 'follow', 'crowd', 'stopped', 'today', \"they'd\", 'least.', 'legendary', 'indeed!', \"'bout\", 'know!', 'nails,', 'music.', 'switching', 'intend', 'hesitation.', 'switched', '(that', 'ago.', 'depend', 'smoothness', 'reproduces', 'warm', 'wail,', 'pouch,', 'clip.', '(one', 'miss', 'extra.', 'all-around', 'workhorse', 'clear,', 'robust,', 'Music', 'Computer', 'World', 'shipped', \"expected.I'm\", 'supplier', 'here!', 'excellent!', 'wonderful', 'jazzgryl52', 'addition', 'records', 'ballads', 'classical', 'hand', 'upon', 'meeting', 'GO', 'AKG', 'clearer', 'modification', 'sensitive', 'John', 'hawking', 'early', 'days', 'career', 'film', 'television', 'recordist', 'played', 'mixing.', 'fell', 'Brothers', 'Company', 'quickly', 'rose', 'ear', 'bump', 'cut', 'Construction', 'sits', 'internally', 'shock', 'isolate', 'joke', 'hammer', 'grab', 'these,', 'tough.', 'worked,', 'great.The', 'style', 'distinctive', 'look,', 'influenced', 'brands', 'introduced,', 'functionality.', 'layer', 'foam,', 'frame', 'reference,', 'theShure', 'Cardioid', 'sells', '58A', 'Takes', 'Keeps', 'forty', 'announcements', 'accommodate', 'guest', '(rather', 'Whatever', 'reason,', 'oomph', 'Cube', 'Peavey', 'employ', 'borrow', 'instant', '(i.e.', 'producing', 'full,', 'world.', 'extra,', 'avoiding', 'version', 'on-off', 'quick', 'solutions', 'pick-up', 'comments', 'members.', 'wiser', 'select', 'former', 'amount', 'wind', 'non-musical', 'Above', 'tank', 'consumer', 'wary', '\"this', 'reference', 'Prime,', 'competitive', 'returns.', 'industry,', 'professionals', 'first-hand', 'virtual', 'fact,', 'choice,', 'prettier', 'marketing', 'buck', 'Anyone', 'claims', 'blowing', 'smoke', 'recordings,', 'fine!', '$10,', 'proved', 'constructed', 'locking', 'button', 'projects.', 'shows,', 'connecters', 'flimsy.', 'should;', 'Received', 'packaging', '45', 'sent', 'email', 'manufacturer', 'till', 'today.', 'terrible.', 'lock', 'Plain', 'crap', 'Pay', 'Technica', 'withstand', 'Mine', 'attachments', 'loosening', 'next.', 'Everyone', 'preferences', 'threaded', 'cap', 'outside', '(first', 'slide', 'cable)', 'legged', 'gripper', 'underneath', 'slides', 'outer', 'Unfortunately', 'chose', 'award', 'rating', \"15'\", 'tied', 'grip', 'shield', 'connects', 'pins', 'chosen', 'tiny', 'lost', 'bumper', 'temporary', 'basis', 'WHEN', 'favorite', 'mentioned', 'above,', 'rush', '3ft', 'Patch', 'Cords', 'Male', 'Black', 'Balanced', 'Snake', 'Cord', 'phase,', 'lift', \"someone's\", 'oddball', 'Having', 'quibble', 'final', 'XLRs', 'booth', 'foot.', 'adds', 'planned', 'working.', 'saved', 'torn', 'rewired', 'surprises', 'equipped', 'RCA,', 'TRS,', 'access', 'terminals', 'be,', 'mainly', 'solve', 'distance', 'problems,', 'tape', 'measure', 'prevent', 'tripping', 'sooner', 'opened', 'permanent', 'kit.', 'TS', 'plugs', 'bin.', 'Even', '$100', '\"what', 'purchases', 'miracle', 'painted', 'existance', \"owner's\", 'toy', 'becomes', 'mix', 'advice', 'doubt', 'why,', 'how,', 'before,', 'thus', 'recreating', 'rather', 'pulling', 'tricks', 'solving', 'position.', 'exception', 'violate', 'serve', 'phase', 'reversed', 'lifted', 'dual', 'harmonica', 'duet', 'performers', 'rings', 'lip', 'bars', 'kept', 'signal,', 'scraping', 'rehersal', 'console.', 'good...', '\"cheap\"', 'should-', 'about.', 'fast.', 'Feels', 'Length', 'assignment', 'recently.', 'RODE', 'tight,', 'allowed', 'finished', 'Go', 'website', 'dot', 'Com', 'Fast', 'Service,', 'Crazy', 'Low', 'play.', 'consistent', 'complaints,', 'quiet', 'Is', 'cable?', 'No,', 'tracks', 'condensor', 'album', 'sessions', 'needs.', 'Sennheiser', 'amps.', 'course,', 'suitable', 'jamming', 'venues.', 'marked', 'apart', 'relatively', 'duty.', 'found.', 'products.', 'micro-screwdriver', 'te', '(if', 'screws)', 'market,', 'depending', 'used,', 'vary.', 'project', 'tested', 'pricey', 'Would', 'again?', 'Absolutely!', 'problem,', 'date.', 'system,', 'mini-amp.', 'guys,', 'encountered', 'suggest', 'packet', 'Gator', 'case!', 'secure.', 'screws.', 'things.', \"would've\", 'gotten', 'star.', 'washers', 'protect', 'ahead', 'estimated', 'arrival', 'PRODUCT', 'washers.', 'holes.', 'presentation', 'packed.', 'holes', 'Maybe', 'post', 'pics', '2nd', 'wait', '16', 'Better', 'mounting', 'invisible', 'rails', 'finishes', 'Stylish', 'Looking', 'Screws', 'Rack', 'fooled', 'junky', 'washers,', 'Thanks!', 'Rubber', 'perfect,', 'soon.', 'desktop', 'DJ', 'screws,', 'Wide', 'pan', 'ear,', 'narrow', 'gear!', 'Thanks,', 'numbers', 'there,', 'Raxxess', 'available.', 'original', 'supplied', 'live.', 'airy', 'resonator', 'preamp', 'bright', 'natural.', 'Might', 'it!', 'drive', 'garbage', 'Spring', 'happy.', 'say.', 'All', 'Around', 'Applications', '(in', 'opinion)', '(again,', 'Beta58A', 'clearer,', 'stronger,', 'articulate.', 'harsh,', 'but,', 'adjustable', 'tighter', 'rejecting', 'hammer.', 'actually.', 'considerably', 'two,', 'mic!', '58s', 'past.', 'strapped', 'cash', '58.', 'dough', 'confidence', 'boost,', 'Favorite', 'tech.', \"We've\", 'liked', 'before.', 'Our', 'growing', 'reviews.', 'what...', 'anymore', 'Than', 'staple', 'comparative', 'amazing', 'craftsmanship,', 'alleviate', 'associated', '58A,', 'confined', 'utilized', 'demonstrated', 'broader', 'spot', 'completely', 'eliminated', 'severe', 'vocalists', 'pull', 'sustained', 'really,', 'any)', 'notes', 'dream.', 'experiencing', 'sibilance', 'opposed', 'understanding', 'engineering', 'standpoint', 'technical', 'specifics', 'confidently', 'environment.', 'Quite', 'honestly,', 'situations.', 'bottom', 'penny.', 'opportunity', 'chance', 'demonstrate', 'Six', 'stars!', 'Beyond', 'fantastic!', 'standards,', 'known.', 'general', 'tools', 'throughout', 'country', 'commonly', '(with', 'high-end', 'two.', 'response.', 'Your', 'Mids', 'subtle', 'roll-off', 'boomy,', 'hitting', 'close.', 'pickup', 'pattern', 'tight.', 'extraneous', 'effectively', 'tank\"', 'describing', 'earn', 'title.', 'enormous', 'abuse', 'Toss', 'drop', 'etc.,', 'NO', 'maintaining', 'bunch', 'are,', 'what.', 'BOSS', \"(that's\", 'typical', 'tremolo', 'enclosure', 'scared', 'breaking', 'Let', 'saying', 'huge', 'fan', 'Dano', 'lines', 'make.', 'covering', 'needs,', 'IMHO', 'Cool', 'Cat', '$4', 'review).', 'weak', 'link.', 'bypass', 'enclosure,', 'bypass,', 'sturdier', 'inputs', 'knobs,', 'features', 'same.', 'Spend', 'bullet-proof', 'trem.', 'Hey,', 'casings', '(metal', 'plastic),', 'space,', 'versatile', 'done!', 'combo', 'boards,', '(Digitech', 'Boss', 'drying', 'left,', 'Tuna', 'Melt', 'example', 'Danelectro.', 'stunning', 'ability', 'vintage', 'types,', 'dissapointed', 'Lately,', 'improve', 'skills,', 'joy', 'FAB', 'series,', 'hot.', 'Dan', 'Echo.', 'NOT', 'sorry!', 'food', 'best!', 'Hello', 'tour', 'love,', 'hidden', 'it...', 'age', 'thing...', \"i've\", 'pleasure', 'however,', 'housing,', 'input/output', 'board,', 'capo!', 'cover', 'six', 'strings,', 'string', 'd', 'tuning', 'capo', 'upside', 'partial', '(though', 'adjusting', 'strings', 'Christian', 'supporting', 'purchases.', 'capos', 'yours', 'confused', 'Always', 'Kyser', 'Capo,', 'takes', 'lessons.', '(free', 'store.', 'add,', 'move,', 'remove.', 'trigger-type', 'release,', 'easiest', 'quick-change', '(lightweight', 'aluminum).', 'all...', 'easy,', 'takamine', 'jasmine', 'Overall,', 'recommend.', 'Quick', 'suckers', 'wonderfully', 'removable', 'damaged', 'wrong?', 'be...', 'camo', \"capo's\", 'simplicity', 'unique', 'color.', 'friend', 'mine.', 'uke', '&', 'suggests', 'beautiful', 'Capo', 'pressure', 'winding', 'versions.', 'Looks', 'Purchased', '6-string', '12-string', '(slightly', 'longer,', 'stronger', 'acoustics,', 'adjusting.', 'notch,', 'effective.', 'tension', 'Basically', 'squeeze', 'hands', 'favorites', 'hassle', 'design.', 'install', 'remove', 'hurry', \"dosn't\", 'mar', 'finish', 'excessive', 'force,', 'fret', 'headstock', 'allow', 'maximum', 'fingers', 'buzzing.', 'Awesome', 'American', 'Flag', 'guitar!', 'travel', 'lever', 'arm', 'coated', 'neck,', 'tension.', 'Finally', 'compression', 'material', 'supple.', 'caution', 'indent', 'types', 'cumbersome', 'difficult', 'breakable', 'convenient', 'cinch', 'corrode', 'tarnish', 'recommended!', 'Ever', 'Used!', 'protected', 'scratch', 'nick', 'matches', 'Durable,', 'grasp', 'pink', 'strat.', 'Shubb', 'capos.', 'strengths', 'benefits', 'quickest', 'adjustment,', 'second,', 'main', 'Because', 'fretboard,', 'necessary', 'frets,', 'frets', 'faster', 'baby.', 'Easy', 'Thank', 'fully.', 'longevity,', 'Basic', 'Seen', 'capos,', 'capo.', 'adjustable,', 'String', 'Cut', 'transparent', 'job.It', 'colors', 'also.I', 'black,', 'silver,', 'gold,', 'capos.I', 'there!', 'since.', 'children', 'teach', 'lessons', 'treated', 'rough', 'uncomfortable', 'unpleasant', 'hurts', 'fingers.', \"It'll\", 'OK', 'adjustments', 'seated', 'properly.', 'afford', 'originally', 'elastic', 'So,', 'ukulele', 'CAN', 'throw', 'correctly', 'repeat', 'said:', 'adjust,', 'bargain.', 'now...', 'capo,', 'compressing', 'sense.', 'lasts', 'Good,', 'remind', 'strings.', 'favorite.', 'off,', 'for?', 'inexpensive.', 'Capo.', 'says.', 'Change', 'middle', 'song', 'hurry.', 'changes.', 'fit...', 'wonder', 'tightly,', 'tighter,', 'clearly', 'zero', 'buzzing', 'frets.', 'dramatically', 'husband', 'His', 'different.I', 'lazy', 'am.', 'reaching', 'according', 'situations,', 'e.g.', 'sofa', 'room,', 'table', 'floor', 'places,', 'Shubb.', 'won', 'Capos', 'wonderful.', 'lasting', 'backed', 'three!', 'materials.', 'improvement', 'protector', 'behind', 'neck.', 'ages', 'slips', 'surface', 'extended', 'base', 'pivots', 'help.', 'myWashburn', 'Orlando', 'bill', 'stolen.', 'On,', 'mechanism', 'clamps', 'scratching', 'marring', 'arched', 'thingy', 'firmly', 'slipping', 'reposition', 'champ!', \"Amazon's\", 'Instant', 'Order', 'Update', 'November', 'Same', 'Colbie', 'Caillat', 'one!', 'Me!', 'silver', 'sometimes,', 'whatever', 'bar,', 'counter', 'spring.', 'attention', 'placement', 'tell,', 'well..', 'G7th', 'evenly', 'tune,', 'Probably', 'sleek', 'want?', 'awesome.', 'gold.', 'not.', 'yellow,', 'blue', 'deserves', 'robust', 'rounded', 'rounded,', 'all).', 'wrong,', 'minor', 'package', 'jam', 'bux', 'happier,', 'obvious', 'reasons.', 'lovely.', 'silk', 'snug', 'Beautiful', 'nobody', 'steal', 'awesome,', 'bad.', 'Ernie', 'Ball', 'Earthwood', 'instead.', \"Martin's\", 'shallow', 'unlike', 'Ball.', 'taste', 'pain', 'fullest', 'knew', 'electro', '.13', 'much.', 'installed', '8)', 'solos', 'better,', 'Strings', 'GREAT', 'Guitar.', 'none.', 'Martins.', 'light.', 'price!', 'extras', 'sons', 'hard,', 'bank', 'many,many', 'more,', 'PK', 'set,', 'dumping', 'play,', 'wiping', 'Acoustic', 'provide', 'dreadnought', 'heaven', 'sound.The', 'Extra', 'thinner', 'gauges', 'pressure.', '1st', 'rich', 'broke', 'E', 'attempt', 'restringing,', 'luckily', 'packs', 'completed', 'recently,', '4-5', 'tired', 'session.', 'steel', 'acoustic,', 'lighter.', 'Third', 'Pack', 'okay', 'Folk', 'special', 'Tried', 'Gibson', 'Okay', 'folk', 'better!', 'pegs', 're-stringing', 'nicer!', 'saddle', 'bridge', 're-string', 'it...I', 'sore', 'playing!', 'hands.I', 'use.I', 'recommend!', 'strings!', 'restrung', 'finger', 'tips', 'Impressive', '35', 'wipe', 'minimize', 'get.', 'mellow', 'order.', 'Silk', 'Ovation,', 'Then', 'wow', 'impressed.', 'beater', 'So...', 'Ovation', 'time!', 'holder', 'headstock.', 'Boy', 'picture', 'misleading.', 'barely', 'string.', 'wedges', '(maybe', 'top.', 'Stays', 'negative', 'losing', 'dropping', 'picks.', 'sided', 'idea.', 'fun.', 'batch', 'idea', 'pocket', 'strap', 'elsewhere', 'store', 'pick.', 'Further', 'pants', 'pocket.', 'concept', 'moves', 'lightly', 'concluded', '$8.00', 'velcro', 'preferable', 'Fits', 'Easily', 'Has', 'grooves', 'grooves.', 'Pick', 'Holder', 'gadgets', 'everybody', 'misplace', 'gage', 'Christmas', 'stocking', 'stuffers', 'enjoyed', 'friends.', 'gadget', 'guitars.', 'smaller', 'snugly', 'Handy.', 'pictured,', 'Besides', 'anyone.', 'axes.', 'slip', 'acoustics', 'electrics.', 'dislodged,', 'still,', 'majority', 'calls', 'careful,', 'possibility', 'falling', 'click', 'YES', 'helpful', 'encourage', 'writing', 'updating', 'questions,', 'answer', 'wedgie', 'jam,', 'digging', 'pockets,', 'Works!', '5-string', 'bassists', 'fingers,', 'suddenly', '\"pick', 'and...', 'pick?', 'offset', 'tuner', 'pick,', 'indispensable.', 'sticky', 'specially', 'basses.', 'strings.The', 'strings\"', 'through\"', 'design,', 'jackson', 'radically', 'angled', '(They', 'Metal', 'Edition', 'to,', 'properly,', 'Super', 'audiophile', 'affects', 'resonance', 'sustain,', 'attach', 'finish.', 'Me', 'either!', 'Junior', 'lap', 'thumb', 'Wedgie', 'Between', 'nut,', 'admittedly,', 'Liked', 'version).', 'DO', 'AND', \"(haven't\", 'yet).', 'otherwise,', '(real', 'staying', '55', 'years...', 'Starting', 'Wood', 'progressing', 'treat', 'Les', 'Paul', 'birthday', 'financial', 'shopped', 'settling', 'Cherry', 'Burst', 'condition,', 'smooshed', 'tune...', 'dial-in', 'brought', 'put,', 'settle', 'together,', 'spent', 'hours', 'height,', 'intonation,', 'distances,', 'LP', 'mid-range', '$$$', 'kids', 'Two', 'Thumbs', 'Up', 'Mustang', 'Selection', 'describe', 'present', 'learn', 'She', 'price!!!', 'beautiful!', 'amazing.', 'perimeter', 'sunburst', 'paint', 'mounts', 'underside', 'body.', 'apparent', 'weird', 'shape', 'wood', 'grain', 'match', 'joint', 'glued', 'different,', 'assumed', 'Glue', 'tendency', 'area,', 'some.', 'disappointing', 'unexpected', 'reflection', 'visit', 'examine', 'remaining', 'versus', 'instrument.', 'comfortably', 'strap,', 'sitting.', 'peg', 'slightly,', 'down,', 'investing', 'straplock', '&#34;real&#34;', 'do,', 'practical', 'pickup.', 'adjustment', 'saddles', 'impossible', 'hardware.The', 'decent,', '(although', 'pictured', 'one),', 'scale', 'Note:', 'characteristic', 'indicate', 'Though', 'sight', 'unseen.', 'variety', 'lifetime.', 'wife', 'gift.', 'beautiful.', 'pictures', 'justice.', 'incredible.', 'harmonics.', 'tones', 'warm.', 'pickups', 'blues', 'metal.', 'heartbeat.', 'bet,', 'collection,', 'epiphone.', 'Squier', 'research,', 'reading', 'checking', 'store,', \"one.It's\", 'Squier,', '(but', 'buzzy', 'suspect', 'adjusted,', 'clue', \"it.It's\", 'women.', 'woman,', 'smaller.', '$500.', 'upgrade', \"You're\", 'Ready', 'Second', 'owning', 'lightweight,', 'Pauls', 'tried,', 'VERY', 'REALLY', 'Alnico', 'itself,', 'incredibly', \"ol'\", 'care,', 'wonder,', '\"real\"', '$800', '$1000', '(after', 'estimate', '1000', 'fretting', 'stars;', '$200', 'learning,', '\"practice\"', 'axe', 'First', '(over', 'pleasant', 'surprise.', 'Gibson,', 'Epi', 'instead,', 'combination.', 'feel,', 'tuning.', 'Unlike', 'others,', 'Replaced', '\"Not', 'harmonics,', 'warm,', 'superb', 'thrash', 'versatile.', 'jazz,', 'to.The', 'width', 'thick.', 'guard', 'tan', 'cream', 'color,', 'description,', '$500', 'list', 'instrument,', 'hesitate.', 'Well,', 'earlier', 'U', 'bet', 'padded', 'Initially,', 'flaws.', 'print', 'anywhere!', 'butter.', 'slim', 'jumbo', 'thought.', 'imagine', 'weighs', 'way.The', 'maple', 'art', 'hardware', 'Duncan', 'pickups.', 'had.', 'floats', 'LP-100', 'Guitar,', 'Vintage', 'Sunburst', 'Amp,', '(fits', 'glove)', 'Lock', 'Leather', 'Strap', 'Rocksmith', '2014.', 'household', 'Sweet', 'Through', 'Waited', 'reviewing', 'les', 'paul', 'shape.', 'Played', 'Was', 'nervous', 'online', 'sticks', 'major', 'chances.', 'Anyway', 'shipping,', 'sales', '$80', 'gas', 'savings', 'tax', 'v2', 'epiphone', 'site', 'states', 'include', 'forum', 'disappear', 'customer.', 'mention', 'did.', 'fantastic.', 'condition.', 'rep', 'Trust', 'leaving', 'gig.', 'aout', \"don't.\", 'it!!', 'BUY', 'IT!!', 'traded', 'returned.', 'town', 'fully', 'fun', 'EASILY', 'prettier.', 'overall', 'amazing,', 'ballsy', 'IS', 'LP.', 'Special', '=', 'AWESOME', 'packaged', 'adjustments.', 'locks.', 'editing', 'previous', 'dial', 'edited', 'appreciate', 'own.', 'Sorry', 'knee', 'jerk', '(again)', 'fairness', 'day,', 'professionally', 'go.', 'comparing', 'apart.The', 'baby', 'Epiphone.', 'Dollar', 'dollar', 'admit,', 'edge', 'think.', 'outstanding', 'regardless', 'blindfolded', '$149', 'ever!', 'Paul.', 'classic', 'honest,', 'LOT', 'Gibson.', 'ding', 'proudly', 'OWN', 'amazed', 'charge.', 'low.', 'PLUS,', 'guitars..', 'pickguard', 'way.If', 'established', 'shocked', 'plays.', 'Sure', 'height', 'Damn', 'hundreds', 'thousand', 'e', 'g', '11', ',if', 'kick', 'II', 'written', 'positive', 'review.', 'favorites.', 'Dean', '$150.', 'electric/acoustic', 'ukelele', 'later.', 'sell', 'fool', 'polished', 'ebony', 'tuners.', \"LP's\", 'boat', 'anchor', 'few.', 'repairs.', 'comfy', 'll', 'resale', 'mess', '2011)', 'leveling', '(would', 'truss', 'rod', \"10's\", 'bridge,', 'nut', 'character,', 'cranking', 'backing', 'tracks.', 'sweep', 'knob', 'sweep,', 'popped', 'pots,', 'normally', 'broken.', 'Yup,', '\"on', 'guitars\"', 'keeping', 'comfy,', 'shoulder', 'thank', 'tuners', 'backlash', \"ain't\", 'Please', 'note', 'binding', 'nut.', 'work,', 'bolt', 'deadens', 'bit,', 'transfer', 'IMO.', 'corners', 'tweaking.', 'yours.', 'vs', 'ratio', 'special.', 'yourself,', 'Oh', 'guitar?', 'ups', 'terrible', 'replacing', 'willing', 'shaking', 'disbelief', 'Replace', 'tune.', \"D'Addario\", 'cured', 'them).', 'technically', 'chords', 'playable', 'rattled', 'bridge.', 'intonate', 'ridiculous', 'angle.', 'Yes', 'electric,', 'slot', 'playable.', 'cards', 'shim', 'removed', 'ons', 'horrid', 'staring', 'sticker.', 'Must', 'Friday', 'afternoon', 'w/', 'Duncans', 'Dimarzios.', 'sub', 'par', 'horrible', 'wax', 'pups', 'hesitate', 'mainly,', 'quality;', 'Otherwise', '$299', 'Stars,', 'assume', 'shopping', 'category', 'rate', 'instrument.I', 'shortcomings', 'Pauls,', 'four,', 'famous', 'planning', 'anyone,', 'you?', 'advised', 'focus', 'developing', 'skills', 'honing', 'technique,', 'fussing', 'anyway.The', 'appearance', 'surprisingly', 'surprise', 'component', 'integral', 'quality.As', 'finish,', 'variation', 'both,', 'draw', 'whether', 'Monday', 'weekend', 'reasons,', '(nor', 'inspect', 'buying,', 'shy', 'bring', 'late', 'change.', 'shops', 'compete', 'Internet', 'intonation', 'high,', 'commented,', 'immediately.', 'asked', 'luthier', 'tuners,', 'incentive', 'steer', 'assured', 'box,', 'installed,', 'close,', 'shopping,', 'foray', 'electric.', 'tempted', 'expensive,', 'theory', 'anyway.', 'thing,', 'enjoy', 'toy-like', '2-3', 'tastes', 'road,', 'option.', 'Had', 'model,', 'locked', 'LINE:', 'range,', 'locally', 'right,', 'ply', 'capped', 'real,', 'plywood', 'epi', 'build,', 'lp', 'toggle,', '45%', 'meaning', 'hole', \"o'clock\", 'junk', '10$', 'minute', 'here.And', 'fill', 'nail', 'polish', 'style,', 'involved', 'disagree', 'woods', 'beginners', 'bugs', \"that.It's\", \"they'll\", 'some...', 'demands', 'wiring,', 'But...', 'orange', 'heavier', 'preference.', 'awesome!', 'wants', \"Freakin'\", 'Studio', 'deluxe', 'years.I', 'bullet', 'couch', 'rocksmith', 'with.', 'wore', '$130', 'kicked', 'killer', 'Zakk', 'Wylde', \"81/85's\", 'bluesy', 'Imagine', 'delight', 'playability.', 'Bullet', 'literally', '$150', 'passive', 'humbuckers', 'glossy', 'highs,', 'lows,', 'distorted', 'dipped', 'tuner.', 'loosened', 'string,', 'stayed', 'oily', 'flush', 'gaps', 'orientation', 'trees', 'Individual', 'intonated', 'nuts,', 'raise', 'toggle', 'Lots', 'housings', 'Makes', 'smooth,', 'buffing', 'silky', 'top,', 'hex', 'awsome', 'blocks,', 'built,', 'deeper', 'Affinity', '(2', 'styles', 'blues,', 'metal,', 'country,', 'pop.', 'darker', 'Fender,', 'bell', 'chime', 'Epiphones', 'Gibsons', 'palm', 'mute', 'gain.', 'pinky', 'knife', 'hit', 'Strats', 'damn', 'experiment', 'pole', 'happened', 'lower,', 'coil.', 'in.I', 'yeah', 'tapping', 'EMG', 'little,', 'attractive', 'beginner', 'guitarist,', 'please', 'worth.', 'pleased,', 'cherry', 'center', 'shown', 'picture.', 'See', 'tuned.', 'rhythm', 'accidently', 'strumming.', 'caught', 'novice.', 'BEWARE', 'statement', 'is:', 'addicted', 'receives', 'sale', 'season', 'expectations', 'frankly', 'poor', 'polar', 'unboxed', 'wild', 'stock,', 'suffer', 'disappointment', 'heads', 'ship', 'drums.', 'guitarists', 'drummers', 'heads.', 'restring', \"withD'Addario\", 'Chromes', 'Flat', 'Wound', 'Strings,', 'Light,', 'thick,', 'flatwound', 'appeared', 'novice', 'invested', 'Hardshell', 'uploaded', 'photo', 'page', 'shows', 'record,', 'following', 'reviewed', 'Defender', 'Class', 'x', 'Extension', 'Cabinet', 'experienced', 'players.', 'shore', 'improvements', 'year.', 'playability', 'playability,', 'trunk', 'called', 'session,', 'gear.I', 'Strat,', 'soooo', 'banged', 'finishes,', 'G', 'arrived.', 'intonation.', 'Notes', '12th', 'sharp,', 'missed', 'vital', 'Setup', 'finished,', 'reviewers.', 'dust', 'collector,', 'particularly', 'squier', 'strat', 'kid', 'serious', 'wanting', 'tele.', '1,', 'anymore,', 'resell', '(as', 'lost.', 'Second,', 'Mexican', 'strats', 'still.', 'essentially', 'consideration', 'universal', 'marks', 'persuaded', 'regret', 'beauty.', '(My', 'China,', 'account', 'heft', 'lowered', 'unplugged.', 'made!', 'Tak', 'Jasmine', 'Jay', 'Turser', 'book', 'initial', 'impression', 'mixed.', '\"off\"', 'scales', 'fro', 'rear', 'front', 'BANG', 'WOW', 'AMAZING!', 'sat', 'bit.', 'love.', '(despite', 'to).', 'appreciated.', 'Tuning', 'breeze,', 'retune', 'session', 'anyway).', 'capture', 'economy', 'humbuckers,', 'construction,', 'headstock,', 'mahagony', 'rosewood', 'spinning', 'pickups)', 'tail', 'gonna', 'breeze', 'thread', 'thru', 'oh', 'bed,', 'morning', 'discount', 'price-', 'answer.', 'FREE', 'Amazing', 'sound...nice', 'Wow,', 'Holy', 'Grail', 'house.', 'ran', 'UPS', 'man', 'truck', 'thrilled', 'Center,', 'toy,', 'person,', 'beautiful,', 'elses', 'Amazing!!!', 'monthly', 'loved', 'fingertips.', 'charm', 'excuse', 'damaging', 'mm', 'Tele', 'Takamine.', 'seat', '&#34;down', 'blame', 'sure.', 'wont', '(If', 'Wonderful,', 'circuit', 'breaker', 'rope.', 'worth,', 'owned,', 'expert.', 'works,', 'adequate', 'gauge.', 'Try', 'yourself!', 'Update:', 'month,', 'warranty,', 'refund.', 'Waves,', 'AMAZON', 'DOES', 'EXCHANGE', 'PLANET', 'WAVES', 'policy.', 'referred', 'emailed', 'dealer', 'exchange.', 'miles', 'home,', 'through,', 'becoming', 'unusable', 'resolve', 'frequently', 'quietly.', 'G&H;', 'unplugging', 'stiffer', 'coiling', 'storage', 'keeper', 'imagined.', 'thought,', 'cab,', 'dynamics.', 'alive', 'etc).', 'exchange', 'PW', 'swap', '**', 'AS', 'YOU', 'WILL', 'THROUGH', 'noiseless', 'feature', 'priceless.', 'Quality!', 'footer', 'Awesome!', 'user', 'not.The', 'grip.', 'extending', 'flow', 'end).', 'lie', 'flex', '(e.g.', 'do).', 'claim', 'older', 'likes', 'disconnect', 'Circuit', 'Breaker', '3-4', 'space.', '\"boutique\"', 'chorus', 'loads', 'way.', 'forever,', 'incredible,', 'ultimately,', 'want.', 'units,', 'Been', 'complains', 'pedalboard.', '(no', 'pedal,', 'capable', 'Here', 'Tweak', 'thicken', 'effect.', 'fatten', 'Dime', 'speed', 'depth', 'effects.', 'cleans', 'leads.', 'parts', 'Sunday', 'Slayer', 'nuts.', 'Chorus', 'playing,', 'features,', 'battery', 'compartment,', 'accepts', '9v', 'supply,', 'bass,', 'puts', 'desired,', 'control.', 'HAVE', 'pedal!', 'chorus,', 'CE3', 'favorite,', 'weak,', 'control,', 'anyway', 'keeper!', 'CH-1', 'rely', 'tests', 'road.', 'Ibenez', 'songs.', 'upgraded', 'boards', 'unit', 'collection.', 'tonal', 'superiority', 'unit.', 'boast', '40+', 'tones!', 'money!', 'sustainer.', 'Sustainer', 'posters', 'mentioned,', \"pedal'.\", 'notes.', 'sustain.', 'gate.', 'NS-2', 'said,', 'uses.', 'softly', 'Again,', 'THIS', 'compressor', 'compressors,', 'messing', 'incredible', 'funk,', 'vibes', 'Man', 'perfect!', 'cs3', 'thinks', 'independent', 'bcuz', 'PERFECT,', 'this!', 'CS3', 'results,', 'Line6,', 'MXR,', 'Behringer,', 'Digitech,', 'alternate', 'stands', 'configurations,', 'compressor,', 'configure', 'luck.', 'Compressor', 'Those', 'compliments', 'equally', 'CS-3', 'Compression', 'know.', 'true,', 'hobbyist', 'Sustainer,', 'contemplated', 'gate/suppressor,', 'NS-2.', 'Problem', 'latter', '(changes', 'LIKE', 'results.', 'extremes', 'muddy,', 'TONE', 'default', 'viewed', '\"budget\"', 'level\"', 'compressors', 'Keeley', 'north', '$200.', 'similarly-priced', 'MXR', 'biggest', 'resulting', 'paired', 'delay,', 'Ultimately,', 'quest', 'expand', 'Pedals', 'toss', 'closet', 'G&L;', 'Legacy', 'guitar)', 'volumes.', 'board...', 'Tuner,', 'Digital', 'Delay', 'Line', 'Switch', 'Direct', 'Box', 'attitude', 'some!', '\"On\"', 'Stratocaster', 'styled', 'Unit', 'Guitarists', 'concerned', 'endless', 'unable', 'gigging', 'am,', 'subtle,', 'detailed', 'nuances', 'obsess', 'mix,', 'ourselves', 'inspiring,', 'frankly,', '$200+', 'distortion/OD', 'DS-1', 'Frankly,', 'forgotten', 'minimum', '(it', 'clean)', 'overdrive', 'through.', 'jazzmaster', 'themselves', 'halfway', 'crunch.', 'maxed', 'definition', 'chords.', 'Sure,', '\"old', 'school\"', 'distortion.', 'appeal', 'caveat', 'maybe.', 'Combine', 'eq', 'scoop', 'mids', 'Barber', 'LTD', 'moderate', 'OD', 'Visual', 'tubescreamer', 'clone', 'gain)', '66', 'TS9', 'hump,', 'refreshing', 'realm', 'tubescreamer,', 'sit', 'flavor', 'party.', 'bright,', 'indicated', 'coils,', 'finding', 'spots', 'modtone', 'bulletproof', 'tool.', 'pedal?', 'miracles.', 'state', 'raging', 'Orange', 'coils', 'arguing', 'painters', 'sense,', 'ample', 'Youtube', 'trigger.', 'Steve', 'Joe', 'Kurt', 'brick', 'get-out.', '$20,', 'fair.', 'buffered', 'verge', 'breakup', 'sustainer', 'Tech', 'Marshall', 'distorts', 'fat', 'Valve', 'Jr', '2x12', 'stack', 'Champ', 'pedal.This', 'does.', 'knob,', 'knob.', 'IT.', 'overdriven', 'element', 'fray.', 'odd', 'counting', 'up!', 'high-gain', 'insane', 'crunch,', 'want!', 'distorts,', 'junk,', 'boutique', 'Distortion', 'Hendrix', 'Boutique', 'last,', 'kidding),', 'distortion,', 'dirty', 'girl.', 'harsh', 'style.', \"80's\", 'punk', 'wanted,', 'tinkering', 'transition', 'matching', 'DS-1.', 'BOSS,', 'elsewhere.', 'sort', 'wise,', '$40', 'Tex-Mex', 'captures', \"Gilmour's\", 'smoking', '$40.', 'sings', 'powered', 'Schecter', 'dialed', 'end.The', 'universe', 'raves', 'mod', 'entitled', '\"For', 'further', \"product's\", 'disagree.', 'distortions', 'less,', 'talks', 'cheap!', 'snapped', 'Come', 'Nickelback,', 'movie', 'family,', 'thin,', 'artificial', 'noisy.', 'Frontman', '100w', 'Japanese', \"DS-1's\", 'Taiwan', 'newer', 'players,', 'distortions,', 'shops,', 'can,', 'writing,', '$75', 'Amazon.com,', 'DS-2', 'Distortion:', 'Lest', 'flames', \"(I'm\", 'not,', 'TU-3,', 'others)', 'brother.', 'nicer', 'distinct', 'modes.', 'DS-1,', 'brighter,', 'richer', 'ebay', 'prices.', 'worthy', 'unfortunately', 'overlooked', 'Co', \"You've\", 'thousands', 'guitarists.', 'rich,', 'gains', 'fuzzy.', '\"big', 'amp\"', 'headroom', 'crank', 'Little', 'Big', 'Muff', 'fuzz,', 'owns', 'sonic', 'territory.', 'big,', 'saturated', \"70's\", 'tones,', \"90's\", 'tons', 'grunge', 'garage.', 'Carlos', 'Santana', 'David', 'Gilmour', 'Smashing', 'Jr.', 'personally', 'reccomend', 'Muff,', 'recent', 'NYC', 'reissue,', 'smaller,', '+', 'Whats', 'anything,', 'transparent,', 'i.e.', 'folks,', 'Randy', 'Rhoads', 'guitarist)', 'Jones', 'Make', 'Metal,', 'traditional', 'Basically,', 'pre-amp', 'virtually', 'coloration', 'tone)', 'between.', 'unbelievably', 'bypass.', 'Danelectro', '$30.', 'gem', 'JF-03', 'Crunch', 'supposedly', 'MI', 'Box,', 'so,', 'boy', 'succeed', 'gain,', 'modeling', '(very', 'in),', 'shipped,', 'Joyo,', 'MOEN,', 'Chinese', 'floored', 'shockingly', 'tag', '(especially', 'Fuzz', 'od,', 'arms', 'NONE', 'America,', 'suggestions', 'YouTube', 'demos', 'do.I', 'suits', 'subjective,', 'share', 'opinions', 'okay.', 'posting', 'lengthy', 'information.', 'PLENTY', 'Find', \"Here's\", 'Badass', 'Beware', 'expert', 'adjust', 'echos', 'Honestly', 'pipe', 'distorted.', 'enable', 'boss', 'ds-1', 'remains', 'image', 'no-frills', 'pedal;', 'nuclear', 'blast', 'Michael', 'stepping', 'punishment', 'it.This', 'replicate', 'aspect', 'complex', 'dynamic.', 'grind', '15-watt', 'further.', 'elsewhere,', 'for,', 'hum,', 'shrill', 'Inexpensive', 'JCM', 'them.This', 'boost.', 'understood.', 'pedals).', '(apparently)', 'lacks', 'cranked', 'Vox', 'humbuckers.', 'dials', 'richer,', 'ideal', 'either,', \"everyone's\", 'elite', 'Tube', 'Screamer.', 'Screamer', 'stand-alone', \"here's\", 'modifications', 'Keely,', 'Monte', 'mediocre', 'dripping', '$30', 'materials', 'mod,', 'modified', 'Allums', 'Rectifier', 'killer.', 'well-built', 'platform', 'great-sounding', 'mods,', 'decades,', 'but.....', 'know,', 'calling', 'because,', 'difference.', 'Bad', 'Monkey,', 'Truly', 'humbucking', 'HardWire', 'TL-2', 'instead;', '(an', 'achieved', 'setting.', 'achieves', 'old-time', 'brief', 'period', 'wannabe', 'produces', 'interested.', 'anymore.', 'Honestly,', 'essential', 'headphones', 'extension', 'knowledge.', 'rock.', 'Again', 'importantly', 'Initially', 'wished', '(OCD', 'closing,', 'wishing', 'bags', 'sucks', 'do)', 'moderately', 'tweak', 'leads', 'rhythms', 'though!', 'mention,', 'modded', 'Any', 'mods', 'improving', 'parametric', 'metal/hard', 'music,', 'punch', 'overdrive,', 'cleaner', 'death', 'styles,', 'anyhow.', 'ive', 'rock,', 'general.', 'drains', 'understand', 'why.', 'explanation', 'wouldnt', 'drain', 'TURNED', 'ON.', 'AC', 'batteries.', 'iv', 'pedals...', 'regularly', 'Instead,', 'be.', 'sculpt', 'solos.', 'Pantera', 'eq.', 'adjusted.', 'crunchy,', 'sometime', 'crunchy', 'recomend', 'anyone...', 'introduce', 'battery,', 'Metallica', 'pickups,', 'peavey', 'blows', 'website,', 'forgive', 'BY', 'FAR', 'Several', 'mutes', 'blend', 'offering', 'unlimited', 'combinations.', 'AMAZING', 'BEST', 'PEDAL', 'tubes', 'Randall', 'hybrid', 'destroys', 'heard.', '5150', 'sweet.', 'Tubes', 'felt', 'DOD', 'downside.', 'AM', 'radio,', '$250.', 'MT-2', 'using.', 'blown', 'tones.', 'tweakable', 'load', 'Read', 'book,', 'MP3s', 'videos', 'settings.', 'tame', 'dealers', 'shaping', 'fuzz.', 'dialing', 'rig.', 'Within', 'harder', 'response.I', 'investment', 'Surely', 'cheaply', 'grit.', 'panel', 'versatile,', 'cigar', 'preserve', \"EQ'd\", 'sites', 'popular.', 'MD-2', 'HM-2', 'IMO', 'strictly', 'circles', 'zone', 'Versatile', 'Friend', 'both.', 'always,', 'ton', 'variations.', \"o'clock,\", 'simple,', 'also,', '100%', 'died.', \"Boss's\", 'produced', 'nasal', 'liking.', 'OS-2', 'pleasently', 'produced.', \"'59\", 'bassman', 'player.', 'OD,', 'output,', 'mean,', 'Great,', 'freaking', 'rocks!', 'LOVE', 'drawn', 'arrives', 'footswitch', 'are.', 'asymmetrical', 'clipping', 'fills', 'niche', 'engaged,', 'looser', 'dirtboxes', 'singing,', 'harmonic', 'engaged', 'hissy', 'muting', 'dirtbox', 'hoarder', 'rotate', 'V1', 'Clone', 'very,', 'Blues', 'mild', 'crunch', 'City', 'Combo', 'Palomino', '(IMHO)', 'saturation', 'YMMV.', 'Boss.', 'owned.', 'half.', 'Sharp', 'Cutting', 'low,', 'reliable.', 'yrs', 'died', 'back.', 'ever.', 'Smooth', 'Plus', 'potential.', 'Recommended.', 'Telecaster', 'below', 'iconic', 'forever', 'valve', 'yellow', 'Drive', 'tough,', 'fire,', '$50', 'seriously', 'Yellow', '.', 'SD-1', 'Overdrive', 'guitarists,', 'aggressive,', 'frustrating.', 'formed', 'impressions', 'Boss,', 'unfair', 'widely', '(usually', 'ways', 'TS-9', 'Tubescreamer,', 'Tubescreamer', 'reissue', 'truth', 'transparency', 'versatility.', 'channel.', 'stacking', 'turning', 'Level', 'grit', '\"it', 'And,', 'MORE', 'retaining', 'elements', 'TS-9,', 'entirely', 'come.', 'abuse,', 'Mega', 'Distortion,', 'Joyo', 'Ultimate', 'purpose,', 'booster,', 'said.', 'solos,', \"it'll\", 'Marshally', 'whatever.', 'Remember,', 'SD-1,', 'merely', '\"very', 'relative', '$45', 'Amazon.', 'amazingly', 'overdive', 'itself).', 'ride', '(like', 'pedal).', 'overdrive.', 'dash', 'chorus.', 'single-coil', 'double-coil', 'surprisingly,', 'humbucker.', 'gem!', 'Forget', 'comments.', 'miniature', 'novelty', 'thrown', 'dress', 'slow', 'ballads,', 'background', 'variance', 'EXCELLENT', 'Tremolo', 'Pair', 'beauty', 'Electro-Harmonix', 'Cathedral', 'Reverb', 'cost!', 'tremelo', 'pedal.It', 'correctly,', 'pulsing', 'waveform', 'sharper', 'edged', 'varies', 'eats', 'batteries', 'clicking', 'hiss,', 'compartment', 'accessed', 'unplug', 'dig', 'school,', 'Deluxe', 'Teles,', 'organic', 'warmth,', 'rotary', 'tempo', 'organ', 'pedal:', '[1]', '[2]', 'Further,', '[3]', 'utterly', '[4]', 'operation,', '[5]', 'tremolo.', '(Note:', 'pay,', 'tremolo,', 'product;', 'prize.', 'regrets.', 'Superb', 'TR-2,', 'Twin', 'TR-2', 'simplest', 'operate,', '\"Rate\"', 'modulation,', 'modulation', '(how', '\"Wave\"', 'square,', 'continuum', 'between).', '\"playing', 'reviewer', 'versatility,', 'tremolos', 'crazy.', 'classics', '\"How', 'modulations', 'clicky', 'units.', 'military', 'dark', 'green,', 'factor', 'adapter,', 'must.', 'supply', 'Line:(1)', 'Gives', 'casing', 'Wanted', 'ME70', 'alternative', 'mini', 'battery.', 'performance.', '(less', 'pricy', '$$', 'runs.', 'Honeytone', 'candy.', 'adaptor,', 'Echo', 'echo', 'simulator.', 'eat', 'voltage', 'Ego', 'comp', 'drained', 'decades.', 'exceptionally', 'quiet,', '9.6', 'volts,', 'alkaline', 'current', 'reminds', 'driving', 'tubes,', 'of,', 'ones.', 'released', 'well-made', 'wall', 'wart', 'title,', 'advertised,', 'functioned', 'off-brand', 'risk', 'ruining', 'Danelectro/FAB', '9-volts', 'candy,', 'solution.', 'Spot', 'Multi-Plug', 'pedals!', '9-volt', 'This...', 'multi', 'godlyke', 'pack.', 'compatible', 'mouse', 'wah', 'Morley', 'Vai', 'hell.', 'broke.', 'achieve', 'cry', 'retailer', 'babies', 'Hendrix,', 'Classic,', '535Q', 'GCB-95', 'Wah', 'Crybaby', 'ie', 'treble', 'wheel', 'wahs.', 'concerts', 'messin', 'Fun', 'king', 'original.', 'imagined,', 'be!', 'wah!', 'MY', 'crybaby', 'overbearing', 'BUT', 'switch,', 'watched', 'stomping', 'futile', 'engage', 'disengage', 'pedal.I', 'BBE', 'wah.', 'headache', 'VOX', 'will.', 'accentuated', 'Mod', 'finest', 'exist.', 'Dunlop', 'Original', 'go,', 'Cry', 'gift', 'personalize', 'Buy,', 'packaging,', 'delivery', 'Everything', 'Baby', 'covers', 'Cream', 'maintenance', 'licking', 'on....', 'tank.', 'version,', 'frequency.', 'middle,', 'wah,', 'experience,', 'equivalent', 'models.', 'petal', 'kind.', 'petal.', 'possibilities', 'fuzz', 'CAE', 'Hot', 'Nothing', 'Eddie', 'Van', 'Halen,', 'Satriani', 'GT-10', '(guitar', 'processor)', 'Patches', 'James', 'Limborg.', 'Search', 'Google', 'funk', 'heads,', 'weak.', 'Morley,', '\"I', '\"You', 'hearing', 'fresh', 'today,', 'LONG', 'young', 'mom', 'it!The', 'heel', 'kills', 'pump', 'drop.', 'toe', 'steps', 'inconvenient', 'rapidly', 'THERE', 'stone', 'issue,', 'slam', 'Tremonti', 'use!', 'Power', 'processor.', 'thats', 'matters.', 'sensitivity,', 'easily.', 'presets', 'them)', 'more.If', \"child's\", 'stellar', 'powering', 'unified', 'sense', 'unit,', 'leading', 'shorts.', 'shorts', 'deaf', 'flat.', 'ALL', 'WAY', 'fault', \"Dunlop's\", 'surely', 'legend', 'lives', 'on...', 'makes.', \"60's.\", 'have,', 'master,', 'mastered', 'level.', 'Classic!', 'Too', 'eq,', 'add-ons', 'Jimmy', 'incarnation', 'acknowledge', 'repair', 'afterwards.', 'unusable.', 'suspected', 'shot,', 'replaced,', 'it.Good', 'hopefully', 'Durability', 'Issues', 'showing', '12-string.', 'adjusted', 'convenience', '12-String', '6th', 'CC245', 'holds.', 'Caps', 'Are', 'An', 'hair', 'area', 'ridges', 'Absolute', 'necessity', 'ukulele.', 'park', 'ukulele,', 'trigger', 'portion', 'Trigger', 'Banjo', 'Black.', 'eligible', 'Prime.', 'UPDATE:', 'Free', 'Prime', 'uke.', 'way...', 'locally.', 'Mandolin', 'easy.', 'Fit', 'Ukulele', 'Costs', '2x', 'THis', 'clip,', 'tenor', 'necks.', 'won;t', 'profile.', 'Made', 'thing:', 'ways.', 'Russell', 'fretting.', 'opposite', 'lifelong', 'ukes.', 'hands,', 'ya.', 'Happy', 'wow,', 'ukes', 'mandolins', 'banjos', 'swear', 'Baritone', 'Ukulele.', 'case,', 'cute', 'mandolin', 'small.', 'correct', 'mandolin,', '3rd', '4th', 'mandolin.', 'fretboard', 'action.I', 'Taylor', 'banjo', 'defective,', 'decades', 'stringed', 'broken,', 'seconds', 'fussy', \"'just\", \"right'\", 'song.', 'talking', 'bluegrass', 'fingering', 'squeezing', 'End', 'seperate', 'Kyser.', 'US', 'Cadillac', \"Kyser's\", 'banjo.', 'buzz.', 'Nicely', 'snark,', 'strap.', 'Plus,', 'bag,', 'trim', 'front.', 'More!', 'remove,', 'satisfied.', 'Straplocks', 'particular,', 'Why?', 'installed.', 'Laguna', 'straps', 'spares', 'discs.I', 'version),', \"1990's,\", 'Dunlop,', 'sorta', 'bulky.', 'scare', 'piss', 'washer', 'gripped', 'balls', 'slip,', 'ruin', 'worried', 'about,', 'shouldnt', 'bodied', 'SG', 'Custom', 'Start', 'tell.', 'SG,', 'yes,', 'originals', 'drilling', 'explained', 'wasnt', 'drill', 'welll', 'made..', 'protruding', 'dunlop', 'dropped', 'boys.', 'confident', 'release', 'Life', 'saver', '(once', 'Schallers', 'goofy.', 'C', 'clamp,', 'thickness.', 'safer', 'loaded', 'jumping', 'Prefer', 'charm!', 'Glad', 'Work', 'detach', 'whenever', 'option', 'installation', 'solid.', 'buttons', 'mishap', 'em', 'minutes.', 'BC', 'Rich', 'directions', 'lube', 'bar', 'soap', 'though)', 'comming', 'undo', 'retainer', 'reward', 'hardware.', 'poor.', 'directions,', 'mechanical', 'knowledge', 'rocket', 'function,', 'replaces', 'posts', '3/4', 'Full', 'Squire', 'Acoustic,', \"Strat's.\", 'Simple,', 'receiving', 'theDunlop', 'Design', 'Straplok', 'liking', 'installing', 'perfectly.I', 'nor', 'installation.', 'Money', 'accidentally', 'safety', 'convenience.', 'inclined', 'seek', 'questions.', 'wantto', 'set.', 'Helps', 'June', '2014', 'trouble', 'happens.', 'Straploks', 'Good:', 'install,', 'Schaller', 'removal', 'clipped', 'numerous', 'system.', 'security', 'straps.', 'fighting', 'stubborn', 'leather', \"instrument's\", 'Locking', 'system!', 'beats', 'fixing', 'cracked', 'falls', 'Yeah,', 'item,', 'Jim', 'Dunlop.', 'minutes,', 'stood', 'straploks', 'amazing!', 'safe', 'adhesive', 'date', 'Going', 'straplocks', 'these!', 'competition.', 'bearings', 'Working', 'work!', 'ensure', 'freely', 'post,', 'schaller', '(see', 'below)', 'experience.', 'family', 'bassist', 'continual', 'periodically', 'unscrewing', '60th', 'Anniversary', 'P-Bass...not', 'weekend.', 'friction', 'results', 'tab', 'screwed', 'applying', 'soap,', 'petro', 'jelly,', 'dry', 'lubricant....', 'prevented', 'ultimate', 'forces', 'phenomenon.We', 'Shallers', \"we're\", 'tolerate', 'distruptions', 'caused', 'Superior', 'Dont', 'Straplock', 'prior', 'Dunlops,', 'past,', 'semi-permanently', 'manner', 'impractical', 'whim.', 'contrast,', 'existing', 'holes,', 'slap', 'pinch,', 'OEM', 'basses', 'Jackson', 'twenty', 'min', 'removing', 'stomach', 'Problems', 'receiver', 'forced', 'Cheap.', 'them.For', \"Schaller's.\", '10+', 'fail.', 'tug', 'struggled', 'do?', 'biggie.', 'follows', 'flaws', 'bother', 'minimal', 'aligned', 'driver', 'afraid', 'later,', 'Engineering', ':', 'recommend,', 'Phillips', 'screwdriver.', 'choose', 'grinding', 'screwdriver', 'increase', 'impact', 'radius', 'inch.', 'lateral', '3x', 'leverage', 'outward', 'screw.', '9', 'pound', 'constant', '27', 'pounds', 'course).', 'total', 'people.', '1\"', 'stainless', 'Note', 'closest', 'modified.', 'cents', 'stores,', 'bulk', 'in)', 'rotating', 'drill.', 'Run', 'file', 'sander', 'fraction', 'each.', 'normal,', 'brand!', 'Disappointing', 'tells', 'considerable', 'surrounding', 'wood,', 'cracks', 'selling', 'buttons,', 'Elliptical', 'shoulders,', 'Sorry,', 'big.', 'pronounced.', 'locks,', 'undoing', 'aesthetic', 'elegant.', 'wearing', 'purple', 'platforms', 'cool.', \"Levy's\", 'manage', 'Tight', 'snap', 'Sturdy.', 'convenient,', 'prized', 'spent!', 'strip', 'recall', 'fixes', 'System', 'maintenance.', 'disadvantage', \"Schaller's\", 'measurably', 'farther', 'inconveniences.', 'Hofner', 'support.', 'elegant', 'service,', 'competitors.', 'System,', 'Small', 'Installed', 'them!', 'worrying', 'player!', 'google', 'pliers', 'life.', 'knock', 'renders', 'useless.', 'clam', 'clips', 'slipped', 'taped', 'warehouse', 'somewhere.', 'with)', 'integrity.', 'Washburn', 'Incredible', 'spin', 'holder.', 'ripped', 'horn', 'tore', 'epoxy', 'provided.', 'Attach', 'BAM', 'reinforced', 'eye', 'lightweight', 'tear.', 'straps.I', 'DiMarzio', 'happy,', 'straplocks.', 'heavy)', 'boot.', 'Folks,', 'insurance', 'quickly.', 'downside', 'Which', 'hiccup', 'readily', 'HIGHLY', 'w/o', 'boring', 'cracking', 'process.', 'F', 'slowly', 'disaster.', '\"regular\"', 'mechanism.', 'these.I', 'careful.', 'strip.', 'installation,', \"Fender's\", '32', 'mileage', 'watch', 'anywhere', 'shipping.', 'Quality,', 'delivery.', 'Center.', 'Grovers', 'owe', 'Ok', 'axes', 'fav', 'convincing', 'undone', 'solved', 'check,', 'release.', 'rock-solid', 'install.', 'Jazz', 'Bass,', 'HUGE', 'street', 'throwing', 'T', 'shirts', 'crowd.', 'Bending', 'knocking', 'perfectly...', 'penny!', 'Watch', 'screwing', 'profile,', 'discolor', 'hold.', 'oil', 'audible', 'whatsoever.', 'straps,', 'great;', 'pinch.', 'manual', 'unfortunate', 'button,', 'chip', 'ridiculously', 'sizes.', 'protrude', 'normal.', 'biggie', 'position,', \"You'd\", 'pressed', 'Dunlops', 'Dunlops.', 'About', 'regualr', 'straplok', 'jazz', 'ONLY', 'trust.', 'sacrificing', 'security.', 'Many', 'pointing', 'complain', 'unhook', 'merits', 'ease', '13', 'make,', 'Overall', 'sharp.', 'Hellraiser.', 'Product,', 'Hellraiser', 'Perfectly', 'buttons.', 'intents', 'again.They', 'advertised', 'required.', 'keyboards.', 'Essential', 'yet.I', 'nine', 'enough!', 'I&#8217;ve', 'Efficient', 'random', 'time)', 'Notice', 'sturdy!', '(a', 'months)', 'rust', 'inside.', 'lock,', 'tugging', 'sure,', 'check.', 'climate', 'humid', 'friendly', 'contribute', \"shouldn't\", 'awful,', 'tremendously', 'Either', 'drastically', 'wonders', '.I', 'BOUGHT', 'UKULELE', 'KNEW', 'STRINGS', 'THAT', 'COME', 'ON', 'NEW', 'MUSICAL', 'STRINGED', 'INSTRUMENTS', 'OF', 'QUALITY', 'SO', 'THESE', 'MARTIN', \"I'VE\", 'MANY', 'MAKE', 'WAS', 'AN', 'EASY', 'CHOICE', 'ME.', 'OTHER', 'JUST', 'TIME.', 'REVIEW', 'confess', 'beaters', 'object', 'compliant', 'tease', 'articulation', 'Given', \"set's\", 'bonus.', 'Lot', 'Teles', 'Likewise,', 'conclusion', 'first;', \"Aquila's\", 'fuller,', 'Martins', 'friendly.', 'approximately', 'lesser', 'satisfaction,', 'seldom', 'string)', 'uke,', 'repeatedly', 'de-tuning', 're-tuning', 'Aquila', 'familiar', 'unnecessary', 'peaks', 'makes,', 'input,', 'rigid', 'extension,', 'MPF-6', 'Pop', 'Filter', 'construction.', 'heavy.', 'well...', \"Don't\", 'struggle', 'Give', 'Be', 'closed.', 'make-shift', 'panty', 'Granted,', 'hollow', 'ring', 'nylon.', 'vibration', 'structure.', 'varying', 'metallic', 'lucky', 'filtering', 'pantyhose', '!!', 'lol', 'Charm', 'lately', 'Looked', 'destroyed', 'oddly', 'Something', 'Funky', 'Apogee', 'wanna', 'recordings?', 'useful!', 'useless,', 'mesh', 'this!!', 'Wow', 'app', 'Snowball', 'awful', '\"pop\"', '\"hard', 'B,', 'pros', 'Sony', 'Vegas', '5-stars.', 'smooths', 'edges', 'speech', 'Snowball,', 'bendable', 'arm,', 'surface.', 'desk', 'stable', 'attached', 'round', 'stem', '\"isn\\'t', 'darn', 'shorten', 'stash', 'storage.', 'member', 'doubling', 'fabric', 'torn.', 'recording,', 'possibly', 'signs', 'opened.', 'matters', 'worse,', 'fabric.', 'Based', 'alone,', 'seller.', 'Seller', 'headline', 'Removes', \"P's\", 'recordings.', 'Until', 'Exactly', 'this?', 'Besides,', 'months.', 'was.', 'differences.', 'featured', 'grips', 'competitors', 'piece,', 'impossible.', 'Fortunately,', 'issue.The', 'superglue', 'MUST', 'trouble.', 'most,', 'Purple', 'Gone', 'attracts', 'dust,', 'unwrap', 'Under', '$10', '*cough', 'cough*', 'future.', 'Three', 'dissatisfied', 'were.', 'balance', 'stiffness', 'possitioning', 'blow', 'cake', 'rumble', 'then,', 'warn', 'magically', 'off-center', 'bare', 'minimum,', 'flash,', 'podcasts', 'dubbing', 'videos,', 'occurs', \"B's\", 'pop-filter', 'rocks.', 'tried.', 'effectively,', 'didnt', '2020,', 'improves', 'intended.', 'filter!', 'assure', 'placement.', 'filters.', 'swivel', 'Granted', 'once,', 'Yeti', 'USB', 'POP', 'investment.', 'Adjustable', 'accessory', 'period.', 'bracket', 'dang', 'necessary,', 'already!', 'will,', 'rubberized', 'loosen', 'inherent', 'singer,', 'cats', 'hooks', 'removes', 'anyone!', 'Scarlett', 'wise', 'bits', 'external', '99', 'Otherwise,', 'Spectraflex', 'flexibility,', 'fortune', 'Rugged', 'tangle', 'signals,', 'rest,', 'tweed', 'Amazon.com.', 'acoustic-electric', 'end-pin', 'outlet,', 'connector.', 'weeks,', 'Finally,', 'consistently', 'amplifier.', 'old-school', 'plus,', 'Outstanding', 'Cable!', 'no-brainer.', '(used', 'jiggle', 'work).', 'ask,', '&#34;is', 'bad...', 'nylon', 'substantial', 'reservations.', '(three', 'colors)', 'Mogami', 'remain', 'nights', 'uses,', 'identifying', 'crew', '-Pedaltrain', 'MINI', 'Soft', 'Case.', 'posted', 'pedaltrain', 'page.', 'silent', 'Platinum', '12,', 'Quiet', \"(it's\", 'bumped', 'unplugged,', 'etc.).', 'amp!!', 'sitting', 'seams', 'lone', 'smart', 'pleased.', 'tougher', 'Retro', 'Look', 'Carvin', 'reach.', 'cover.', 'loud', 'drowned', 'competing', 'portable,', 'plus.', 'Speaker', 'acceptable', 'watts', 'watts.', 'opting', 'size.', 'amplify', 'accessories', 'toys', '6,', 'overloaded', 'features.', '(Fender', 'Junior,', 'Bug', 'stripped', 'quality).', 'micros.', 'notch', 'toys,', 'wrong...I', 'school.', 'gear.', \"He's\", 'kid,', 'smallest', 'Turns', 'crush', 'Pathfinder', 'sparkly', 'Obviously', 'offer', 'suprisingly', 'plug,', 'jack,', 'fork', 'onboard', 'simultaneously.', 'delay', 'Dick', 'licks', 'suprising', 'websites', 'negatives', 'Ampeg', 'Jet', 'Rickenbacker.', 'Giant', 'praise', 'gets.', 'positives', 'back,', 'annoying.', 'button.', 'Clean,', 'Panel,', 'Brit', 'annoyance', 'recessed.', '3.', 'effects,', 'try.', 'batteries,', 'hoped', 'onstage', 'drummer,', 'intermediate', 'me)', 'functions', 'flanger,', 'phaser,', 'reverb', 'delay.', 'stacks', 'Effects', 'powerful', 'mp3', 'me).', 'transport', 'cart', 'fx', 'Plenty', 'Adaptor', 'supports', '110V', 'New', 'equipment!', 'brand-new', 'beauty!', 'expect.', '140', '400', \"let's\", 'say...', 'bolt-in', 'Shape', 'subjective.', '160', 'faded', 'overseas', 'brother', 'kill', 'pot.', 'electronics,', 'replacing.', 'sum', 'stays.', 'little.', 'fusion', 'protected.', 'lockable', 'locations', 'case.', 'daughter.', 'obviously', 'glove!', 'interior', 'handle.', 'hinges', 'hinge', 'hinge.', 'sharp', 'grey', 'SKB', 'van', 'safely', 'Goldtop', 'plush', 'worry.', 'idiot', 'should!', 'proud', 'owner', 'wrapped', 'Being', \"hadn't\", 'flight', 'means.', 'wear.', 'predict', 'buckles', \"we'll\", 'that.Overall', 'necessary.', 'protection', 'Goth', 'WHAT', 'EXPECT', 'CASE', 'inside,', 'one...it', 'guitar...', 'accessories.', 'working,', 'seen,', 'carpet', 'younger', 'Case', 'P93', 'customers', 'AZ', 'him.', 'tops,', 'glove.', 'interior,', 'names', 'cases.', 'logo.', 'Variax', 'cozy', 'cash!', 'Ordered', 'Gig', 'Bags', 'dings', 'zippered', 'padding', 'carrying', 'handles', 'snaps.', 'nice!', 'duffle', 'instructor,', 'useless', 'damage.', 'glorified', 'rag.', 'dirt,', 'it.There', 'becuase', 'northern', 'frills', 'bag.', 'light,', 'accessories,', 'spare.', 'sheet', 'pocket,', 'complain.', 'carrying.', 'glove,', 'gigbag', 'Their', 'padding,', 'tossed', 'aside,', 'padded,', 'protection.', 'Provides', 'bargain,', 'else)', 'Rugged,', 'momentary', 'Loop', 'Station,', 'with...', 'much!', 'machine.', 'suppose', 'hog', 'Harmonizer', 'Mode', 'nuff', 'mute.', 'NO.', 'tonight', 'controllers', 'teens', 'helped', 'regretted', 'then.', 'Recently,', 'lived', 'cheapest', \"beginner's\", 'determined', 'bargained', 'for.I', 'limited.', 'dive', 'scouring', 'exhaustive', 'gamble.', 'functional', 'FEEL', 'bite', 'perfection', 'error,', 'cosmetic,', '(unless', 'affected', 'awful.', 'usable.', 'preference,', 'box!', 'safe.', 'Oh,', 'contrary', 'YES,', 'rod.', 'ignore', 'shiny', 'progress', 'lovely', 'YouTube.', \"he's\", 'I,', 'express', 'feelings', 'claimed', 'Check', 'search,', 'suffice', 'off;', 'deployment', 'brush', 'DID', 'swapped', 'Nylon', 'Silver', 'Classical', 'looking.', 'tag.', 'Rec', 'here;', 'home!', 'exceedingly', 'AMAZINGLY', 'nice...', 'SOUNDS', 'distract', \"bucks.It's\", 'Leave', 'office.', 'ANY', 'entry', 'premium', 'difference.If', 'playable,', 'application,', 'great...', 'Guitar!', 'great!!', 'woods,', 'bracing.', 'Neck', 'straight,', 'tastes.', 'whatever,', 'Main', 'flatpicking', 'intros', 'nylons', \"thickness'\", 'Tortex.', 'satin', 'Tortex', 'bends.', 'Ultex', 'attack', 'wears', 'celluloid.', 'gauges.', 'gripping', '.90', 'tip', 'acoustic.', 'brighten', 'rubbing', '1.14', 'rigidity', 'aggressive', 'worn,', 'picks,', 'Much', 'III', 'feel.', 'spares.', 'Dave', 'but...', 'settled', 'phosphor', 'bronze', 'compelled', '.60', 'thickness,', 'fray', 'edges,', 'like.This', 'resistant', 'drag', 'matte', 'strumming,', 'noted', 'crack', 'reconsider', 'used!', '(replacing', 'Orange)', 'Grabbed', 'Normally', 'Medium', 'Stiff', 'maneuver', '.73', 'true.', 'Picks', 'books', 'gloss', 'slippery', 'fingerprints', 'grime,', 'buff', 'circular', 'motion', 'soft,', 'lint-free', 'rag,', 'act', 'polish.', 'afterwards,', 'Ive', \"80's.\", 'Wonderful', 'sweating', 'nitrocellulose', 'finishes.', 'Period.', 'Polish,', 'Polish', 'Cleaning', 'thorough', 'residue.', 'Product!', 'incorrect', 'part,', 'delicate', 'polishes', 'microfiber', 'cloth.', 'again!', 'dreadnaught', 'death,', 'enlarged', 'maintains', 'Blueridge', 'Fishman', 'visible', 'hole,', 'undersaddle', 'hours.', 'Installation', 'fast,', '#1.', '\"tinny\"', 'dismantle', 'mode.', 'complaint,', 'fumble', 'sudden', 'soft.', 'professionals.', 'fooling', 'pro,', 'R.', 'Baggs', 'M-80', 'mode,', 'Sincerely,', 'Doc', 'pickup,', 'combined', 'Aura', 'Spectrum', 'D.I.', 'D-18', 'well-known', 'pads', 'via', 'prompt', 'Price,', 'Pads', 'Ok,', 'KRK', \"6's\", 'speakers).', 'disappeared', 'monitors', 'energy', 'desk,', 'difference!', 'wider', 'pricy,', 'that!', 'Auralex', 'vibrations', '5\"', 'monitors.', 'Great!!', 'isolating', 'Unfortunately,', 'speakers,', 'MoPads', 'Desk', 'Sitting', 'desk.', 'bookshelf', 'AMAZING.', '$40,', 'laser', 'speakers.', 'Home', 'Monitors', 'DAW', 'versions', 'sent,', '\"cheap', 'A/B', '$5.00', 'isolators', 'Truth', 'weigh', 'vibrate', 'mixes', 'Apparently', 'accurately', 'reproducing', 'EQing', 'compensate.', 'mixed', 'Hafler', 'Behringers', '(active', 'speakers)', 'Except', 'Fortunately', 'studio)', 'WOW!!', 'immediate', 'mix.', 'immediately', 'accurately.', 'solver', 'discovering', '\"Cheap', 'monitors,', 'somebody', 'process,', 'accurate', 'monitoring.', 'cooler', 'customize', 'Lastly,', 'pads,', 'larger,', 'pair,', 'positioned', 'Necessity', 'full.', 'dead.', 'breakage,', '(seems', 'tried).', 'task.', \"EXL's\", 'SP', 'unmatched', 'neat', 'shimmer', 'aesthetic.', 'elixirs', 'Strings!', 'weights', 'found,', '&#34;my', 'Acoustics', 'fullness', 'Phosphor', 'Bronze', 'disadvantages', 'limit', 'strum', 'harder,', 'stretchy', 'consistent,', 'would.', 'resonant', 'brightness', 'uncomfortable,', 'upscale', 'one.I', 'dislike', 'deserve', 'Martin.', 'moot', 'deciding', 'valid', 'unique.', 'contender', 'budget,', 'Bargain', 'retain', \"they've\", 'brightness.', 're-stringing.', 'week.', 'non', 'wound', 'ancient', 'Brand', 'name,', 'Elixir', 'Nano', 'mate.', 'picky', 'sounding,', 'bronze.', '5th', 'route', 'head,', 'gauge,', 'machines,', 'suck.', '\"THE', '1993', 'mint', 'stings,', 'seagull', 'mellow,', 'WITHOUT', 'offer.', 'bad,', 'line,', 'prob', 'littl', 'Perfect!', 'mediums.', 'MSP4200', \"Elixer's\", 'clean,', 'history,', 'XD', 'longevity.', 'syndrome', \"'em!\", '1mm', 'rock/metal', \"clean.I'm\", 'strings.I', 'Custom,', 'TOO', 'FUN', 'Phase', 'med', 'experimenting', 'green.', 'strumming', 'Bright', 'Color', 'pick;', 'crack,', 'variety.', 'Take', 'nearest', 'picks!', 'Claytons', 'forever.', 'nails', 'matter.', 'rocking', 'tortex', 'span', '(plus', 'turtle', 'logo', 'alike!', 'Delrin', 'judged', 'surface,', 'identify', 'thicknesses', 'ink', 'script', 'raised', 'smudge', 'Picks\"', 'mean.', 'floppy', 'intricate', 'songs.The', 'thickest', 'find.', 'sandy', 'lot!', 'Great!', 'Yes.', '1.0mm', 'complained', 'shop,', 'messed', 'quickly;', 'attack,', 'grip)', 'porous', 'me.)', 'out!', 'with!', 'beginners,', 'fender,', 'try!', 'sticker', \"I'v\", 'overpower', 'thankfully', 'cold', 'air', 'covered.', 'break.', 'sample', 'Easier', 'grip,', 'brings', 'Mostly', 'Electric,', 'Fender.', 'Electrics', 'article', 'shred', 'now!', '1.14mm', 'magazine', 'interfere', 'attack.', 'give,', 'hard.', 'slack', 'bargain', 'students', 'demand', 'aspects', '1.00mm', 'daily', 'Recommended!', 'sticking', 'stile', 'sorry.', 'curiosity,', 'DAVA', 'stil', 'pluck', 'decently.', 'applications,', 'Nice,', 'serviceable', 'Grip', 'Simply', 'slick.', 'worn', 'materials,', 'buried', 'hand!', '(strumming', 'vocals).', '(similar', 'weight)', '&#34;round-off&#34;', \"Musician's\", 'Gear', 'brands.', \"'em,\", 'daily,', '!!!', 'Playing', 'Strumming', 'Play', '(red).', 'strong!', 'rubbed', 'residue', 'red,', 'exclusively', 'worship', 'highest', 'recommendation.', '.80', 'supply.', 'Years', 'onto,', 'sweaty', '60mm', 'pros.', 'interesting', 'trombone', 'heart', 'minimizes', 'slippage', 'Depending', 'available,', 'preferences.', '1.0', 'child,', 'nephew,', 'niece,', 'parent', 'chord,', '.88', 'chewing', 'destroying', 'thinnest', 'fades', 'recommand', 'pick!', 'picks...', 'Favorites', 'im', '(almost', 'Four', '\"clicky\"', 'Snarling', 'Dogs', 'Brain', 'drop,', 'flick', 'pointless', 'larger)', '.73mm', 'melt', 'note:', 'ideal.', 'guy,', 'grippy', 'textured', 'thumbs', 'thin!', 'thicker.', '(sounds', 'wider.', '346', 'stars,', 'resistance,', 'train', 'stable.', 'strums.', 'reveals', 'mechanics', 'picks),', 'verses', 'breaking.', '.38', 'liking,', 'cleanly', 'injection', 'PRS', 'Celluloid', 'sting', 'located', '.60mm', 'career.', 'Bass!', 'preforming.', 'Earth.', 'Flexible,', 'Im', 'loyal', 'nicks', 'ordering', 'interview', 'secret', 'carpet.', 'u', 'now).', 'rhythm,', 'thirty', 'pristine', 'tip.', '88', 'size,', 'celluloid', 'dreadnought,', 'hunt', 'quickly,', 'pointed', 'combining', 'bothering', 'folks', 'house,', 'song...', 'Hope', 'helps.', 'OK,', 'everything,', 'goto', 'sweat', 'material.', 'dampening', '.88mm', 'blues.', 'raw,', 'nylon,', '.60mm,', 'flimsier', 'alright', 'forking', 'cent', 'online,', '.38mm', 'accompanying', 'outdoor', 'ticket', 'metronome', 'easier.', 'stumming', 'droping', 'comfortable,', \"They'll\", 'see)', 'Wanna', 'clean.', 'forgiving', 'beginners.', '\"grippy\"', 'Thirdly,', 'sizes,', 'occasions.', 'rock!', 'area.', 'something.', 'neighbors.', 'Soft,', 'quietly', '80s.', 'forever!', 'you!', 'MM', 'mountain', 'dulcimer', 'cards,', 'bird', 'coffee', 'consistency', 'beaten.', 'too!', 'Mountain', 'stiff,', 'guitarist.', 'lean', '0.60mm', 'Max', 'Grips', 'songs,', 'lose.', 'brighter.', 'gray', 'fly', 'plying', 'vast', 'multitude', 'agree,', 'makers,', 'shapes,', 'gages,', 'ranges,', '(oh', 'ya,', 'strings).', '&#34;perfect', 'subjective', 'scent,', 'host', 'Aria', 'guitar),', 'remained', 'standing', 'unplugged', 'folding', 'thumb,', 'singing.', 'acoustically', 'perfection.', '.46mm', 'sizes', '(mostly', '....', 'devices!', 'Sound-wise', '500', '2.0', 'slippery,', \"(I'd\", 'rub', 'stumbled', '2.0.', 'stone,', 'mellower', '500s', '12s', 'archtop', 'HUNDREDS', 'surpasses', '351', 'Golden', 'Gate', 'Dawg', 'disappointed!', 'far!', 'pick...', '&#34;clean&#34;', '1.5', 'non-slip', 'vice,', 'filed', '(to', 'ears)', 'complaining', 'regard.', 'named', 'context', '335.', 'Godin', \"'Just\", 'pointy', 'pointier', 'pick!!!', 'fingerstyle', 'fingertips', '(when', 'grip&#34;', 'IMHO.', 'Gorilla', 'beautifully.', 'combines', 'naturally', 'softly,', 'exists.', 'elusive', 'band,', 'plucked', 'dynamics,', 'quieter', 'passages', 'This,', 'annoying,', 'Stubby', 'leads,', 'hang', 'translucent', 'purple.', 'strange', 'accuracy.', 'Purple,', '(really', 'listened', 'semi', 'Round', 'rounder', 'Compared', '(1', 'determine', 'edge,', 'comparisons', '\"right\"', 'ending', 'R', 'center,', 'Hand', 'picks.These', 'indentation', 'UR', 'index', 'nickle.', 'slimmer', 'plectrums', 'pun', 'intended)', 'triangle', 'fat,', 'stubby', 'harmonics', 'face.', 'Small,', 'admit', '3.0', 'plectrum', 'ok,', 'believe,', 'utilize', 'practices.', '[...]', 'Already', 'smoother', 'receive', 'five-star', '$4.50', 'Currently', 'assortment.', \"We'll\", 'experimentation', 'Pick,', '2.0mm', 'Florida', 'mistake.', 'dynamics', 'Lexan', 'hold,', 'wasted', 'Okay,', '\"Dunlop', 'BIG', 'surrounds', \"pick's\", 'pointy,', 'almost.', 'begins', 'Eventually,', 'rounds', 'Time', 'relevant', 'ratings,', 'highly.', 'Obviously,', 'possible.', 'thoughts', 'regarding', 'colored,', '3.0mm', 'picks.I', 'picking.', 'previously,', 'thicker,', 'heavier,', 'rapidly,', 'tricky.', 'Keeping', 'dry,', 'locate', 'precise,', 'speed.', 'pick.The', 'contains', 'indestructible', 'precision', 'playing...', 'spoiled', 'faster,', 'speeds', 'pack,', 'special,', 'pleasant,', 'displeased', 'partially', 'handed', 'first,', 'dissapointed.', 'Days', 'accustomed', 'slipping.', 'now..', 'haha.', 'em!', 'Real', 'Picks.', 'precision,', 'accurate.', 'scream', 'breeze.', 'IIIs', 'shocked.', 'expecting.', 'sorry', 'petite', 'hands!', 'Red,', 'bat', 'skill', 'agree.', ':D', 'getting.', 'clarity,', 'effortless', 'slick', 'Bit', 'exposed.', 'only.', 'met', 'III.', 'debate', 'degrees', 'trad', 'Or', 'laying', 'fellow', 'worked.', 'obtain', '4/5', 'pronounced,', 'does,', 'standpoint,', 'warmth', 'strummed', 'sterile', 'them?', 'No.', 'TON', 'constantly,', \"don't,\", 'Depends', 'shifted', 'brother,', 'factor.', 'XL', '\"gel\"', 'colors.', 'whim', 'powder', 'Mediums,', 'man.', 'usual.', 'carried', 'edges.', 'purple,', 'codes', 'milk', 'Gel', 'Picks,', 'EXTREMELY', 'kits', 'yet.My', 'old.', 'Convenient', 'snaps', 'taste.', 'holders.', 'Holds', 'again...', 'version.', 'butt', 'often!', 'misplacing', 'stand,', 'advertised.', 'performer,', 'pony', '(pun', 'Necessary', 'filler', '$25', 'one..', 'ready.', 'Product.', 'outdoors', 'holder!', 'often.', 'arm.', 'some,', 'container', 'sponge,', 'valuable', 'humidified', 'yield', 'healthy', 'better.I', 'own,', 'sponge', 'drip,', 'wood.', 'humidity', 'humidifiers', 'Dampen', 'water,', 'winter', 'Against', 'west', 'diligent', 'moist.', 'compact', 'humidifier', 'filled', 'sponge.', 'Use,', 'Dampit', 'drip', 'alternative.', 'water', 'humidity.', 'conjunction', 'humidipak', 'absorb', 'humidity,', 're', 'humidify', 'case.I', 'case.So', 'utilizing', 'pumps', '1500', 'indoor', 'warmer', 'breathing', 'solution', 'gel', 'OK?', 'effectiveness', 'soundhole', 'homemade', 'butter', 'drilled', 'cavity', 'areas,', 'dryer', 'A/C', 'closet.', 'drops', 'sponges', 'moist', 'fight', 'urge', 'regular,', 'dense', 'yucky', 'distilled', 'pure', 'toxic', 'regard', 'hanging', 'in-between', 'leaks.', 'shake', 'spreading', 'wedge', 'rough,', 'happen.', 'extreme', 'sides', 'tabs', 'Treat', 'gently', 'rinse', 'decade', 'up&#34;', 'extensive', 'Oasis', '1&#34;', 'X', '4&#34;', 'guesswork', 'readings', 'soundboard', 'fish', 'helps!', 'Fine', 'trick.', 'trick', 'ad', 'replaceable', 'soak', 'container,', 'guitar;', 'Humidifier', 'hole.', 'kitchen', 'recommended)', 'gentle', 'sides.', 'needle', 'excess,', 'assembled', 'D', 'suspended', 'it.If', 'wet', 'less)', 'dries', 'one)', 'heating', 'guitars).', 'Air', 'conditioning', 'guitar(s)', 'temperature', 'Guitars', 'refills', 'water.', 'design.I', 'fact.', 'refill', \"i'd\", 'hydration', 'humidifiers.', 'wetting', 'fashion', 'bother.', 'dampen', 'Luckily', 'Taylor.I', 'me.It', 'stretch', 'Arizona', 'splitting', 'redesign', 'mount,', 'Velcro', 'hangs', 'hall', 'screen.', 'Saver', 'unused', 'periods', 'hooked', 'Kind', 'areas', 'station', 'Cleans', 'commented', 'Each', 'mess.', 'cleaner.', 'Fret,', 'solves', 'CANNOT', 'WRONG', 'WITH', 'GHS', 'FAST', 'use-', 'inconvenience.', 'conveniently', 'Fret', 'applicator', 'applicator.', 'lubricant', 'Tends', 'must-have.', 'dragging', 'fingerboard.', 'lowers', \"must've\", 'setups,', 'forums', 'heck,', '$5.', \"Shouldn't\", 'concur', 'indirectly', 'undersides', 'prolong', 'boon', 'inability', 'advance', 'usefulness', 'accessory,', '\"The', 'enables', 'lubricating', 'Useful', 'Accessory', 'fingers!', '2.5', 'hr', 'national', 'stages.', 'sweat,', 'flying', 'air.', 'arsenal.', 'Stuff', 'noticing', 'lag', 'sliding', 'shining', 'thoroughly', 'possible,', 'rag', 'inserting', 'fret.', 'pleasing.', '10-15', 'yesterday', \"string's\", 'shot', 'fifth', 'stuff!', 'container.', 'tin', 'swipe', 'fold', 'soloing', 'noticeably', 'mineral', 'smells', 'lively.', 'sections', 't', 'fingerpicking', 'conditions', 'smooth.', 'liquid', 'apply.', 'stinks.', 'nasty.', 'Old', 'English', 'too...', 'Serious', 'Players', 'lil', 'think)', 'on:', 'tuning,', 'causes', 'roller', 'fretboards', '(well', 'work?', 'no.', 'spread', 'towel', 'better-', 'shirt', 'square', 'mins', 'appearence', 'occasionally,', 'meh.', 'soaked', 'oil.', 'fretboard.', 'treatment', '5string', 'simple.', 'is)', 'unintended', 'callouses', 'telling', \"(didn't\", 'least).', 'Naturally,', 'feeling.', 'her.', 'idea,', 'theory,', 'w', 'she', 'you.It', 'Fret.', 'mandatory', 'inclusion', 'Best!', 'cracked,', 'slides,', 'bends,', 'strokes', 'helps,', 'patches', 'toughness', 'time.If', 'pad', 'Alright', 'Works,', 'Evans', 'excellent..', 'Double', 'Kick', 'concerns', '1.', 'god!', 'muffling', 'overtones', 'similar.', 'drum,', 'provides', 'kicking', 'skin,', 'it!!!', 'kicks', 'tall', 'waste', 'Wave', 'brake', 'stitching,', 'slippage.', 'earnie', 'ernie', 'shot.', 'guitar.So', 'accessory.', 'attachment', 'top-heavy', 'sewing', 'silicon', 'mat', 'shoulder.', 'beat!', 'comfortable.', 'adjustable.', '50+', 'Put', 'Fancy', 'poly', 'Money!', 'plain', 'adjusts', 'withDunlop', 'strap!', 'knees,', 'chest', 'fails,', 'synthetic', 'Call', 'class', 'Really,', 'Buttons', 'Yep', 'shade', 'Cheaply', 'desired.', 'slung', 'length.I', 'ply.', 'lock.', 'posts,', 'fancy', 'suit', '6$', 'Designed', 'said;', 'sexy', 'SG.', 'furry', 'one...', '(leather', 'extends', 'double-leather', 'Polypro', 'constantly', 'securely,', 'guitars!', 'Simple.', 'OK.', 'worse.', 'EB', 'antics', 'axe.', 'leather,', 'hung', 'Strap!', '..', 'fail,', 'regular.', 'backups', 'cam', 'Straps', 'Hell', 'ax', 'outlast', 'lightweight.', 'adjustability.', 'steady,', 'stated,', 'cross', 'buckle', 'guess,', '3\"', 'bothered', '2\"', 'solved.', 'play...', 'baby?', 'gotten,', 'seatbelt', 'tall.', 'Coming', 'Limited', '48', 'Mexico.', 'opt', '$50.', 'coast', 'coast.', 'Unbeatable', '14', 'game', 'veteran', 'Clean', 'ON/OFF', 'dense,', 'brilliant', 'Rocks!', 'Helicon', 'boosts', 'amp...I', 'terrified', 'foolish', 'purchase,', 'kazoo', 'LIFT', 'door', 'belly', 'no-brainer', 'review.This', 'shelf', 'pig', 'stuff.I', 'chrome', 'handles,', 'guards', 'internally.', 'operates', 'summer.', 'electrics', 'topic', 'IV,', 'adjustments,', 'anyway.As', 'jewelry', 'deceptively', '&#34;cheap&#34;', 'summer', 'cruise', 'conversion', 'learn.', 'summary,', 'lover', 'to!', 'outlet.', 'Turn', 'famous.', 'Piggy', 'software', 'earth', 'appreciation', 'it.For', '\"feel', 'coax', 'Stick', 'up\"', 'holy', 'grail', 'tone-shaping', \"today's\", 'granted', 'discover', 'infinite', 'Pignose', 'rattling', 'cone', 'grill.', 'nuts', 'assembly.', 'slid', \"60's\", 'speaker,', 'knobs.', 'parents', 'bedroom', 'door.', 'cranked,', 'heaven.', 'amps)', 'Fantastic.', 'right.Very', 'greasy', 'louder,', 'Supply', 'AA', 'stickers.', '9,', 'by,', 'Pignose,', 'whistles', 'with.The', 'teenage', 'Pig', '20,', 'such,', 'Puts', 'skeptical', \"world's\", 'technology,', 'miked', 'closing', 'open-back', 'sealed', 'Frank', 'rocker', 'accurate,', 'reaches', 'pushed', 'mushy', 'produces.', 'fuzzes', 'sweeter', 'God', 'Seymour', 'Fuzz.', 'sound.My', 'Wah,', '90,', 'flanger', 'rapid', 'repeats.', 'Putting', 'Dynacomp,', 'youngster', 'beginning', 'journey', 'vacation', 'AC15C1', '(note:', 'metal)', 'Mixed', 'Bag', 'plastic,', 'threads.', 'podcasting', 'flimsiness', 'Adjusting', 'tedious,', 'Samson', 'tipping', 'leg', 'condensers', 'shockmount', 'start,', 'well.It', 'hesitant', 'attaching', 'shelling', 'counter-weight', 'computer,', 'interface', 'violins.', 'direction', 'direction.', 'swing', 'chair', 'acoustics.', 'accessible', 'buddies.', 'Sampson', 'Boom', 'Stand', 'counterweight', 'relation', 'downward', 'leg.', 'important,', 'telescope', 'moved.', 'Drum', 'folks.', 'batter', 'problematic', 'tom', 'throne', 'adjustability', 'shines', 'micing', 'Champion', 'height.', 'stands,', 'it.My', 'each,', 'stable,', 'ease.', 'Solid!', 'Sturdy!', 'MIC', 'Blackstar', 'Cab', 'DR', '4x12', 'violin,', 'prefers', 'rosin', 'student', 'violin', 'rosin.', 'violin.', 'complain,', 'tree', 'Rosin', 'cracked.', 'trick,', 'wooden', 'holder,', '(unlike', 'Violin', 'encased', 'messy', 'bow', 'fiddle', 'scuffing', 'already,', 'slippery.', 'sew', 'cotton', 'backside', 'sandpaper', 'lightning', 'rad', 'not?', 'creative', 'Dot', 'WOW,', 'randomly', 'gibson', 'symbol.', 'product.I', 'stamped', 'GIBSON', 'run.', 'replaced.', 'crap.', 'part.', '(Les', 'Paul,', 'other)', 'definetely', 'term', 'parts.', 'knobs!', 'metric', 'covers,', 'Traditional', 'stylish', 'warped', 'products,', 'high-quality', '38', 'cleans,', 'shines,', 'protective', 'suprised', 'bottle', \"friend's\", 'left.', 'further!', 'polishing', 'washing', 'removed,', 'method', 'cleaning,', 'Somebody', 'shine', 'paste', 'factory', \"customer's\", 'sucks.', 'pledge', 'resonance.', 'grime', 'prints', 'eBay', 'sell.', 'Worked', 'Safe', '2020', 'microphone,', 'ears', 'sound.I', 'Alesis', 'Focusrite', '2i2', 'patterns', 'offer,', 'cardioid', 'M179', 'horse', 'sound!', 'ignorance.', 'collect', 'helped.', 'Rode', 'character.', 'goal', 'ratings', 'stars?', 'curious', 'effort.', 'microphone)', 'shelled', '$120', 'multi-pattern', 'mode', 'cares', 'China', 'usage.', 'toms,', 'shined', 'low-price', 'LDC', 'patterns,', 'THIS.', 'CAD', 'plate', 'surfaces', 'gorilla', 'set-up,', 'Presonus', 'Firebox', 'Logic', 'shortly', 'Oktava', 'Joly', 'therefore', 'more)', 'else?', 'Mic.', 'tracks,', 'options.', 'outstanding,', 'disappears', 'presented', 'detail,', 'hype', 'applaud', 'mixing', 'Variable', 'pattern,', 'Last', 'onto.', 'quite.', 'guys!', 'pics.', 'Clayton', 'picture,', 'description.', 'higher,', 'specifications.', 'cheaper.', 'shredding', 'graphic', 'Ah,', 'sliders', 'ALMOST', 'variety,', 'million', 'reverb).', 'Seriously,', '212', 'inserted', 'loop.', 'focusing', 'while,', 'Fish', 'Chips', 'hey', 'excelent', 'danelectro', 'clutter', 'Originally', 'EQ700', 'equalizer', '$20+', 'noted,', 'hiss.', 'Danaelectro', 'hum.', 'Mind', \"1950's\", 'appearance.', 'selections', 'modifying', 'one.This', 'rates', 'Without', 'Hiss', 'Hum', 'rhythm.', '(some', 'high).', 'interfering', 'yes', 'ALOT', 'less!', 'useing', 'satisfying', 'clams', 'boxy', 'V8', '(great', '(Pro', 'Jr,', 'responsiveness', 'controls,', 'lead.', 'amplified', 'guitar-', 'Alvarez', 'shows.', 'testing.', 'power,', 'enought', 'rigs.', 'rating.', 'hopes', 'cheap;', 'fiddling', 'richness', 'mids.', 'Insanely', 'project.', 'F&C;', 'net', 'thing.The', 'counterparts.', \"EQ's\", 'end.I', 'GE-7', 'realm,', 'attractive,', 'Anyway,', 'beat.', 'dollars,', 'heck', 'bargain.The', 'bottom,', 'Battery', 'raises', 'boosting', 'optimal', 'chips,', 'you.I', 'level,', 'squire', 'strat,', 'outputting', 'headphones.', 'way.I', 'test,', 'Bucket', 'guage', 'overall,', 'metalic', 'prefer,', 'bright.', '10-50', 'alive.', 'Strings.', 'Slinky', 'Slinkys', 'add.', 'Crisp', 'lows', 'vote', 'down!!', \"Slinky's\", '11-52', 'Upon', 'naked', 'eye.', 'DAddario', 'Set', 'described.', 'talked', '&#34;the', 'weights.', 'Slinky,', 'SLINKY', 'YOUR', 'SQUIER', 'GOT', '$2000', 'STRUMMING', 'Heard', 'GS', 'Mini.', 'conclusion,', 'Balls', 'terrific', 'Silvertone', 'SD10,', 'factory.', 'pairing', 'Slinkies', 'cedar', 'topped', 'Mounted', 'brass', 'fresh,', 'Average', 'nickel.', 'ball,', 'fenders.', 'prolly', 'vibe', 'electrics,', 'pounding', 'rougher', \"Gibson's\", 'well.These', 'proof.', 'fenders', 'gorgeous', 'Nickel', 'reduced', 'playing.I', 'telecaster', 'too.I', 'files', 'nickel', 'did!', 'caps', 'point:', 'Nope.', 'convey', 'milliseconds.', 'Angus', 'nickels', 'nearer', 'ten,', \"'em\", 'neither.', 'alloys', 'Rod', 'neighbors', 'stops', 'alloy', 'electrical', 'Regal', 'seconds.', 'up;', 'Zep', 'Jimi', 'riffs', 'Rush', 'begs', 'Pure', 'MIA', '9-42', 'combo,', 'ghost', 'Open', '12-pack', 'breakage', 'action,', \"D'Addarios\", 'Frusciante', 'Factory', 'research', 'resulted', 'mediums', 'Bottom', 'Strings...', 'challenging.', 'starter', 'bloody', 'Luckily,', 'Martins,', 'tuned', 'Ball,', 'Brick', 'trade.', 'Elixirs,', \"D'Addario,\", 'Martin,', 'Pearse', '(you', 'more.I', 'Elixirs', 'married', 'pop,', 'sun', 'landed', 'Earthwoods', 'coated,', 'non-coated', 'dreadnought.', 'medium.', \"'sound'\", 'Bluegrass', 'torture', 'BG', 'Trying', 'Nanowebs', 'either.I', 'suggested', 'websites.', 'wit', 'piezo', 'bolts', 'battle.', 'stringing', 'Cigar', '.010', '.011', \"daughter's\", 'enjoys', 'martins,', \"d'addarios\", 'thes', 'approx.', 'bulkier', 'stands.', 'rendered', 'disappeared.', 'walked', 'means,', 'portable.', 'collapse,', 'May', 'Total', 'junk.', 'leans', 'WAYYY', 'ChromaCast', 'Folds', 'clumsy', 'tripped', 'know...', 'lol.', 'Cool,', 'acoustic/electric', 'portability.', 'something,', \"Wasn't\", 'notepad', 'created', 'monkey', 'closed', 'experimental', 'animals', 'making.', 'likely,', 'reality,', 'manner.', 'collapsible', 'backpack', 'models,', 'folds', 'Ideal', 'performer.', 'Haller,', \"'Captain\", \"Soul's\", \"Circus'\", 'Stratocaster,', 'him,', 'rendering', 'ether.', 'bags.', 'Sturdy,', 'Gotta', 'guitar/bass', 'folded', 'alongside', 'IN', 'guitar).', 'several!', '1)', '2)', 'offending', 'wife.', 'scratches', 'yup', 'stance.', 'imply', 'failed,', 'Tenor', 'delivers!', 'dogs', 'hanger', 'fabulous', 'travel.', 'showcase', '(literally)', 'Wow.', 'Zager', 'Mr.', 'floor,', 'suposed', 'Stand,', 'rambunctious', 'dogs,', 'flamenco', 'traveling.', 'visible,', 'Instead', 'zipping', 'respective', 'displayed', 'effort', 'practicing.', 'helpful.', 'Inexpensive.', 'stored.', 'insist', 'three.', 'flexibility.', 'STAND', 'nail.', 'blew', 'instructor', 'information', 'holders', 'light-weight', 'stability', 'bought.', 'napkin', 'package,', 'solidly.', 'upright', 'taste,', 'collapses', 'dad', 'next!', 'IT!', 'gigs,', 'transporting', 'portability', 'Portable', 'securely.', 'taller', 'Extremely', 'tuck', 'resting', 'corner', '&#34;Fender&#34;', 'workshop', 'desks', 'fall.', 'scene', 'Seagull', 'Artist', '10-46', 'BASS', 'heavy,', 'powerful,', 'info', 'mail', 'Yeah', 'whatever)', 'toolbox,', 'winds', 'puller', 'handy.', 'winder', 'cutter', 'Changed', 'EB-0', 'Cutter', 'Next', 'rant', 'cutter.', 'asks', 'it...and', 'grow', 'contain', 'stain', 'pegs.', 'easier.I', 'aspect.', 'Multi', 'Winder', 'nifty', 'more...', 'winder,', 'birds', 'Cheers!', 'dents', 'alas,', 'beautifully,', 'remover', 'luckily,', 'fed', 'slots', 'suppose.', 'pulls', 'flimsy,', 'reluctant', 'pins.', 'better;', 'compromise', 'cutter,', 'perfect..', 'owners', 'winding,', 'cleanly.', 'pry', 'pliers.', 'Tool', 'anticipated,', 'hooray', 'hooray.', 'floating', 'strangely', 'fancy,', 'inserts', 'RECOMMEND', 'squeaking', 'curve', 'functions.', 'marks.', 'indispensable', 'swiss', 'army', 'winding.', 'multi-tool.', 'spot.', 'puller,', 'Lost', 'rolled', 'Winder,', 'idea!', 'long-scale', 'unusual', 'betting', 'anybody.', 'faster.', 'Changing', 'dreaded', 'chore.', 'aggravation', 'fatigue', 'winder.', 'Build', 'cutters', 'rip', 'Genius', 'twisting', 'imho.', 'weight,', 'compact,', 'like?', 'loops', '(go', 'wrist', 'operated', 'turner', 'abused,', 'copper', 'wire,', 'ease,', 'trimmed', 'caved', 'gadget.', 'traveling', 'thing!', 'need!', 'Primarily', 'yrs.', 'Seemed', 'groove', 'guitar.It', 'stretching', 'feature.', 'cutter!', 's', 'o', 'm', 'Cool!', 'loudly', 'attempting', 'graphite', 'spins', '$8', 'sign', 'defects', 'etc', 'unconditional', 'guarantee,', 'dismiss', ';-)', 'guarantee!', 'bare-bones', 'winders.', 'pivot', 'bind', 'away)', \"'roadie'\", 'you....', 'weather', 'OH', 'thanks.', 'Gadget', 'diagonal', 'winders', 'Neat', 'retainers', 'cat', 'integrated', 'reccomended', 'pegs,', 'handy,', 'useful,', 'Gem', 'Thought', 'ergonomic', 'stringer', 'par.', 'Terrific', 'All-in-One', 'Must-Have', 'bending,', 'tool!', 'sixties,', 'regularly.', 'clipper', 'grade', 'functions,', 'restringing', 'puller.', 'rocks,', 'slice', 'engineers', 'mortal', 'steel,', 'imperfect', 'world,', 'doors', 'til', 'gizmo', 'dispenser', 'contraption', 'device,', 'pairs', 'socks', 'prone', 'sheer', 'sources,', 'alien', 'technology', 'Strange', 'headstand', 'utility', 'tracking', 'Capable', 'Waves.', 'Saves', 'multipurpose', 'order,', 'weekend,', 'stripping', 'Large', 'daunting', 'task', 'Built-in', 'Effective', 'afterthought', 'notched', 'clippers', 'keys,', 'don`t', 'Warning', 'champ.', 'noticable', 'squeaks', 'awkward', 'tricky', 'photos,', 'surpassed', 'however.', 'deal!', 'SCRATCH', 'everybody.', 'Winders', 'replacement.', 'accoustic', 'requested', 'shipping)', 'Thursday', 'waiting', 'snips', 'those.', 'cumbersome.', 'Did', 'suppose,', 'all-in-one', 'must-have', 'Winder.', 'drastically.', 'Consider', 'winder/cutter', 'Tough', 'adequately.', 'bic', 'pen,', 'someplace', 'purchasing,', 'scissors', 'elbow', 'grease', 'accomplish', 'tasks.', 'efficient.', 'anxious', 'Guess', 'gimmick', 'person.', ':-)', 'useful.', 'reason:', 'daughter,', 'begining', 'downsides', 'turn,', 'It!', 'twist', 'teeth', 'precise', 'invisible.', 'Re-stringing', 'chore', 'turning.', 'sweet,', 'instructions,', 'pinched', 'discipline', 'jet', 'black.', 'O.K.,', 'successfully', 'Disappointed', 'unfavorable', 'seller', 'couldnt', 'Nanoweb', 'pouch', 'hands.', 'frees', 'hardshell', 'product...I', 'uncle', 'weekly.', 'multifunction', 'classical,', 'grabbed', 'handy!', 'Strat).', 'device.', 'All-In-One', 'lookin', 'Went', 'trusty', 'tipped', 'gentle.', '$60', 'five.', 'touching', 'Huge', 'promised.', 'Solo', '6.', 'designed.', 'cordless', 'Admittedly,', 'Alright,', 'AWESOME!', '3-5', \"I'ts\", 'Needs', 'view', 'tiring', 'clearance', 'manually', 'align', 'redo', \"Hasn't\", 'occasional', 'learned.', 'frame,', 'FOUR', 'remembered', 'muddied', 'perplexing', 'questions', 'Peg', \"D'addario,\", 'well-designed', 'reports', 'happening.', 'bowl', 'Others', 'STANDARD', 'GUITAR', 'inadvertently', 'pages', 'clarity.', 'reported', '\"metal\"', 'vinyl', 'responsibility', 'doing,', '0', 'glasses', 'dandy', 'pins,', 'squeak', 'loud.', 'squeaky', 'Hate', 'well.You', 'conditioner', 'quantities', 'clear.', 'cloths', 'washable.', 'lemon', 'kit...', 'bases', 'fret-board.', 'reduces', 'bottles', 'contents', 'two!', '(except', 'Kit', 'be;', \"one's\", 'shape.I', 'factory,', 'chemicals', 'cheapy', 'maker', 'rare', 'on;', '01', '02', 'best,', 'restore', ',but', 'morning.', 'fingerboard', 'formula', 'Gibsons.', 'separately.', 'Need', 'aquila', 'Prior', 'prep', 'emery', 'too.The', 'leaking', 'shipment', 'P', 'feed', 'backs', 'polished.', 'color),', 'red.', 'cleaners', 'supplies.', 'sexy!', 'boys', 'polishing.', 'happier!', 'alcohol', 'buffed', 'before!', 'Fingerboard', 'definitly', 'service.', \"Guitar's\", 'weathered', 'fingerboards.', 'USA', 'faith', '800', 'neglected', 'decade.', 'glassy', 'me.I', 'waxing', 'carnuba', 'chat', 'deadened', \"Bob's\", 'everytime', 'kit,', 'dance', 'dry.', 'importantly,', '1962', 'Reissue.', 'dried', '100+', 'sweat.', 'man!', 'Felt', 'improvement.', 'cleaner!', 'okay,', 'rod,', 'pitch', 'expert,', 'gut', 'spent.', 'oiled', 'glass', 'furniture', 'Fulfills', 'need...', 'everyone!', 'overpowering', 'question', 'sets.', \"D'addario\", '(For', 'semi-hollow', 'Thrash', 'Tuned', 'EPI', 'packs.', 'times,', 'sets,', 'breaker.', 'sad', 'E)', 'bendable,', 'stars.Unfortunately,', 'successful', 'occur', 'brittle', 'unbelievable.', 'Thick', 'creamy', 'Lasts', 'fingertips,', 'barre', 'springs', 'fifty', 'dollar.', 'slinky', 'Heavier', 'Detune', 'presence,', 'genres,', 'Death', 'Funk', 'target.', 'arthritis', 'respect.', 'balance,', '(big', 'ball.', \"d'addario\", 'curt', 'mangan', 'bend.', '(No', 'method,', 'doritos', 'aswell', 'popping.', 'uncoated', 'whammy', 'upset', '(have', 'warning', 'bridges', 'bar)', '(aka', 'appealed', 'strung', 'note.', 'tensions', 'retuning', 'retro', 'intense', 'fix.', 'E.', 'price.i', 'reorder', \"9's\", 'Washburn,', 'polyweb', 'swears', 'elixir.', 'don;t', 'venues,', 'alot,', 'rust.', 'yes.', 'plugin', 'tone.The', 'martin', 'longevity', 'flex.', \"(D'Addario\", 'Set,', 'EXP', '80/20', 'Lite),', '(Martin', '12.5-55', 'MSP4150).', 'strings.On', 'Fresh', 'Corrosion', 'crud', 'sole', '15,', '2010', 'standard.The', 'confused.', 'elixirstring', 'com)', 'outstanding.', 'Ther', 'reproducible.', \"Elixir's\", 'Become', 'Steel', '6-String,', 'Polyweb', 'Coating', 'realise', 'polycoating', 'reduce', 'exist', 'U.S.', 'names.', 'price?', 'generic', 'stings', 'Memphis', 'web', 'strings;', 'Care', 'friend,', 'back.I', 'THING', 'try,', 'rage', 'chemistry', 'strings.Elixir', 'Polywebs', 'applies', 'GREAT!', 'whilst', 'Elixir.', 'service', 'elixir', 'unclip', 'rehearsal', 'night.', 'rehearsing', 'cradle', 'liked.', 'chance.', 'did.This', 'banjo,', 'joke.', 'sensation', 'a)', 'b)', 'sink', 'reality', 'critique', 'strap.This', 'Comfortable', 'unsnap', 'Padded', 'man,', 'Neotech', 'Neo', 'harness', 'rest.', 'bounce', 'feature,', 'comfortable!', 'Nope,', 'stuff...', 'fitted', '*really*', 'spacing', '(all', 'bends', 'nanowebs', 'swore', 'polywebs.', 'polywebs', 'to....', 'retuned,', '(about', 'trem', 'yet....', 'theire', 'penny', 'casually.', 'Absolutely', 'Eko', 'Ranger', 'XII', 'weakness', 'used).', 'Hardly', 'bout', 'ships', 'reason!', 'most/all', 'lights', 'appropriate', 'tome', '355', 'longest', 'brightest', 'clearest', 'nanoweb', 'last).', 'competition,', 'lightness', \"Wouldn't\", 'long-lasting', 'great!I', 'perform.', 'Loar', 'years).', 'cons', '(press', 'down)', 'brightness,', 'dull.', 'broke,', 'resonates', 'EXP16', 'complements', 'export', 'policy', 'abroad', 'strayed', '\"better\"', 'them\"', 'Sound,', 'corrosion.', 'nephews', 'Takamine', 'dedicated', 'acoustical', 'yourself.', 'Lately', 'ongoing', 'palate', \"else's\", 'Therefore,', \"d'Addario\", 'ce', 'line.', 'hobby.', 'abused.', 'finer', 'squeak,', 'coating,', 'price...', 'Jumbo', 'life\"', 'released.', 'happily', '$13', '$9', 'EXPs', 'challenging', 'mighty', 'box.The', 'Day', 'competition', 'strength.', 'crossed', 'zone.', 'aggressively', 'palm-muting', 'skin', 'oils', 'box)', 'owner,', 'oxygen', 'everyday,', 'criticism:', 'WHY', 'envelopes', '(thank', 'snapping', 'happening', 'Beats', 'Lifespan', 'taylor', 'zing,', 'soooooo', 'Move', 'wear,', 'concern', 'vulnerable', 'LIGHT', 'Bright,', \"D'\", 'Addario', 'Amazing,', 'Regardless', 'honesty', 'advertising', 'marketing.', 'DNA', 'worse', 'walls.', 'nasty', 'leaks', 'contaminates', 'finally,', 'apparently', 'hype,', 'testimony', 'resonating', 'corrosion', 'positions', 'tone!', 'goes,', 'inner', 'triple', 'expense.', 'America.', 'nano', '(Taylor', 'Grand', 'Auditorium', 'produce.', 'Pack,', 'chew', 'MONTHS', '(only', 'far),', 'terrific.', 'lite', 'Elixer', 'handling.', 'Hands', 'trade-off,', 'mahogany', 'spruce', 'three,', 'SPs', 'use.This', 'ringing', 'group.', 'lacked', 'punchy', 'fair,', 'groups,', 'heard,', 'spite', 'compensate', 'handling,', 'Gore', 'guarantee', '&#34;dead&#34;', '210', 'Bronze,', 'EJ17', 'Phospher', 'Bronze.', 'Elixirs.', 'cd.', 'bronze,', \"D'addario.\", 'amateurs', 'alike.', 'finger-pick', 'bright!', 'tops', 'pine', 'providing', 'play!', 'expect,', 'deteriorate', 'pain.', 'cloth,', 'streaks', 'disadvantage.', 'cloth!', 'godsend.', 'titanium', 'interested', 'these..', 'try..', 'confirmed', 'washburn', 'glossy,', 'sliding.', 'resistant,', 'fitted.', 'Finger', 'Grease', 'icing', 'year,', 'rate,', 'anybody', 'piggy', 'course.', 'occasion.', 'defective', 'dilemma', 'accordingly', 'brightens', 'git', 'fun,', 'talk', 'em.', 'travel,', 'buy!', 'these...', 'start.', '9.5', '9s', 'permanently.', 'rusty', '2+', 'encounter', 'hurting', 'surprised,', 'b/c', 'coiled,', 'coiled', 'coated.', 'Nanos', 'hollow-body', 'Believe', 'up\",', 'brilliance', \"don't),\", 'changed.', 'Normal', 'EVER!', 'Guitars.', 'bum', \"hour's\", 'brands).', 'unintentional', 'NANOWEB', 'advanced', 'Totally', 'life!', 'Nice!', 'Greatest', 'golden', 'sparkling', \".10's\", 'Wilkinson', 'completely.', 'Eb', \".10's.\", 'tension,', 'edgy,', 'told.', 'Yet', \"hours'\", 'odd,', 'singles', 'note),', 'tunes', 'toast', 'tonally.', 'strings),', 'respond', 'D,', '\"sound', 'on!', 'hours,', 'went.', 'what?', 'Yep.', 'bummed', \"D'Addarios.\", 'lame', 'dud.', 'duds', 'OR', 'HEAVY', '$$.', 'squeaking.', 'purists', 'treble,', 'month.', 'folk,', 'boom,', \"'em.\", 'not-too-bright', 'roland', 'gripes', 'enjoyment,', 'choose.', 'durability,', 'thereby', 'muffled', 'full-sized', 'degrade', 'issue:', 'Fingers', 'Cheers', 'rusting', 'age.', 'recommended..', 'hooked.', 'least,', 'THESE!', 'roughly', 'fresh.', 'Shipping', 'suggestion', 'time.I', 'Coated', 'Taylor.', 'see.', \"i'll\", 'LAST!', 'EVERY', 'ever,', 'snob!', 'played.I', 'bought,', 'it.Also', 'quitar', 'EVER', 'delivered', 'tonality', 'ways,', 'enjoying', 'terms', '$300', 'upset,', \"isn't.\", '(currently', 'believe.', 'solidbody', 'sanded', 'stain.', 'Secondly,', 'darker,', 'fret,', 'sanding', 'continually', 'Awesome,', 'wanted.', 'triangular', 'bubble', 'drastic', 'Checked', 'straight.', 'filing', 'diamond', 'responds', 'Neon', 'noticeable.', 'accept', 'EVO', 'Vendetta', 'riffs.', 'Deal', 'cash,', 'flawlessly', 'tele', 'pawn', 'incorporate', 'horrible,', 'decision,', 'guessed', 'lug', 'correspond', 'octave', 'hide', 'torque.', 'drum.', 'tune..', 'assumptions', '99%', 'absolute', 'others.The', 'torque', 'rods', 'presumably', 'only,', 'that.The', 'tightening', 'I&#8217;m', '(this', 'crisscross', 'traditionally', 'key.', '(typically', 'you&#8217;ve', 'reducing', 'adequately', 'essence', 'drawing', 'amounts', 'pattern.', 'machined', 'threads', 'resistance', 'translate', 'location.', 'rookie', 'flew', 'opposing', 'deep,', 'increased', 'eighth', 'largest', 'toms', 'managed', 'crisp,', 'facing', 'clicks', 'reached', 'cancel', 'sound),', 'ear!', 'key,', 'optimum', 'fatter', '&#34;new', 'wiring', 'diagram', \"(don't\", 'greater', '3-way', 'alter', 'plate,', 'cleanest', 'investigate', 'plate.', 'Telecaster,', 'output.', 'Telecasters.', 'mod.', 'three-way', 'parallel.', 'questioned', 'plates', 'bushings', 'larger.', 'spec.', \"'57\", 'shaft', 'neat.', 'nice,and', 'annoyed', 'USA.', 'Drop-in', 'replacements', 'tuner,', 'bore', 'tapered', 'Or,', 'wing', 'edge.', 'rotate,', 'beware', 'issues...', '&#34;vintage&#34;', 'build.', 'necks', 'worries,', '\"vintage\"', 'Indonesian', 'Squier.', 'Series', 'upgrading', 'great!!!', 'guides', 'vibrato.', 'Took', 'Reasonably', 'priced,', 'upgrade.', 'rollers,', 'rollers.', \"Tele's\", '72', 'Deluxe,', 'checks', 'outlets', 'rebuild', 'refurbished', 'replacment', 'Fenders.', 'Marauder', 'stock.', 'bullets', 'deep.', 'crooked.', 'attest', 'Fender/Squire', 'trees.', 'DG', 'guide', 'cast', 'plated', 'guide.', 'Requires', 'strings...', 'rolling', 'trees,', 'implies', 'flat,', 'Less', 'friction,', 'copy', 'immediately,', 'rollers', '(anyone', 'brainer', 'Telecaster.', 'NEED', 'guitars...', 'ugly', 'clamps.', 'visually', \"50's\", 'inexperienced', 'America', 'quickly.I', 'non-locking', 'butterfly', 'sand', 'alignment', 'Clip', 'pin!', 'quick.', 'MIM', 'Stratocaster.', 'locating', 'finishing', 'stability.', 'Gave', 'nibs', 'seen.', 'bundle', 'Austin', 'friends,', 'Clamp', 'neck!', 'power.', 'aluminum,', 'measuring', 'measurements', 'prolonged', 'smudges', 'dirty,', 'Schubb', '(compared', 'Out', 'Clamps', 'Clips', 'Simply,', 'job!', 'using,', ':P,', 'buddies', 'Item', 'regularly,', 'clamped', 'overnight', 'Excelent', 'marvelous', 'on/off,', 'padded.', 'lays', 'kyser', 'widest', 'fretboards.', 'Kyser,', 'barr', 'nearby', 'row', 'b', 'iffy', 'beginner.', 'Strat.', 'Ships', 'apply,', 'deal,', 'undue', 'Tension', 'mentioning', 'clamping', 'cushion', 'sides,', 'playing.The', '4-star', 'kids,', 'soon!', 'buzzes', 'craftsmanship', 'visibly', 'odor', 'brand-name', 'printed', 'failing', 'performances.', 'brand,', 'reputation.', 'contacted', 'seller,', 'low-cost', 'Available', 'Excellent!', 'Quick,', 'one-handed', 'change,', 'on/off.', 'unbeatable', 'touted', 'acoustic/electric.', 'prefer.', 'reposition,', 'option,', 'have.I', '52mm', '$14', 'handed,', '3&#34;', 'packaging.', 'Part', 'USA!', 'reading.SPO', '4.5', '\"snap\"', 'place.I', 'mis-place', '...but', 'woman', 'operate.', 'smash', 'Schubb.', 'works...', 'engineered', 'pitch.', 'damages', 'PLAYING', 'THEM!', 'Go-To', 'Practice', 'General', 'riff', 'real.', 'envelope', 'baggie.', 'Mediums.', '(purchased', 'Shipped', 'occurred', 'balanced.', 'type.', 'shape,', 'flashy', \"God's\", 'amps;', 'Medium,', 'A-style', 'mandolins.', 'lining', 'photo,', 'well-padded.', 'should,', 'warrant', 'case;', 'delivery,', 'thanks!', 'Rogue', 'cheap.I', 'Guardian', 'CASE!', 'MANDOLIN', 'Dot,', '335', 'estimation', 'there!).', 'pricing', 'internet,', 'differs', 'included)', 'toned', '(instead', 'Plush', 'enclosed', 'peg-head', 'traveled', 'non-issue.', 'Case,', 'Shell', 'sized,', 'Thus,', 'predictably', 'in!', 'car.', 'rug', 'vibrant', 'Perfect...', 'buyers', 'this\"', 'etc.But', 'guitar.The', 'winner', 'Mediums', 'thin.The', 'abalone', 'son.', 'lighter,', 'duty\"', 'Picks!', 'everyday', 'Additionally,', 'step.', 'medium,', 'bumps', 'Dava', '$3', '6024', 'Grey', 'apart,', 'exceed', 'expectations,', 'anyway?', 'nicest', 'snob,', 'good&#34;', 'occasion', 'me.If', 'Broken', 'few,', 'inexpensive!', 'Ocean', 'stunning.', 'steal.', 'Hey', '\"OVATION', 'IDEA\"', 'GO-DPS.', 'items,', 'brag', 'GO-DPS', 'Somehow,', 'thins', 'funk.', 'thing.I', 'lines,', 'Nylon.', 'picking,', 'Premium', 'Abalone,', 'pic', 'thing-', 'pickguard.', 'selection', 'coded', 'confirmation', '(on', 'postage', 'bluish', 'PERFECT', 'quality!', 'impending', 'brown', 'eating', 'Fenders', 'coolest', 'AMZ', 'secondary', 'sellers', 'containing', 'trippy', 'pearl', 'fave.', 'hip', 'baggy', 'tap', '(better', 'whining', '\"Most', 'addition,', 'shop.', 'comes.', 'strike', 'styles.', 'pretty,', 'ziploc', 'rubber.', 'Thanks.SPO', 'one-', 'wander', 'Transaction', '\"click\"', 'they&#8217;re', 'inlays', 'screw,', 'oops', 'routine', 'painful', 'Worst', 'pin,', 'capo.This', 'describes', 'specialized', 'C1', '08', '(Gibson', 'Heritage', 'SE', 'figuring', 'consideration.', 'Built,', 'Capo!', 'them;', 'them.They', 'cared', 'adjuster', 'rivets', 'sideways', '50s', 'day.I', 'yesterday,', 'click.', 'use...', 'oversized', 'capo.I', 'forward.', 'chording', 'altered', 'accomodate', 'too)', 'Name', 'singer', 'invasive', 'newMahalo', 'U-35PK', 'Sparkling', 'Soprano', 'Outfit', 'snuggly', 'leather.', 'Brilliant', 'challenge', 'trys', 'guitar.If', 'hassle.', 'Apply', 'intended,', '180', 'stroke.', 'doctor', 'ordered.', 'rob', 'guaranteed', 'charged', '(12', 'for.The', 'unplugging.', 'posted.', 'seal', 'soldered', 'acrylic', 'separating', 'gigging,', 'replace.', 'Cable.', 'Study', 'transmitting', 'instance,', 'moved', 'there.With', 'days,', 'huge.', 'Tele,', 'P-Bass', 'huge,', 'yeah,', 'poorly', 'cords,', 'jack).', 'excellent,', 'Poor', 'has.', 'Hearing', 'believing', 'amp.I', 'experiment.', 'Next,', 'believer.', 'skimp', \"1000's\", 'cabinets', 'snd', 'warranty.', 'pricey.', 'gigged', 'extensively,', 'cork-sniffer', 'trend', 'frequencies,', 'Monster,', 'problem.My', 'curls', 'Duty', 'transfers', 'BTW,', 'verified', 'impressed!', 'powerful.', 'static.', 'Thinking', 'perfect...', 'cables!', 'product...', '\"good\"', 'grown', 'Know', 'clearing', 'visited', 'for!', 'ur', 'almost,', 'presents.', 'delivering', 'September', '2012.', 'def', 'concerning', 'issues.I', 'fatso', 'techniques', 'bling', 'keyboards', 'warranted', 'discern', 'manufacturer,', 'anyway.)', 'side-by-side', 'plunking', '(which,', 'leaping', 'timeless', 'Neutrik', 'overpriced.', 'phone.', 'clips,', 'pencils,', 'fits,', 'flexes', 'easly', 'creates', 'cluttering', 'spilling', 'Due', 'stands).', 'stow', 'pencil', 'invaluable', 'improvise', 'stand!', 'daughters', 'compensates', 'tho', 'Woody', 'grating', 'creep', 'Value,', 'Look,', '802', 'PC', 'scratched', 'differently', 'overhead', 'outside.', 'bulbs', 'but..', 'spectrum', 'emphasis', 'tuner)', 'bassier', 'dealing', 'EQ,', 'bet.', 'strings.*', 'twangy', 'dull,', 'dirtier', 'detune', 'future,', \"'Nuff\", 'GOOD,', 'blind.', 'salesman', 'reply', '1/3', 'book.', 'variations', 'eight', \"Taylor's\", 'awhile,', 'sparkle', 'highs.', 'used.The', '710', 'Darn', 'Light\"', '\"normal\"', 'us.We', 'comparable', 'individually', 'looped', 'bench.', 'freak', 'environmentally', 'environmental', 'recycled', 'labeled', 'coding', 'naming', 'system.I', 'musician.', 'enthusiast,', 'choices', 'strings.In', 'coding,', 'dream', 'six-string', \"year's\", 'phosphor-bronze', 'believed', 'interchangeable', 'used.There', 'unopened', 'GHS,', 'varieties', 'EXP16s', 'all.I', 'Sound-wise,', \"'brightness'\", 'qualities', 'reasonable.', 'corroding', 'drawbacks', 'unnatural', 'latest', 'good?', 'excited', '.012', '0.012', 'E,', 'played,', 'Pleasant', 'L4', 'OM-1', 'reference:', 'thinner.', '\"new', \"D'Addario's\", 'clang', \"EXP's\", 'time.The', 'generate', 'percussive', 'others;', 'lively', 'false', 'term,', 'booming', 'alittle', 'blink', 'Markley', 'Alchemy', '(now', 'discontinued)', 'rank', 'middle.', 'agreeable', 'overtones.', 'phospher', 'Gretsch', '80/20s', 'instances,', 'cheaper.I', 'imagine,', 'pricey,', 'Top', 'cores', 'windings', 'windings.', 'boil', 'simpler', 'bonded', 'accomplishes', 'things:', 'barrier', 'atmosphere', 'physical', 'fresher', 'depends.', 'Where', 'played.', 'bomb!', 'experimented', 'grand', 'natural,', 'ears.', 'depth.', 'beautifully', 'subtracting', 'grew', 'effort,', 'Warm,', 'balanced,', 'complement', 'mellowed', 'rivals', 'Reasonable', 'leaning', 'Ovation.', 'squeaky.', 'Cleartone', 'sister', 'brassy', 'tinny.', 'round-wound', 'ages.', 'loyalty', 'whose', 'impress', '\"bright\"', 'qualities.', 'church,', 'members', '\"better', 'good\"', 'Hummingbird', 'sale.', 'matched', 'thrill', 'shipping!', 'Beat', 'less-expensive', 'brand...', 'fear', '\"just', 'better...', 'string...', 'airplane', 'trips.', 'baggage', 'forks,', 'employees', 'airport', 'gun', 'Strats,', 'such.', 'ones).', 'plane', 'Deluxe.', 'hits', 'buddy', 'present.', '($99.95', 'Amazon),', 'luggage.', 'LAX', '(non-stop,', 'handling)', 'section', 'flopping', 'dangling', 're-glued', 'airline', 'sessions,', 'bargain!', 'gravity', 'unlock', 'legs', 'useable', 'open,', 'Into', 'Place', 'Finish', 'out-of-the-way', '2-guitar', 'modify', 'hopeful', 'estate', 'scratched.', 'Amazing!', 'bars,', 'footprint', 'cradles', '3D', 'OnStage', 'unlucky', 'Kinda', 'accommodates', 'base.', 'neoprene', 'clasp', 'invented', 'qualified', 'judgement', 'rehearsals,', 'yamaha', 'said?', 'accidents.', 'sites,', 'stance', 'brace', 'securing', 'unlikely', 'topple', 'mine,', 'hoped.', 'tilting', 'wrench', 'experiences', 'podcasting.', 'worst.', '(yes,', 'plastic)', 'secures', 'clamp.', 'wobble', 'worthless.', 'Avoid', 'everyday.', 'placed.', '\"pop', 'filter\"', 'consciousness', 'layers', 'offensive', 'phonemes', \"(they're\", 'artifacts', 'gooseneck,', 'base,', 'generous-sized', 'prepared', 'valued', 'filters,', 'heavy-duty', 'honesty,', 'artists', 'vocalists.', '(actually', '\"Heavy', 'Duty\"', \"IT'S\", 'detail.', 'Doesnt', 'Useless', 'mother', '......', 'Alto', '1980.', 'decisions', 'Shop', 'Texas', 'site.', 'Music,', 'brainer.', 'condensers.', 'untreated', '2i2,', 'SM7B', 'PR-40', 'Recording', 'Heil', 'PR40', 'switches.', 'rolloff', 'outboard', 'processing,', 'bumping', 'ranges', '$70.00', 'considerations', 'users', '($15', 'windscreens', 'microphone.The', 'Voice', 'Microphones', 'During', 'voiceover', 'diaphragm', 'SM7', 'notable', 'advantages', 'EV', 'SM5', 'selection,', 'SM7B.', 'RFI', 'transmitter', 'RCA', '44', 'production.', 'Stop', 'word.', 'jobs', 'RE27N/D', 'everywhere', 'went,', 'on-board', 'skilled', 'artist', 'give.', 'boomy', 'broadcast,', 'reliably.', 'trace', 'generated', 'weapon', 'ignorant', 'multi-thousand', 'proves', 'preamps', 'mixers', 'spec', '70', 'interfaces', 'hotter', 'yoke', 'Boost', 'rules', 'guy.', 'quality.I', 'AT2020,', 'sing,', 'love)', 'chain,', 'passage', 'SINGERS', 'Rock,', 'Jazz,', 'above.', 'Projects', 'endorsement', 'business,', 'below,', 'wondered', 'reproduce', 'use).', 'ambience', 'noise),', 'surpass', 'territory,', \"palm's\", 'predictable', 'aimed', 'convenient.', 'honky', 'dynamic,', '5k', 'blaring', 'Whereas', 'rejects', 'condenser,', 'sensitive.', 'Hang', \"mic's\", 'points.', 'fantastically', 'growls', 'atop', 'chart', 'indicating', 'mids,', 'surrounded', 'microwave', 'crushing', 'mounts.', 'collar', 'juice,', 'phantom', 'coloring', 'clicks,', 'noises,', 'Mainly', 'anywhere,', 'anytime,', '2014:', 'Forgot', 'shoot-outs', 'condenser.', 'talent', 'cases,', 'solely', 'factors,', 'region', 'has,', 'strident', 'charts', 'Yet,', 'Natural', 'amplifies', 'correctly.', 'Hollowbody', 'Dyna', 'Comp', 'organic,', 'Pedal.', 'anti', 'boards.', 'Precision', 'Bass.', 'standalone', 'interact', 'girlfriend', 'wobbly', 'litte', 'taller,', 'Stands', 'Pacific', 'abusing', 'cymbal', '18&#34;', 'crash', 'rattle,', 'giging', 'Strong', 'hi', '(from', 'cymbals.', 'comfort,', 'stool', 'rocking,', 'grabs', 'assemble,', 'HP', 'manipulate', 'exposed', 'upping', 'vice', 'versa.', 'subtle.', 'ROCK', 'SOLID', 'sliders,', 'overkill', 'blinks', 'clipping,', 'adaptor.', 'Electronics', 'Gain,', 'Comes', 'sliced', 'man....I', 'hyper', 'Aside', 'highlighted', 'distinctly', 'regardless.', 'dedicate', 'outlet', 'Incredible!', 'sensitivity', \"Remo's\", 'Remo', 'snare,', 'sound...', 'doubts', 'assembly', 'rolls', 'buyer', 'Speed', 'joking', 'Head', 'Regular', 'booms', 'cramped', 'stages', 'spaces.', 'relying', 'reservations', 'steady.', 'delivered.', 'this.This', 'manufacture.', 'simpler,', 'controlled', 'adjust.', 'deeply', 'angles', 'gooseneck.', 'pushes', 'angles.', 'conventional', 'repeatedly.', '$7', '13\"', 'tightened,', 'slip.', 'Stage', 'Arm', 'party', '\"On', 'meteor', 'Substantial', 'hi-hat', 'anOn', '13-inch', 'aNady', 'DM70', 'Microphoneor', 'DM80', 'bar-gooseneck', 'model.This', 'alto', 'saxophones,', 'baritones.', 'situations.I', 'goosenecks,', 'success', 'piece.', 'Fin', 'positions,', '(small)', 'On-Stage', 'MY550', 'shock-mount', 'steady', 'iPad', 'audience,', 'placements', 'Wuhan', 'china', 'oriental', 'suspect.', 'splash', 'Cymbal', 'trash', \"doesn't.\", 'that...', '$20.', 'remote', 'cymbals', 'sorts', 'K', 'china.', 'trashy', 'Wuhans', 'cymbals,', 'examples', 'China.', 'haha!!', 'hardcore', 'cymbal.', 'Placed', 'collecting', '$150,', '$200,', 'Monkey', 'mid-gain', 'midrange-heavy', 'tones.The', \"WON'T\", 'do:', '\"throw', 'keeping.', 'ultimately', 'redundant', 'Personally,', '(Behringer', 'indicated,', 'opted', 'personally.', 'clone,', 'DIY', 'lows.', 'purely', 'distort', 'sound.If', 'solo.', 'amps:', 'DeVille', '4x10', 'Spider', 'MK', 'amp.This', 'floorboard', 'soloing.', 'Whether', 'reiterate', 'e.g.,', 'Deville,', 'x2', 'chili', 'GC', '808', '9:00', 'beefier', 'Maxon', 'Such', 'sounds;', 'jazzy', 'Sabbath', 'simulated', 'candle', 'Signature', 'absurdly', 'Jam', 'Pedal!!!!', 'sensitive,', 'hump', 'chunk', 'thump', '70s', 'Moon', 'era', 'screamer,', 'substitute', 'screamer', 'JF-01', '\"Vintage', 'Overdrive\"', 'sake', 'clones.', 'DigiTech', 'simulates', 'Virtually', '\"Tone\"', 'versa),', 'treble.', 'compromising', 'state.', '09', 'MONKEY', 'Amazon).', 'overdrive/distortion', 'sound;', '\"fat\"', '(i.e.,', 'adapter).', '9V', '1968', 'slanted', 'GB', 'arch', 'get!!', 'better!!', 'Analog-Distortion', 'chains', 'Grunge', 'eliminates', 'sessions.', 'respectable', 'loudness', 'monitor.', 'eliminating', 'drumming', 'irritation', 'lacking.', 'phones,', 'phones.', 'dumb', 'phones', 'reduction,', 'hat', 'audiophile,', 'mando', 'dulcimer,', 'sound.One', 'UPDATE', 'Vic', 'Firth', 'headband', 'EX-29s', 'cans,', 'brands.Please', '(volume)', 'isolation', 'Meanwhile,', 'office', 'consists', 'MP', 'path', 'vacuum', 'buffer', 'U-Control', 'UCA-202', 'DAC', 'Eurorack', 'UB-502', 'state-of-the-art', 'top-drawer', 'belies', 'proof', 'newest', 'gym', 'crumble', 'tangled', 'trainer', 'cups,', 'MP3', 'decibels', 'attenuate', 'head/ears', 'adult', 'busy,', 'Active', 'canceling', 'Enjoy!', 'Headphones', 'Noisy', 'Office', 'muffle', 'polarity', 'damper', 'piano', 'footswitch.', 'polarity,', 'Keyboards', 'Motif,', 'ordering.', 'gal', 'orders', 'SUSTAIN', 'collector', 'analog,', 'living.', 'engages', '20%', 'sustains', 'pressed.', 'backward', 'reverse', 'potential', 'global', 'sensing', 'startup', '(never', \"(I've\", 'flip', 'footrest', 'keyboard,', 'similar,', 'depressing', 'circuit,', 'disengaged', 'housing.', 'cease', '(and,', 'indefinitely.', 'corrected', 'iron', 'disconnected.', 'damaged.', 'faulty', 'adjustment.', 'fix,', 'tools.', '3)', 'consulting', 'senses', 'altogether', 'conclude', 'm-audio', 'tongue', 'mentioned.', 'pretty.', 'fine.I', 'capo\"', '\"planet', 'add-on', 'tying', 'youtube', 'tutorials', 'program', 'garageband', 'mac', 'tutorial', 'lesson', 'rectangular', 'laugh.', 'armature', 'promise', 'toy.', 'crafted', 'Material', 'stripe', 'costs,', 'stores', 'researched', 'unhappy', 'online.', 'treasure', '$300.', 'octave.', 'days!', 'TWICE', 'ya', 'accurately,', 'low-quality', 'Dreadnought', '(Black)', 'damaged,', 'slick,', 'Amazon.com', 'lbs.', 'Reviews', 'Stock', ',it', 'snark', 'components,', 'machines', 'smoothly,', 'box;', 'compensated', 'full-bodied', 'impressive.', 'unfinished', 'areas.', 'shine.', 'melodies', 'jams', 'invest', 'grows', 'great,it', 'had!', 'Definetly', 'memory', 'acts', 'lid', 'Books', 'chemical', 'balance.', 'Brass', 'stitched', 'garage', 'periods.', 'bass.The', 'limitations', 'simple:', 'ABS', 'stopper', 'schedule,', 'loading', 'ATA-style', 'demanding', 'latches,', 'internal', 'storing', 'tour.', 'gig,', 'limitations.', 'Cannon', 'clutch', 'vertical.', 'motion.', 'stroke', 'clutch,', 'tries', 'important.', 'latch', 'Pulse', 'Hi', 'hats,', 'pratice', 'Whoever', 'goin', 'ingenious', 'hi-hats', 'sizzle', 'stem,', 'spring,', 'trial', 'error', 'mated', 'opening.', '\"must', 'have\"', 'hurt.', 'aggression', 'sweetest', 'from,', 'sticks.', 'walls', 'classroom', 'pounded', 'constantly.', 'Loved', 'life...', ':(', 'downer', 'log', 'Sticks', 'insanely', 'matched,', 'choise', 'to...', 'guitar!!!', 'new.The', 'ideally', 'job)', 'reset', \"(there's\", 'gap', 'indicates', 'Mini,', 'tweaking', 'adults', 'Bb', 'uneven.', '$99', '3/4-sized', 'upped', 'spot-on.', 'exact,', 'flawless.', 'words,', 'bell-like', 'functional,', 'full-size', 'fortunate', 'bargains', 'Lace', 'Chandler', 'Pickguard', 'photo)', 'Silver,', 'Lennon', 'distance.', 'Song', \"She's\", 'joined', 'blemishes', 'guard.', 'stains', 'damp', 'spots.', 'dulled', 'blemish', 'clamp-on', 'Snark', 'turn.', 'now.I', 'Crate', 'well-constructed,', 'Fender),', 'laminated', 'body,', 'silly', 'fixed.', '(good', '5-way', 'blade', 'anchors,', 'pit', 'paperwork', 'manual.', 'body/neck', 'tune.It', \"9's,\", 'ditch', 'definatly', 'Exelent', 'answers', 'judge.', \"How's\", 'love?', 'unbelievable', 'Gretch', 'ovation', 'Musical', 'amazon.', 'Rogue,', '5+', 'speaks', 'bill.', 'SOUND', 'GUITAR,', 'OUT', 'FANTASTIC', '15th', 'action.', 'Bang', 'Luck', 'DR-212', '12-String,', 'dimensions', 'Lower', 'knowlage', 'it.The', 'dimensions,', '(Most', 'case:', 'Tour', 'case),', 'Samick', 'ST92', 'Spruce', 'Hotel', 'California,', 'tunings', 'like.The', 'out.I', 'fantastic,', 'products!', 'Bridge', '1-2', '(green', 'Instructional', 'Tuners', 'Pick.', 'plunge', '\"U\"', 'widen', 'weld', 'detached', 'hanger.', 'hangers,', 'rock-solid.', 'stud,', 'drywall', 'anchors', 'width,', 'wall.No', 'hangers', '75', 'lbs', '150', 'assembled,', 'worry-free', 'company!', 'solid-body', 'studs', 'fasteners,', 'model.The', 'slope', 'display,', 'somewhat,', 'stud', 'all.The', 'creating', 'wall,', 'wall.This', 'legit', 'though;', 'Swing', 'concerns.', 'cooler.', 'Job!', 'attractive.', 'slide,', 'there).', 'hanger,', 'deducted', 'ukes,', 'Hercules', 'guitars;', 'ukuleles,', 'Hanger', 'ukuleles', \"(you'd\", 'Hercules.', 'Ukulele:', 'wall.', 'forks', 'wood.I', 'toggles', 'studs.', 'aftermarket', 'steel.', 'item!', 'falling.', 'price;', 'walls,', 'wonders,', 'squeezed', 'hangars.', 'display.', 'home:', 'program.', 'decoration', 'clever', 'rooms,', 'empty', 'magnetic', 'finder', 'hangers.', 'potentially', 'swinging', 'assemble', 'poles', 'I;ve', 'legs,', 'Manhasset', 'tilt', 'Am', 'paid!', 'Stagg', 'weighted', 'lugging', 'sheets', 'superior.', 'price.I', 'backpack.', 'evening.', 'flipping', 'Solid.', 'purposes,', 'Adjusts', 'apart.', 'together!', 'Assembly', 'binders', 'Far,', 'heaviest', 'warriors', 'preventing', '5-10', 'folders', 'dip', 'permanently', 'tray', 'Consequently,', 'crowded', 'permits', 'parallel', 'warned', 'over-tighten', 'latter,', 'serrated', 'careless', '4-hour', \"that'll\", 'lighten', 'or,', '(albeit', '(perhaps', 'needless', 'disassemble', 'pint-sized', 'Peak', 'responded', 'pounds.', 'CRAP', 'tryed', 'hunks', 'Ernies', 'burned', 'slinkys', 'Break', 'Rock!', 'Steels', 'Z', \"D'Adarrio\", 'rule.', 'Top/Heavy', 'reading.', 'self.', 'exceptions.', 'punk,', 'specialty', 'bedroom,', 'beefy', \"11's\", 'wound)', 'melodic', 'feels.', 'ans', 'Bb,', 'December', '2012', 'recommends', 'exposing', \"D'adario\", 'provide.', 'lend', 'EXL', 'frequently.', 'choice.For', 'nod', '2008', 'Sadly,', 'Elixir,', 'cosmetic', 'responsible', 'infrequently,', 'confuse', 'serial', 'fake', 'enter', 'verify', 'authentic.', 'disliked', 'started.', 'goofy', 'anyway),', 'Gigging', 'Musicians', 'manufactured', 'Island', 'gauges,', '49', 'pressure,', 'balls.', 'wow!', 'exactly.', 'lower.', 'extream', '(while', 'soud', \"D'addario's\", 'Color-coded', 'vendor', 'combinations', 'phrase', 'aka', 'frozen', 'pronunciation', 'letters', 'name.', 'pronounce', 'have!', 'Hold', 'humble', 'sleeves', 'experimenting.', 'EXL110', 'concentrate', 'lasting,', 'stiffer,', \"Ball's\", 'deliberately', 'chart,', 'designing', 'number.', 'worthwhile', 'consistency.', 'chasing', 'Tighter', 'twang.', 'GREAT.', 'contemporary', 'dependable.', 'claiming', 'lifeless', 'ole', 'geetar', 'out...', 'bottoms', 'corrosion,', 'overpaid', 'magical', 'deliver,', 'sooner,', 'drama,', 'chipping', 'dumb.', '30+', 'consistent.', 'on),', 'automated', 'stretching,', 'unknown', 'handful', 'faves', 'offshore', 'anyways.', 'GFS', 'production,', 'instance.', \"D'Addario.\", 'attention.', 'scale)', 'everywhere,', 'miss.', 'Price.', 'everyone,', 'Irish', 'Found', 'Longer,', \"Ernie's\", 'Bend', 'Dull', 'Week,', 'Stay', 'Brighter', 'Them', 'Expensive', 'Fast,', 'Me,', \"DR's\", '\"', 'soloist', 'floyd', 'Perfection', 'witch', 'Ever.', 'Ehhh', 'newbie', 'Things', 'alright,', 'fault,', 'abit', 'de', 'es', 'un', 'producto', 'bueno!!', 'Excelente!!', 'desire', 'Lives', 'd,addario', 'Earnie', \"D'addarios\", 'lately.', 'Came', 'timely', 'extraordinary.', 'Bullets', 'uniform', 'Intonation', \"'good'\", 'paper,', 'stoked', 'sound)', 'packs,', \"XL's\", 'fundamental', 'consistency,', 'easier,', '10s', 'fist', 'goodness', 'Rhythm', 'glisten', 'harsh.', 'tonally', \"EXL110's\", 'gauge)', 'missing.', 'around.I', 'stocks', 'history', 'louder.', 'music...', 'Reissue', 'stratocaster', 'leader', 'services', 'Diamond', 'Hybrid', 'registers.', 'label', 'bent.', 'brainer!', 'passing', 'faithful', 'phosphorus', 'private', 'labels', 'provider', 'Rocks.', 'STRING', 'EXL115', 'scale,', '9s,', '(3rd', 'Fatal', 'Blow...', 'theGibson', 'Brite', 'acid,', 'bending.', 'exclusively,', 'longest.', '20+', 'Strumma', 'experimenting,', 'EXL116', '11-56', 'articulation.', 'track,', 'doable.', 'Balls,', '116', 'down;', 'Bigsby', 'V5', 'fits.', 'barely.', 'cuz', 'perfect:', 'outside,', 'in.The', 'basement', 'scratches.', 'glove', 'Show', 'Someone', 'disappoint', 'thier', 'specifications', 'ES335.', 'compartment.', 'meet', \"Epiphone's\", 'manufacturing', 'Casino,', 'Pass', 'Emperor', 'Dot.', 'cutaway', 'cutaway.', 'Finished', 'faux', 'scuff', 'sort,', 'NICE', 'latches', 'obligatory', 'upright,', 'bottom.', '(other', 'FIVE', 'struck', 'handled', 'stitching', 'implemented.', 'dot,', 'ES-335', 'clones', 'FITS', 'PERFECT!', '(out', 'heavy;', 'feared', 'knocks', 'schools', 'generation', 'family.', 'sheets,', 'fragile,', 'bear', 'folder', 'appropriately', 'lip,', 'moveable', 'alternatives,', 'winner.', 'Delivered', 'classic,', 'tank,', 'U.S.A.', 'speaking,', 'nice...but', 'tremendous', 'ass', 'wimpy', 'voice-over', 'minimizing', 'presents', 'bassy', 'NOTE:', 'researching', 'anniversary', '990', 'amateur,', 'astounding', 'value!', 'shockmount,', 'stations', 'interface,', 'unbeatable.', 'vocal,', 'overhead,', 'Audio-Technica', 'ffsalsa@yahoo.com', 'studios,', 'Art', 'Phantom', 'Although,', 'shiny,', 'miking', 'Buck', 'pre', 'it.Also,', 'skip', 'Merely', 'ambient', 'controlled,', 'stationary', 'studios.', '20Hz', 'characteristics', 'studios', 'updated', 'detail', 'yo', 'GA4E.', 'S6.', '600L', 'PB', 'EJ16', 'G)', '.053)', '.016', 'problem.The', 'places.', 'total,', 'subject', 'delighted', 'Seem', 'Previously', 'form,', 'previously.', 'brittle.', 'keeper.', 'neon', 'colors,', 'feeling,', 'Stable', 'looses', 'sheep', 'quantity.', 'pictured.', 'P.s.', 'Aid', 'workbench', 'protection,', 'insterment', 'clicked', 'servicing', 'toolbox.', 'while.I', 'felt.', 'Functions', 'assist', 'neatly', 'Takamine,', 'travelling.', 'land', 'bigger.', 'maintenance,', 'bench', 'elevated', 'flatten', 'robust.', 'disappointment.', 'frustrated', 'tripod', 'table.', 'neatly.', 'lessons,', 'decision', 'arises.', 'improved.', 'bone,', 'whoever', 'tote', 'POD', 'HD500', 'snugly,', 'expression', \"arm's\", 'freedom', 'movement.', 'Florida.', 'pretend', '500.', 'snuggly,', '3/4&#34;', 'binder', 'GT-100', 'stupid', 'odds', 'gator', 'stiched', 'patch.', 'velcros', 'offers', 'HD500X', 'pod', 'flattened', 'zipper', 'burst', 'loaded.', 'this.The', 'minus', 'slot.', 'items.', 'RP', \"I'\", 've', 'Knocked', 'distribution', 'banging', 'skinny', 'but.......', 'logic', 'conducive', 'stuffed', 'closet,', 'case.The', 'wall)', 'fallen', 'Hangs', 'displaying', 'flexing', '(both', 'finished.', 'daisy', 'chaining', 'walk', 'center.', 'there&#34;', 'whichever', 'hankering', 'Included', 'myself.I', 'many.', 'paid.', \"pro's\", 'cable.The', 'adapt', 'Own', '4,', 'adaptable', 'Installs', 'studs).', 'Wall', 'space-saving', 'ideas,', 'necks,', 'carved', 'slab', 'prongs', 'Son', 'pre-drilled', 'template', 'warning:', 'Fan', 'spaced', 'Hangers', 'Stringed', 'sheetrock', 'drywall.', 'blinds', 'exterior', 'anchors.', 'Advertised', 'ceiling', 'Floor', 'headstocks', 'finds', 'saver.', 'twist-n-lock', 'pilot', 'tempting', 'ratchet', 'shelves', 'apartments', 'maintained', 'apartment', 'stud.', 'gravity.', 'packaged.', 'ELECTRIC', 'Mounting', '(way', 'looking)', 'Top-notch', 'designs', 'cradle.', 'banjos,', 'Hardware', 'plastic.The', 'touches', 'swivel,', 'Nitro', 'chance,', 'sprung', 'screw-in', 'done)', 'Output', 'sturdily', 'MADE', 'Brook', 'Mays', 'closely', 'responsive,', 'request', '(basically', 'add)', 'Pic', 'cumbersome,', 'beloved', 'eleven', 'rows', 'low)', 'eighteen', 'pictures,', 'representation', 'these.The', 'tack', 'dots', 'swings', 'professional-looking', 'backplate', 'fastened', 'nailed', 'GREAT!!!', 'by.', 'universal.', 'longtime', 'combine', 'twin', 'fishing', 'replacement,', 'pockets.', 'wrong...', 'Ease', 'scattered', 'baggie', '(depending', 'pick)', 'backing,', 'coin', 'holders,', 'this..', 'Man,', 'wast', 'Junk', 'easier?', 'but....', '(4)', 'remedied', 'Thus', 'holder.I', 'stated.', 'occasions', 'observations:+', 'unobtrusive', 'guitar+', 'peel', 'overload', 'pickholder', 'belong.', 'neutral', 'concept.', 'headstocks.', 'III,', 'Max-Grip', 'SD', 'says!', 'brightly', 'hunting', 'thePlanet', 'fewer', 'whatnot.', '5000', '5005', 'Chrome', '2013', 'Reed', 'Smith', 'example).', 'Mel', 'picks)', 'mi', 'refunded', 'inflated', 'submit', 'functional.', 'Pickholder', 'browsing', 'me....', 'travelling', 'weary', 'invention', 'example),', 'courtesy', 'adequate.', 'something)', 'superb,', 'nerve', 'stray', '7.', 'gifts.', \"'Planet\", \"Waves'\", 'location', 'ONE', 'loses', 'strip,', 'Storage', \"'real'\", 'watching', 'invention.', '5-8', 'ti', 'pickers', 'tricks.', 'stick-on', 'LED', 'alternating', '(hard', 'soft)', 'adhere', 'stand?', 'instrument...', '\"standard\"', 'dozen.', 'guide,', 'forcing', 'seam', 'split.', 'tape,', 'passable', 'sturdier,', 'shops.', 'right!', 'iPhone', 'regard,', 'snagged', 'supple', 'is;', 'magical,', 'cable..', '10ft', 'Plant', 'eventually.', 'lenght', 'relief.', 'connectivity', 'Dependable', 'appreciable', 'Angle', 'waves.', 'decently', 'shorting', '\"more', 'Lousy', 'lesson.', \"it...it's\", 'next,', 'jayjustin', 'notice,', 'it...but', 'headaches', 'test.', 'expectations.', '4-6', 'altogether,', 'capacitance', 'news', 'comparisons.', 'mojo', 'published', 'criteria,', '$', 'honoring', 'breaks,', 'chalk', 'percentage', 'eventual', 'perception', 'IDK', 'R&D;', 'realistically', 'trade-off.', 'similarly', 'effectively.', 'creepy', 'quiet.', 'flexable', 'detect.', \"mate's\", 'Tweed', 'Casio', 'RD-300NX', 'transmission', 'foil', 'braided', 'conductor', 'components', 'Monster.', 'wins', 'gigging.', 'patching', 'stage.The', 'BS', 'Thanks.', 'underrated', 'measured', 'throughput', 'dealt', 'noodle', 'right-angle', 'connection,', 'transmit', 'Plugged', 'wiggle', \"out'\", 'hassles', 'mailing', \"company's\", \"'boutique'\", 'cables..', 'cheaper,', 'myMXL', 'Multi-pattern', 'theYamaha', 'NIce', 'data', 'cables.This', 'ton.', 'Pod.', 'canare', 'mogami,', 'supple,', '@', 'come,', 'contoured', 'winter.', 'core', 'giant', 'leap', \"pick's,\", 'plastic/rubber', 'Trouble', 'lately,', 'stiffness.', 'was:', '(1)', '(2)', '(3)', 'locations,', '(also', 'tops!', 'tops.', 'plays!', 'gifts', 'chunky', \"life's\", 'guilty', 'Davas', 'slide.', 'pleasures', 'off/on', 'Wrong.', '\"feel\"', 'effortlessly', 'enthusiastic', 'regards', 'Breedlove', 'purist)', 'Master', 'Control', 'forefinger', 'chug', 'DMCP', 'Instruments', 'amazing!!', 'notably', 'effortlessly,', 'worry,', 'seen).', 'Celtic', 'ordinarily', '4x', \"They've\", 'St', 'comfort', 'Raising', 'fire', 'background.', 'annoy', 'pinstripe', 'flame', 'irritated', 'elixirs,', 'smoother.', 'entirely.', 'Interesting', 'starts,', 'lint', 'fingerease', 'have!!!', 'risk.', 'Slick', 'Surprised', \"Iv'e\", 'residual', 'buildup', 'agent', 'beneficial', 'compound', 'conductive', 'interference.', 'Investment', 'mail.', 'shoelace', 'problem!', 'serviceable,', 'differently.', 'influence', 'neater', 'shoe', 'mount.', 'buckle.', 'Goes', '\"guitar', 'newbie.', 'lengthen', 'Great.', 'lease', 'y', 'Release', 'interesting.', 'Customer', 'Slips', 'impede', 'wandering', '\"Guitar', 'to/from', 'bill,', 'straps)', 'wraps', 'snug.', 'lace', \"Won't\", 'degree,', 'chipped', 'contact.', 'story.', 'caveats', 'well!!', 'goosenecks', 'hardware,', 'sag.', 'front,', '57,', 'Excellent,', 'disapointed', 'venue,', 'Gooseneck,', 'Black\"', 'myOn', 'sax,', 'Attachment', 'bars.', 'collapsing.', 'non-standard', 'phaser', 'confusing.', '80s', 'versions,', 'bump,', 'OLD', 'alas', 'EH', 'Sadly', 'boutiques', 'men', 'AT', 'us!', 'presented.', 'EVH', 'effect!', 'Mxr', 'bash', 'Halen', 'swooshing', 'Flange', 'Phaser', 'waves!', 'PHASE', 'worthless', 'irritating', 'dirt.', \"pedal's\", 'modifications.', 'result:', 'it:', 'frustrating', 'acceptable.', 'BOTTOM', 'IF', 'WANT', 'Adds', 'distortion;', 'stompbox', 'present,', 'PH-3', 'MM4', 'Modeler', 'indicator', 'capabilities,', 'slightly.', 'song,', 'possibilities.', 'spacey', 'cover,', 'ES-57', 'foam.', 'Foam', 'NOISE.', 'rip,', 'mics.I', 'Snug', 'gimmick,', 'constant,', 'crystal', 'vocalist,', 'podcaster', 'XM8500', 'saliva', 'minimum.', '$2,', 'complaining.', 'brand)', 'germs', 'stretching.', 'snug,', 'clown', 'blocking', 'smelly', 'M1', 'Alot', 'H1', 'boot', 'windshield', 'obstruct', 'Economical', 'windscreen,', 'idk', 'sideways.', 'do...', 'hassle,', 'bigger,', 'disconnecting', 'enCORE', 'Studio-Grade', 'Performance', 'mate', 'MSA7040TB', 'Boom,', 'Black,', '7701B', 'Tripod', 'Standand', 'factors', 'factor,', 'vouch', '(actually,', 'SHOULD', 'selecting', 'GLS', 'comparison,', '1/8', 'threading.', 'clips.', 'purchase!', 'drumset.', 'Pinstripe', 'practices', 'death.', 'Indestructible', 'Attack', 'loud,', 'ensures', '(get', 'Ludwig', 'Key', '(ASIN', 'finely', 'tuned,', 'reverb,', 'VALUE!', 'Good!', 'trouble,', 'wallet', 'Sweet!', 'loops.', 'aspiring', 'Well-designed', 'CFS606', 'Inch', 'FX', 'bills', 'spaghetti.', 'jumpers', \"gig'ing\", 'needed!', 'peddle', 'massive', 'short:', 'hone', 'well-rounded', 'slider', 'dimly', 'lit', 'stage.If', 'fence', 'stomp.', 'rig,', 'headed', 'levels.', 'King', 'modeling.', 'chains.', 'arsenal', 'auto', 'octaver,', 'booster', 'Box.', 'layout', 'lighted', 'ez', \"EQ's,\", 'LEDs', 'Highest', 'Unbelievable', 'route.', 'downfall', 'pay.', 'lucked', 'define', 'state,', 'hesitation.I', 'event,', '$30-$50', 'sacrifice', '$90', 'sound-', '\"concert\"', 'electronics!', 'design!', 'Matte', 'corroded', 'strings-', 'bend,', 'smoothed', 'ends-', 'informed', 'Rich,', 'intention', 'photos.', 'S34C', 'NEX', 'steel-string', 'noodling.', '(made', 'expected),', 'carefully,', 'instrument.The', 'EJ-16', 'modification,', 'upgrade.So', \"Beginner's\", 'carpal', 'surgery', 'Firstly,', 'promptly', 'honey', 'attracted', 'knows,', 'eyes,', 'lettering', 'removed.', 'lovely,', 'Thumb', 'finger,', 'piano.', 'workmanship.', 'acquaintance', 'coats', 'flows', 'twelfth', 'enjoyable', 'play)', 'tune-up', 'comfort.', 'beginner,', 'percent', 'arrive', 'intact,', 'simply,', '$750', '$100,', 'peeled', 'characterize', 'wasting', 'ANOTHER', 'edition', 'Christmas,', 'one.The', 'manager', 'choice.I', 'inspected', 'S35', 'Natural.', 'bulky,', 'sleep', 'students.', 'parents.', 'beach', 'starters,', 'peeling', 'Inadequate', 'Loudness', 'Mitchell', 'professor', 'all..', 'Truss', 'structure', 'needed)', 'fretted', '21st', 'set-up.', 'novices', 'it\"', 'fingerprints,', 'oil,', 'wipes', 'polish,', 'pesky', 'touch,', 'Lets', 'cleans/polishes', 'fibers', 'dog', 'Leaves', 'everywhere.', 'flute,', 'plating.', 'plating', 'softener', 'flute', 'cloths.', 'sealant', 'separately', 'afterward', 'Work!', 'Scratch', 'surfaces,', 'pressing', 'fingerboard,', 'keys.', 'moments', 'wax,', '11-3/4\"', 'Ebony', 'lacquer', 'shiny.', 'onthe', 'grease,', 'fuzzy', \"'Dunlop\", 'Formula', '65', 'smudges.', 'Microfiber', 'everything.', 'smeared', 'upkeep', 'Cloth', '>', 'Photos', '&lt;-', \"EB's\", 'Polishing', 'nitro', 'Wiping', 'substantial.', 'glance', 'hook.', 'dunno', 'reviewer,', 'Polishes', 'sheds', 'unravel', 'Making', 'wash', 'All-Purpose', 'behind.', 'onstage,', 'wonder.', 'lumping', 'COMPLETELY', 'confusion', 'micro-fiber', 'fraying', 'lint,', 'sad.', 'NOTHING', 'NEVER', 'scratches,', 'bc', 'apple', 'reverbs', 'trail', 'tails', 'reverb)', 'time\"', 'verb', 'obsolete', 'coupled', 'noiseless.', 'swells.', '(including', 'ruggedly', 'digital,', \"won't.\", 'digitech', 'Tons', 'body)', 'though).', 'there.I', 'fans', 'enhanced', 'creativity', 'reverb.', \"unit.I'm\", 'fond', 'Meh', 'competes', 'bold', 'now....', 'chicken', 'operation.', 'trade', 'reducer', 'yet...', 'adjacent', 'joke,', 'rock)', 'situation,', 'Squeeze', 'Compressor/Sustainer', 'fluid', 'DVP1', 'unacceptable', 'swell.', 'laid', 'musicians.I', 'Pedal!', 'swells', 'configuration', '\"true', 'bypass\"', 'travels', 'drops.', 'Asian', 'knock-off,', 'related', 'impedance,', 'Major', 'generous', 'fails', 'that?', 'indestructible,', 'floor.I', 'recommendations', 'deliver.', 'sucker', 'several.', 'Buy.', 'life-saver.', 'it-', 'Heavy,', 'coarse', 'Seriously.', 'bass.I', 'technique.', 'Padding', 'shoulders.', 'Returned', 'P-bass', 'Tacoma', 'roundback', 'distributes', 'comfortable.I', 'distracted', 'moment.', 'moment', 'fortune,', 'phat', 'wide.', 'spreads', 'cushioning', '&#34;F&#34;', 'Amazingly,', 'Canada,', 'China!', 'purpose;', 'worthwhile.', 'ukuleles.', 'correct,', 'bread', 'laces', 'Delivery', 'immediate.', 'Rolls', 'Strap,', 'embossed', 'Support', 'mA', 'requirements', 'accordingly.', 'CLEAN', 'DC', 'Dumb', 'separately,', 'nit', 'vague', 'juice', 'capacity', 'introduces', 'Adapter', 'receivers,', 'Baby,', 'in-ear', 'monitor,', 'combined,', 'run,', 'supplies', 'attachment.', 'perfectly!', 'volt', 'rehearsed', 'drive/distortion', 'noise!', 'signal)', 'powers', 'daisychain', 'pedals.I', 'looper.', 'Korg', 'Pitchblack', 'multi-plug', 'pliable', 'rout', '(check', 'Hooked', 'warts.', 'more.One', 'receptacles', 'chanced', '12V', 'source.', 'relegated', 'Connected', 'capability', 'One-Spot', 'Godlyke', 'Running', 'logical', 'uncluttered', 'devices', 'here?', 'wired', '\"One', 'Spot\"', 'practical,', 'configuration,', 'five,', 'overpriced,', 'Powers', 'sends', 'Fulltone', 'OCD.', 'laptop', 'beware.', 'RIGHT', 'however...', 'advise', 'spot\"', '8-pedal', 'Completely', 'v', 'converters', 'Behringer.', 'Works.', 'multi-pedal', 'DA-1', 'TU-3', 'way).', 'T-Rex', 'fuel', 'planing', 'difficulties', 'Agile', 'Pro,', 'provided,', 'white,', 'cigarette', 'smoke,', '100%,', 'protected,', 'Dimarzio', 'expansive', 'dinner', 'lens', 'Nicely,', 'Logo,', 'Say', 'Alone', 'Finish,', 'Couple', 'Days,', 'Purchase', 'Shines', 'sprays', 'etc.The', 'job..', 'more!', 'cord.I', 'Broke', 'M', 'distinguish', 'difference?', 'ahead,', 'Lifetime', 'retention', 'recording.I', 'RF', 'cables.They', 'where,', 'purchase.I', 'Warranty', 'flaw,', 'razor', 'insulation', 'that-', 'halloween', 'meticulous', 'replacement...', 'claims.', 'hefty', 'footers.', 'sound?', '9.5s', '$4.99', '11s', 'fuller.', '10s.', 'George', 'Mr', 'Scary', 'Tiger', '10.', '9.', 'code', 'authentic', 'Punchy', 'site,', 'over-tightening', 'dismal', 'approach', 'result,', 'Ya', 'Stage,', '!!!!!', '(too', 'snappy', 'articulate', 'Geddy', 'Chris', 'Great...', 'Beams', '7,', 'bland', 'retained', 'long-lasting.', 'are:', 'pissed', 'indoors', 'muddy.', 'distinction', 'route,', 'Seagull,', 'small!', '\"ball', 'Tone!', '\"stretch\"', '&#34;A&#34;', '(3', 'guitars)', 'EJ', '17', 'ok..', 'tunings,', 'Exceptional', 'Enjoyable', 'Warm', '(according', 'Replacement', 'wounds,', 'changing.', 'unbelievable,', 'vastly', 'clunky', 'killing', 'plans', 'hammering', '700', 'Bristol', 'seating', 'pin.', 'mirror', 'tightly', 'daily.', '62', 'guitar!!', 'Sounded', 'caliper', 'perhaps.', 'tone.One', 'sleeves.', 'individually,', 'pouch.', 'unwind', \"70's.\", 'say...I', 'acid', 'explosion', 'silk-and-steel', 'phase.', 'baseline', 'better.)', 'approaches', 'meters.', 'G-string', 'wounds', 'pried', 'admit.', 'timbre', 'spectrum.', 'User', 'strings?', 'maybe,', 'EJ16-3D', 'Yes!', 'compare,', 'complete.', 'tinny,', 'Washburns', 'judging', 'types.', 'writer.', 'discuss', 'recreationally.', 'wrong!', 'forked', 'fingertips!', 'sing!', \"Elixir's,\", 'DVD', 'Eltjo', 'preview', 'performer', 'e-string', 'where.', 'qualities,', 'variables', 'play.I', 'EJ26', 'premature', 'breakage.', '(playing', 'tuning).', 'bothers', 'mentions', 'string),', 'Brassy', \"'60s\", 'vibration.', 'alot.', 'break.I', 'crimp', 'passes', 'average,', 'Frets', 'century', 'amazes', 'cheapies.', 'law', 'favorable', 'users.', 'fingering,', 'enjoyable,', 'busy', 'trashed', 'bumpers', 'now?', 'best...', 'Guild', 'could.', 'saddle,', 'rests', 'sale,', 'installing.', 'know..', 'contacting', 'duh', 'well).', 'comfy.', 'brilliant,', 'Mellow', 'grate', ')*', 'e.', 'Thicker', 'Lighter', 'enthusiasts', 'deaden', 'Reds', 'emphasize', 'smoothing', 'snap.', 'Oops!', 'enjoy.', 'react', '000', 'experiments', 'strings...they', '#12', '#10', 'so-called', '7/8', 'samples', 'SX', 'Lil', 'way)', 'scales,', 'parlor', 'Filter,', 'Blue,', 'Radius', 'Shock', 'addendum', 'grade,', 'plosives,', 'when,', \"Yeti's\", 'runs,', 'Speaking', 'copy,', 'behaves.', 'curved', 'Mount', 'Surprisingly,', 'SAMD5', 'MD5', 'Desktop', 'champ,', 'Larger', 'would,', 'background,', 'weird,', 'yeti', 'Overpriced', 'nan', 'enought.', 'good.So', 'Student', 'worm', 'ppl', 'Pro-Arte', 'stringent', 'marketed', 'classification', 'curious,', 'inexpensive)', 'equally.', 'ratio.', '25$,', 'skills.', 'tedious', 'work.This', 'hundred,', '(such', 'must,', 'tune).', 'Ukulele,', 'Uku', 'Mandolin.', 'prety', 'cool)', 'wider,', 'Saddle', 'moves,', 'Tuner', 'twang', 'dude', 'smashed', 'strings,,', 'Snarks,', 'snapped.', 'tailpiece', 'hardly.', '40-50', 'Actually,', 'wheels', 'trash.', 'strangle', 'hey,', '$49.99', 'hell', '(been', 'there),', 'going,', 'camping', '100.', '20-30', 'makers.', '(6', \"ukulele's\", 'tuning...', 'Aquilas,', '(And', 'soprano,', 'tenor,', 'Getting', 'soprano.', 'J53', 'week).', 'Concert,', 'soprano', 'miracles', 'loving', 'ideas', 'aluminum', 'wound,', 'health', 'Last,', 'Uke', 'favorites,', 'deteriorate.', 'Strung', 'killed', 'defined', 'rumbling', '(along', 'prepare', 'worn.', 'fanatic', 'betray', 'insult', 'DR.', 'presume', 'so.It', 'nowhere', 'oxidation', 'generously', '$6', '(9', 'roll,', 'guitars.I', 'Nickels', 'ice', 'ups.', '(4', 'bodies', 'Giving', 'historical', 'occasionally.', 'Wrap', 'Core', 'buzzed', 'cheapo', 'disappoint.', 'automatically', 'there...', 'Travel', 'defiantly', \"didn't.\", 'F335', 'scientific', 'firmly.', 'escaping', 'poking', '(sometimes', 'far).', 'Impressed', 'flush,', 'pins!', 'buck,', 'everything.I', 'Defiantly', 'Space', 'capable,', 'experienced.', 'length,', 'arrange', 'if,', 'Economical,', 'noises.', \"1'\", 'organized', 'mission', 'linking', 'instance', 'complex.', 'bulb', 'Pedalboard', 'unchanged', 'stretch,', 'PEDALS', 'boxes,', 'crazy,', 'od/distortion', 'exacerbated', 'pain,', 'cents.', 'aware.', 'details', 'guitar.This', \"bag's\", 'from.', 'classical.', 'polyester', 'sunlight', 'defect', 'upload', 'polypropylene', 'Wonderful!', 'Rather', 'correcting', 'detract', 'systems.', 'strap)', 'ESP', 'apprehensive', 'Locks', 'open.', 'padding.', 'digs', 'walking', 'mechanisms', 'descriptions', '$4.95', 'sick', 'paid,', 'them...not', 'Very,', 'plain,', 'highlights', 'moon.', 'bells', 'rigorous', 'strap.I', 'strap...', 'sadly,', 'reliability.', 'cramp', '\"OK\"', 'hollow,', 'efficient,', 'mechanism,', 'more!!', 'Polypropylene', 'widths', 'limited,', 'Alternative', 'acoustic),', 'why?', 'itch', 'top-notch', 'warts', 'too?', 'Pedaltrain', 'Solidly', 'outputs.', 'aside.', 'casing.', 'regrets', 'voltage.', 'dying', 'device!', 'options,', 'etc),', 'music/mic', 'Allows', 'dropped.', 'gear)', 'tube,', 'bean', 'reviewed.', '\"thin\"', 'Mac', 'Third,', \"manufacturer's\", '3.1mm', 'Cuts', 'Glaesel', 'Mute', 'apartment.', 'Ultra', 'disturb', 'neighbors,', 'ofthe', '43', 'raising', 'Novice', 'Violinist', 'evaluate', 'repaired', 'Experienced', 'well)', 'nothing.', 'undesirable', '*Just', 'Drops', '4/4', 'mute,', 'meter', 'recalibrated', 'silent,', 'seeming', 'backwards', 'crossover', 'well-made.', 'feet.', 'smoothly.', 'gripe,', 'supplies,', 'you.One', \"Behringer's\", 'WD-40', 'expose', 'instructions.', 'afford,', 'volume/tone', 'decreases', 'steep', 'toes', 'top/bottom', 'router', 'amp;', 'advertised!', 'Foot', \"reviewer's\", 'treadle', 'looper', 'labeled,', 'curiosity', 'wee', 'dimmer', 'whatsoever,', 'hear.', 'positions.', 'tolerable', 'generates', 'passive,', 'RE-20', 'intensity,', 'aspect,', 'confirm', 'VST', 'synthesizer,', 'mapped', 'erratic', 'behavior', 'slightest', 'intensity', 'gradual.', 'precise.', 'CV', 'German', 'controlling', 'sm57', 'sm58.', 'a/b', 'mics)', 'costly', 'favorably', 'Peavey,', 'buck!', 'disappointing.', 'entertainment', 'period,', 'Alice', 'knockoffs.', 'behaves', 'rejection', 'drops,', 'cringe', 'adapters.', 'focusrite', 'interface.', 'parties', 'events', 'entertain', 'Z108.net', 'XLR,', 'connections.', 'flawless', 'feedback.', 'recomment', 'projects', '\"too', 'first.The', 'switch.I', 'buyer.', 'artist,', 'beta', 'festivals', 'bucks...', 'so-so', 'surprised!', 'buzzing,', 'WOW!', 'Check!', 'work.I', 'harmonies', 'changer', 'me.They', 'mud', 'ranges.', 'harp.', 'cup', 'harp', 'low-impedance', 'feeds', 'ounces.', 'ohms', '16,000', 'cut-off', '10,000', 'pops,', 'hard-shell', 'toting', 'melting', 'iron,', 'burn', 'Dr.', 'QC', 'disconcerting', 'unexpectedly', 'failures.', 'pickguards', 'strats.', 'tips.', 'vendor.', 'Fender)', '3/4\"', 'improper', 'FIT', 'remake', 'ziplock', 'bag)', 'Stratocasters', 'chrome,', 'lumber', 'inevitably', 'art.', 'loosing', 'project,', 'set.I', 'sandwich', 'moment,', 'result.', 'really.', 'one!!!', 'original,', 'american', 'fasten', 'inventory', 'pickgaurd', 'bugger', 'import', 'Replacing', 'Thi', 'Finishing', 'customer,', 'bin', 'brains', 'Depot', 'maximize', 'profits', 'Slide', 'CTS', 'Alpha', 'boils', 'Hi,', 'caps,', 'it`s', 'Al', 'el', 'que', 'lo', 'Saludos', 'desde', 'Venezuela!!', 'Fender!', 'busted', 'stickler', 'Strat-type', 'reamer', 'Amazon)', 'enlarge', 'pickguard,', 'grounding', 'Standard.', 'darkened', 'aged', 'Genuine', 'theirs', 'layer.', '11-hole', '3-ply', 'like.I', 'Surf', 'whited', 'classes', '07', 'copies', 'Blonde', 'adaptation', 'Plate', 'definite', 'Switchcraft', 'Includes', 'replacements.', 'parts,', 'Amazing.', 'Pearl', 'LOL', 'Cloth.', 'sizes...but', 'fine...', 'Says', 'legit.', 'pre-drill', 'now)', 'exciting', '?', 'past)', 'either).', 'Inconsistent', 'replace,', 'knobs?', 'quantity', 'match,', 'nobs', 'Typical', 'abundance', 'scuffs', 'concrete', 'Protective', 'price.Shipping', '(Not', 'Music123', 'USPS', 'Id', '2006', 'breathe', 'personality', 'Standard,', 'itching', 'covers.', 'magnet', 'Strats.', \"Squier's\", 'Pickup', 'FYI', 'white.', 'Recieved', 'Trem', 'Saving', 'stratocaster.', 'inexcusable.', 'thinking.', 'continues', 'pieces,', 'Mexico', 'right....', 'Kudos', 'fifteen', '110,', 'particle', 'thinner,', 'hefty,', '10\"', 'figures', 'modeling,', ',i', 'sound,,', 'surf', 'ranging', '25R', 'sleeping.', 'further,', 'budget!', '$60,', 'retail', 'punch.', 'stack,', 'transport,', '10,', 'capabilities', 'amps.I', '(under', 'Celestion', 'retailers', '$100.00', 'search.', 'tears', 'watts,', 'celestion', 'weighted,', 'base;', 'die-cast', 'coating.', '5/8\"', '3/8\"', 'Male.', 'Price!', 'Short', 'Base', 'finicky', 'at2020', 'boom.', 'mic/boom', 'SP01', 'Shockmount', '3/8in', '5/8in', 'stand).', '6$)', '&#34;Apogee', 'One&#34;', 'accidents', 'percussion', 'French', 'Canadian', 'music).', 'arise.', 'kaput.', 'TLM', '103.', 'AT2020', 'shockmount.', 'threading', 'size).', 'confusion.', 'TAKE', 'FROM', 'WORKS', 'XM1800S', 'tabletop', 'shortest', 'well-constructed', 'desk-top', 'em,', 'share.', 'limits,', 'doubt,', 'heres', 'satisfactory', 'Elixers', 'Boston', 'sworn', 'LP,', 'Type', 'like!', 'reggae', 'Friend.', 'alternative,', 'knew?', 'were,', 'repairing', 'embarrassed', '250', 'great.I', \"10-46's\", 'variety:', 'whistle', 'with?', 'exotic', 'accomplished', '(these', 'bag!', 'nickle', \"'love'\", 'unfortunately,', 'pitch,', 'garbage,', 'endorsed', 'Balls.', 'said!', 'Mahogany', 'cobalt', 'sealed.', 'Bends', 'springs.', 'fuss', 'substitution', 'value?', 'dunlop,', 'ambitious', 'pillow', 'mistake,', 'strings....', 'month)', '2223', 'SS', 'beneath', 'Floyd', 'Rose', 'knows.', '42)', 'clincher', '.009', \"n'\", '..but', 'Roll', 'Strat!', 'STRINGS!', 'rave', '(09-42)', 'soloing,', 'Weak', 'easy.I', 'tube.', 'Sovtek', 'NOS', 'ought', 'musical,', '12ax7', 'volume/gain', '40-50%', 'JJ', 'individuals', 'ECC83', 'microphonic', 'control.I', 'Hartke', 'LH500', 'cleared', 'JCM800', 'Preamp', \"'65\", 'Reissue,', 'higher-end', 'sound.This', 'characteristics,', 'unreliable.', '7)', 'DOA', 'Throw', '12AX7', 'THINK', 'cares?', 'Rest', 'Excellence', 'Groove', 'tubes.', 'Kustom', 'JJ,', '2x10', 'ss', '12AX7.', 'Larry', \"Doug's\", 'earned', 'Tungsol', 'reissue.', 'preamp,', 'eyeing', 'pre-amp,', 'fender!', 'secured.', 'tripod.', 'Amazingly', '$.', 'sturdiest', 'order.I', 'books.', 'standing,', 'chair.', 'Daughter', 'adjustable...', 'extender', 'substantial,', 'assemble.', 'Blackand', 'go.In', 'theOn', 'MS7701', 'Stand.', 'breezes', 'Moreover,', 'stages)', 'UPC', 'crying', 'there?', 'merchandise', 'Rat', 'rhythms,', 'Incredibly', 'definition.', 'True', 'RAT', 'Screamer,', 'delivers.', 'well.The', 'clockwise', 'switching.', 'glow', 'RAT.', 'dumped', 'stink.', 'peddle,', 'Rat.', 'same...', 'blistering', 'Marshalls,', 'Vox,', 'Crate,', 'transistor,', 'processors.', 'enhancement', 'still...', 'performing.', 'ProCo', 'that).', 'barrel', '3.5mm', 'yourself.Other', 'DS1', 'trebly', 'oclock', 'marshall', 'saturated.', 'Fat', 'Analog', 'halfstack', 'roaring', 'EXACTLY', 'inbetween.It', 'Peavy', '14\"', 'dark.', 'AC/DC', 'darken', '\"the', 'sound\"', 'Rat,', 'distortion...', 'condensed', 'IMO,', 'grungy', 'fuzz/distortion', 'Carbon', 'Copy', 'depth,', 'lost,', '(thats', 'pick.I', 'Holder,', 'instrument)', 'crammed', 'peal', 'stowed', 'extent', 'SURE', 'ORDER', 'PICKS', 'cabinet,', 'assorted', 'amplifiers', 'organize', 'photo.', \"'normal'\", 'Holders,', '.50', 'then!', 'Fill', 'affixed', 'Dunlap', 'Ergo', 'fragile.', 'LOVE,', \"he'd\", 'track.', 'neatest', 'while!', 'partly', 'slotted', 'misplaced', 'fretboards,', 'restores', 'lemony', 'hydrating', 'much.I', 'excellently,', 'absorbed', 'lubricants', 'spills', 'Cost', 'Lemon', 'fingerboards', 'sealing', 'dark,', 'environments.', 'color!', 'bottle.', 'saturate', 'absorbs', 'swollen', 'oils,', 'camper.', 'wondering,', 'faded,', 'ounce', 'absorbing', 'Food', 'unusually', 'Fretboard', '&#34;crud&#34;', 'acidic', '(high', 'his/her', 'transistor', 'radio.', 'Coke', 'cares.', 'disturbing', 'anybody,', 'thingie', 'outputs', 'have...', \"'m\", 'neat,', 'work...', 'problem.This', 'roar', 'gadget...', 'twice,', 'presets.', 'environments,', 'venue', 'direct,', 'warmth.', 'sucked', 'flattering', 'monstrous', '115', 'performances,', 'since,', 'evening', 'touched', 'Meet', '&#34;I', 'it&#34;', 'Sans', 'Robin', 'Lee', 'Johnny', 'driven', 'band.I', '(he', '\"Shape\"', 'layering', 'bonus', \"EQ'ing,\", 'SansAmp', 'Driver', 'duplicate', 'Hz', 'estimate.', '48V', 'Amazon.The', 'gitty', 'trips', 'begginers', 'learning.', 'mostly.', 'FG700S', 'searched', 'Lights', 'star!', 'Skinny', 'doubtful', 'act,', 'hatred', 'followed', 'aim', 'soulful', 're-tune', 'clean;', 'teenager', 'approve', 'Slash', 'Guns', 'Roses', 'bowed', 'sizing', 'p90', 'c', \"'n\", 'punchy,', 'requirement,', 'Mix', 'powerfull', 'genres.', 'quicker', 'Dad', 'blood', 'crooked', '$2000.00', 'convincing,', 'unpacked', 'kidding,', 'Hybrids', 'Slinkys,', 'Clapton,', 'spectacular', 'Meh...', 'beef', 'Spare', 'over-priced', 'albeit', \"6'\", 'abnormal', 'hissing', 'top-of-the-line', '6ft', '2&#34;', 'tall...', 'roughest', 'cable),', 'rotosound', 'shorted', 'well-made,', 'trustworthy', 'committed', 'hesitations', 'designated', 'preference).', 'more?', 'which.', 'January', '2013.', 'pro.', '(without', 'mandos', 'fiddle.', 'Prelude', 'Scale,', 'principle', 'York', 'violinist,', 'Mariachi', 'elementary', 'soften', 'remotely', \"Uke's\", 'ok!', 'converted', 'player)', 'below.', 'driver,', 'Uke,', \"Wedgie's\", 'fingerlike', '5mm', 'tastes,', 'someday,', 'felt,', 'are:1.', 'skid', 'colours', 'hardest', 'colour', 'manufacturing.', 'strum,', 'Ouch!', '13th', 'striking', 'transmits', 'duller', 'fare', '(they', 'playing)', 'volumes,', 'disintegrated', 'sharpen', '(think', 'bag.For', 'trip,', 'cling', 'verdict:', ').', 'comfort.I', 'A,', 'tone...', 'partner', 'tires', 'skeptical.', 'Intended', 'customer-supplied', 'photos', 'Blackto', 'las', 'iPad.', 'wobbles', 'flaps', 'arm...', 'time),', 'MSA9508', 'Posi-Lok', 'Sidemount', 'bypassing', 'table,', 'making,', 'vibrating', 'axis,', 'nails.', 'it.So', 'E825-S', 'bestselling', 'exceeded', 'tightens', 'Traveling', 'bust', 'up..', 'screws...', 'View', \"computer's\", 'increasingly', 'rare.', 'amplifiers.', 'role.', 'capabilities.', 'technician', '(low', 'impedance)', '(say,', 'solid-state', 'Hi-Z', 'ohms.', 'me:', 'matching.', 'game.', 'circuit.', '(those', 'saying...', 'overs', 'second.', 'desktop.', 'Tacks', 'defeat', 'stabilize', 'someday', '3/8', 'pony.', '5/8&#34;', 'port.', 'desktop,', 'port,', 'range.I', '2007', '9.99', 'yeh', '10th', 'gota', '88-key', 'instantly', 'ES', 'Actually', '29', 'KNOW', '14.99', \"DON'T\", 'SAME', 'SOUND.', 'pedal\"', 'out\"', 'synth', 'casio', 'believe),', 'bucks?', 'FC4', 'Privia', 'Thankfully,', 'Beautiful!', 'DAWs', 'software.', 'Reaper.', 'Lighted', 'iRig', 'Keys', 'Controller,', 'PX-320', 'compatibility', 'pad,', 'considered.', 'execution', 'manufacturers,', 'models;', 'matter,', \"Yamaha's\", 'offering.', 'rich.', 'multiples', 'PEDAL!', 'Absoulutely', 'carpeted', 'surfaces.', 'triggers', 'B.', 'airing', 'suggested.', 'victim', 'case...', 'stunk', 'shame,', 'smell!', 'Heck,', 'overheads', 'airplanes', 'bags,', 'hotel', 'companion', 'D35', 'Traveler', 'expectation', 'bow,', 'wet/dry', '200', 'bone.', 'unique,', 'Plays', \"I'M\", 'out)', 'survive', 'rigors', 'Washburn.', '25%', 'received.', 'awkwardness', 'testament', 'value.Update:', 'geared', 'tunners', 'Classy', 'break-in', 'needed.I', 'softer,', 'Axe', 'personality.', 'buttery', 'suede', 'Thinline', 'Beauty', \"purchase.I've\", '4033', 'electret', 'A-T', 'US,', 'interfaces.', 'playback', 'monitoring,', 'TRI', 'Avid', \"HD's\", 'meter.', 'electronically', 'digital.', 'surprise!', 'Popper', 'usual,', 'sandbag', 'hooks,', 'users,', 'strips', 'works.I', '$82', 'electrostatic', 'bias', 'substituted', 'huh,', 'clueless', '\"sounds\"', 'formal', 'training', 'reveal', '$400', 'omni,', 'screaming', 'brass,', 'environment,', 'kind,', 'help,', 'bleed', 'blanket', \"who've\", 'advice,', 'worthless,', 'source,', 'Accurate', 'inaccurate,', 'stereo,', 'accuracy', 'competent', 'continuing', '3,', 'involves', 'study', 'auditory', 'stops.', 'educated', 'educational', 'Amplifier', 'Help', 'weird.', '($50)', 'homework', 'debating', 'Yeti,', 'affordability', 'songs!', 'fl', 'instruments...', 'copyright', 'it).', 'view.', 'podcasts,', 'camera', 'Okay...', 'any.', 'Deering', 'pluses', 'rim', 'beginers', ':P.', 'consistant', 'well.If', 'money?', 'lasers', 'rained', 'trick!', 'fog', 'dissipates', 'lighting', 'life.The', 'scent', 'juice.', 'beast', 'drips', 'floors', 'easy...', 'party,', 'fuse', 'fuses', 'leak', 'theater.', 'beams', 'extended,', 'viewable', 'practicing,', 'books,', 'elements.', 'excellently', 'Strictly', 'ill', 'granddaughter', 'cap.', 'Garcia', 'swiveling', 'presentation,', 'strikes', 'cheap)', 'myself!', 'Doubt', 'strap..', 'unsatisfied', 'risking', 'one?', 'Meh.', 'opinion...', 'LINE', 'Stand\"', 'observations:Pros', '-+', 'Security', 'Slight', 'pets', 'XCG4', \"brother's\", \"lil'\", 'lying', 'Tubular', 'Velveteen', 'arrive.', 'scientist', 'believer', 'me&#34;', 'Folding', 'comparison.', 'tubular', 'retails', '$13,', 'earns', '$7,', 'stars.I', 'cancer', 'carpet,', 'CHEAP', 'CHEAP.', 'definitely.', 'no-nonsense', 'Starcaster', 'inspection,', \"it.I've\", 'dare', 'better.You', 'Bud', 'enabling', 'whats', 'bump.', 'obvious,', '91', 'neighbor', 'drunk', 'value.The', 'performing,', 'fell.', 'sacrifices', 'A+++', 'shapes', 'theres', 'Flatwounds', 'unwound', '11s.', 'Thats', 'greats', 'Wes', 'pace,', 'enthusiast.', 'shedding', 'friction.', 'noise.I', 'nickel,', 'flats,', 'rounds.', 'flats).', 'Casino', 'of)', 'wounds.', 'flat-wound', 'Thomastiks,', 'gunk', 'damping', 'this.)', 'wraps,', 'months.I', '.010s', 'Fenders)', '.013', 'intimidated', 'muscle', 'flats', '60s', 'lie,', 'Dig', 'chromes', 'telephone', 'harming', 'electricity', 'Cleaner', 'ninety', 'fuss,', 'muss,', 'carbon', 'fiber', 'fibers.', 'album,', 'brush.', 'names,', 'assumption', 'Pleasure', 'assuming', 'turntable.', 'clicks.', 'hair,', 'LPs', 'suggested,', 'record.', 'budding', 'snap,', 'conspicuous', 'collected', 'disc.', 'dish', 'wet.', 'softness', 'Affordable,', 'foot,', 'Dun', 'Lok', 'Rotate', 'position)', 'off)', 'Falls', 'arrow', 'fellows', 'stronger.', 'recommended...', 'obviously,', '(use', 'strap).', 'inopportune', 'trusting', 'appealing', '7000', 'clumsy.', 'Levy', 'standardize', 'recommending', 'Eventually', 'pieces.', 'thick)', 'nervous.', 'negative,', 'dream,', 'Straps.', 'Fell', 'accesible', 'Micro', 'Excelente', 'pedal!!!', 'Es', 'la', 'Improvement', 'Install', 'SD10.', 'Songwriter', 'Tusq', 'detectable', 'graph', 'info,', 'BOTH', 'TUSQ', '75%', 'gladly', 'appreciated', 'inlay', 'Pins', 'size.I', '\"tone\"', '(steel', 'world!', 'see.They', 'risk!', '1973', 'pleasure,', 'strap.The', 'immediatly', 'slits', 'width.', 'duct', 'snugly.', 'it!!!!!', 'leds,', 'transmitters', 'perfect!!!', \"Levy's.\", '(almost)', 'holder?', 'smile', 'annoyingly', 'musically', 'hinder', 'chord.', 'effortless.', 'G7', 'criteria', 'Victor', 'thermoplastic', 'Kysers', 'screwtops', 'Cheaper', 'slicker', 'this...I', 'England', 'life)', 'HD28', 'cent.', 'fret.Nice', 'muss', 'being.', 'life?', 'years.The', 'at,', 'mere', 'joy.', 'Everybody', 'Bose', 'II,', 'finds.', 'kidding', '\"weak\"', '\"B\"', '(due', 'dissatisfaction', 'dusted', '\"A\"', 'G7th.', 'density', 'role', 'c)', 'tuning.I', 'capo)', '(versus', 'floor)', 'thus,', 'priceless', 'back-up', 'Worlds', 'LOVED', 'getting,', 'issue...', '($50', 'tune!', 'general,', 'Pyle-Pro', 'Wireless', 'antenna', 'Barring', 'memories', 'anthem', 'pa', 'fading', 'away.After', 'severely', 'asap.', 'connection.', 'lapel', 'handheld', 'nitpick', 'unbearable', 'receivers', 'stories', 'tweeter', 'show,', 'laughing', 'cd', 'limiter', 'limiting', 'demos,', 'satisfied!', 'awesome!!!', 'AT2035', 'latter.', 'guy!', 'Snowball.', 'Recently', 'ambiance,', 'AT4033', 'MXL770', 'simultaneously', 'podcast', 'wonderful,', 'Clarity', \"Studio's\", 'Tune', 'dope', 'Professional', 'wall-mount', 'modem', 'locations.', 'shelf,', 'intending', 'b4', 'BELIEVE', 'metal!', 'knows?', 'forwards,', 'Applause', 'copy)', 'refused', 'ream', '(yes', 'Stewart', 'tuner.It', 'Rotomatics', 'devices.', 'Bomb', 'Proof', 'beautifully!', 'Tuners!', 'Ping', 'Hondo', 'diameter,', '0.390\"', 'drill,', 'press,', 'file,', 'reamer,', 'etc..', '0.375\"', 'diameter.', 'tap.', 'speed,', 'upgrade!', 'gears', 'clone.', 'Grover', 'Chibson', 'backwards,', 'slowly,', 'masking', 'hours.The', 'QK10B', 'IPad', 'wiggles', 'haul', '12.', 'event.', '(older', 'great:', 'flashy.', 'Lightning', 'lightening', 'graphics', 'computer.', 'manufactures', 'Summer', 'Canada', 'Luna', '245', 'do!', 'ins.', 'peg.', '&#34;lock', 'in&#34;', '60W', 'Hughes', 'Kettner', 'Awesome.', \"'63\", 'Brown', 'JBL', 'Ray', 'addition.', 'Speakers', 'ears,', 'boot,', 'tread', 'path,', 'CR', 'Eminence', 'Patriot', 'Cannabis', 'Rex', 'hesitated', 'tamed', 'FAT', 'buzzy.', 'bluesy,', 'speaker!', '12\"', 'Ragin', 'XD.', 'Edge', 'yeah!', 'STRAP', 'readjust', \"musician's\", 'use.One', 'innovative', 'things.I', 'warnings', 'straplocks:', '1.)', 'out;', '2.)', 'end;', 'Larrivee', 'Schaller.', 'strap-locks', 'thinning', 'annoying.The', 'begun', 'defeats', 'weekend.The', 'incorporates', \"'unscrewing'\", 'force.We', 'security,', 'secured', 'Stratocaster).', 'subsequently', 'results:', 'SGs).', 'Ouch.This', 'beginning.', 'matched.', 'Germany', 'Certainly', 'dealer.', 'community', 'horizontal', \"something's\", 'telescoping', 'counterweight,', 'twice.', 'Ignore', 'unbalanced,', '$100+', 'imagination.', 'intelligent', 'standing.', 'venture', 'extendable', 'Exceeded', 'forget,', 'Onstage', 'good.*', '360', 'confidence!', 'samson', 'price).', '5/8', 'this)', 'Quality-wise,', '&#8211;', 'mixture', '(around', 'stability,', 'distribute', \"microphone's\", 'involving', 'bot', '$20-$30', 'progressively', 'AFTER', 'Include', 'misgivings', 'tablet', 'Samsung', 'tablet.', 'entry-level', 'Title', 'unstable', 'fasteners', 'setting,', 'attach.', 'drove', 'going.', 'bands,', '(assuming', 'jamming,', 'transported', 'theBlue', 'breeze.I', 'collapse', 'pole.', 'circumference,', 'helping', 'STABLE', 'rigged', 'walls)', 'retractable', 'user.', 'Holding', \"etc.It's\", 'parked', \"kickin'\", 'firm.', 'mail)', 'bad!', 'Band.', 'wifes', 'experement', 'dano', 'one).', 'ska', 'excelsior', 'ceramic', 'reminiscent', 'D-2', 'PRICE,', 'risk,', 'circuits', 'stairs,', 'unit...', '&#34;', 'noisey', 'view!!!.', 'fab', '20.00', 'anyways,', 'report.', 'feature).', '3/5', 'Bypass', 'finger.', 'Copper', 'muddier,', 'snob', 'bottleneck', 'strengths.', 'likelihood', 'difficult,', 'DEAL', 'wool', 'perfect.I', 'ecstatic', 'investment!', 'pauls', 'tone.As', 'genre.', 'Different', 'origianlly', 'Protec', 'Ends', 'Pocket,', '\"leather\"', 'there)', 'bough', 'tightly.', '$30+', 'Tec', 'You.', 'Kona', 'heavy-duty.', 'Pocket', 'implementation', '&#34;Pick&#34;', 'this...', 'frying', 'Basic,', 'spare,', 'tier', 'belt,', 'usable,', 'grab.', 'projected', 'max,', 'sling', 'waist.', 'executed', 'children.', 'inexpensively.', 'length-wise,', 'colorful', 'ACE', 'links', 'swamp', 'disconnected', 'shift', 'cheapie', 'gasket', 'Priced', 'Sell', 'Strap.', 'Studio.', 'frills.', 'webbing', 'sewn', 'me-', 'qualify', 'purchase!!!', 'hour.', 'belongs', 'abrasive', 'cotton,', 'rough.', 'efforts.', 'schemes', 'Jacquard', 'Maple', 'ladies', 'phenomenal.', 'fairy', 'woven', 'weave', 'chintzy', 'elaborate', 'layered', \"Ragin'\", 'Cajun', 'X2.', 'Camp', 'Treble', 'darkness.', 'Fabulous', 'apparent.', 'letting', 'VHT', 'low-end', 'clearer.', 'notches', '(two', 'number)', 'amp.If', 'stolen,', 'Turned', 'craps', 'flubby.', 'champ', 'SUPER', 'trade,', 'dabble', 'adequate,', 'VT', 'modest', 'problems.I', 'TC', 'Mechanic', 'releasing', 'fuss.', 'gripping.', 'brushing', 'Owned', 'lightest', 'Toggle', 'Bolt', 'Made,', 'Size', '(Pack', 'wonderfully.', 'studs,', 'drywall,', 'criticism', 'hung.', '2.5\"', 'Praise', 'submitted', 'Supports', 'everytime.', 'A/G', 'satisfaction.', 'future.I', 'mood.', 'transport.', 'tubing', 'welded', 'BEWARE!', 'Glen', 'Ingles', 'refer', 'Viola', 'differently,', 'christmas', 'extruding', 'though..', 'unfounded', 'nob', 'sufficient.', 'agreed', 'STAGE', 'directly.', 'genuinely', 'days.I', 'heck.', 'greatful', 'issue.I', 'resolved', 'Manufacturer', 'Loving', 'resonant,', '16&#34;,', '16&#34;', 'Wuhans,', 'impresses', 'Hohner', 'harps.', 'ratings.', 'harps', 'handle,', 'outwards', 'zippers', 'harmonicas,', 'Oskar.', 'harmonicas', 'reeds', 'encouragement', 'numbered', 'purchasing.', 'satisfied,', 'asleep', 'badly.', 'bagpipes', 'Marine', 'Band,', 'Oskar', 'River', 'Harp', '\"good', 'videos.', \"harmonica's\", 'callouses,', 'AWESOME.', '6th,', 'begin.', '&#34;E&#34;', 'terrible!', 'godawful', 'Sound!', '(E,', 'envelope,', 'makers', 'definition,', 'literal', 'light-medium', 'listening.', '1%', 'concern.', 'inspiration', 'excellence', 'date,', '\"different\"', \"nano's\", 'short-scale', 'Coating,', 'focused', 'coat', 'Warmer', 'hiding', \"D'Daddarios\", 'fade,', 'tensioned', 'communication.', 'newborn', 'amplified.', 'offers.', 'amplified,', 'comparatively', 'accessible,', 'Bill', 'LJ-16', 'Bone', 'belief', 'form.', 'imagine.', 'polymer', 'harmonica,', 'diverse', 'theKorg', 'CM-100L', 'CA-30', 'tuning.The', 'card.', 'metronome.', 'metronome,', 'beats,', 'tempos', 'three.In', 'sensor', 'tuner/metronome', 'notes,', 'ensemble', 'fluctuate', 'line6', '(included).', 'CM-100', 'clip-on', 'calibration', 'generator', 'loss,', 'modes', 'STEP', 'values,', 'FULL', 'quadruplets', 'beats.', 'Metronome', 'picky.', 'GA-1', 'TM-40', 'pitches', 'rides', 'Phenomenal', 'Pros:', 'contest.', 'Beginner', 'horrible.', 'measure.', 'metronomes', 'tuner;', 'Humidipak', 'recharge', 'resealable', 'unroll', 'dampit', 'refund,', 'OM', 'Dampits', 'rips', 'Dampit,', 'workable', 'sound-hole', 'here...', 'disposable', 'tube?', 'much?', 'V2', 'amp...', 'flange,', 'echo,', 'EL84', \"amps'\", 'coils.', 'textures', 'dependent,', 'chain.', 'yout', 'DAW.', 'jangly', 'Albert', 'explaining', 'contour', 'increased,', 'amp.The', 'hear,', 'indeed,', 'searing', 'recognize', 'difference.I', 'solid-', 'half-stack.', 'category,', 'chased', 'clubs,', 'Fryette', 'Deliverance', 'sadly', 'Sonic', 'snatched', 'essential.', 'access.', 'optional', 'plastic;', 'Plastic', 'advice.', 'managing', 'selected', 'lulz', 'etc,', 'tri-stand', 'banjos.', 'clawhammer', \"'back-rest'\", 'outs', 'independently', 'stand...', \"'back-rests'\", 'rested', 'engaging', 'Banjos', '(usually)', 'otherwise.', 'own)', 'releases', 'tossing', 'dropped,', 'discarded', 'Herc', 'mini-amps', 'JFET', 'character', 'Turning', 'Jensen', 'According', 'parties.', 'conversation', 'porch.', '\"bigger\"', 'houses.We', 'in.Highly', 'Recommend!', 'Tone,', 'jamming.', 'Loud', 'camping,', 'coveted', '$20.00', 'od', 'amp!', '59', 'it.When', 'recognized,', 'amp--', 'time...', 'aqua', '$40-$50', 'PRACTICE', 'AMP!', 'ass,', 'lo-fi', 'Theres', 'ipod', '9volt', 'altogether.', 'color).', 'Paired', 'waking', 'Manual', 'start-up', '\"As', '2.5&#34;', 'realistic', 'positively', 'adorable', 'modes,', 'too!I', 'effected', 'Cute', 'AMP', 'knock-off.', 'dreamed', 'buck).', 'rattles', 'borrowed', 'Act', 'bed', 'Runs', 'win', 'cute.', 'Marshall.', 'buds', 'Honey', 'Bluetooth', 'Receiver', 'Smart', 'wattage', 'dies', 'rechargeable', 'N10B', 'LOUD', 'evoke', 'town.', 'amping', 'harp,', 'high-impedance', 'Danelectric', 'circuitry', 'stompbox,', 'shebang', 'overdrive),', \"unit's\", 'decorative', 'obvious.', 'bass/treble', 'significantly,', 'opinion).', 'Penn', 'surprising', 'VALUE', 'Bummer', 'HoneyTone', '(important', 'Interestingly', 'SILVER', 'ALUMINUM', 'tea,', 'poke', 'rainy', 'fluctuation', 'hints', 'design),', 'obtrusive', 'dose', 'NS', 'flawlessly,', 'reservation.', 'non-radiused', 'radiused', 'radiused,', 'closely.', 'discussion', 'images', 'diagrams', 'curved,', 'ruler', 'lies', 'Winner!', 'steals', 'sleek,', 'hand)', 'dial,', 'Surprisingly', 'class,', 'Along', \"quality.It's\", 'tighten,', 'Yep,', 'acoustic).', 'screw-down', 'fretting,', 'others...', '\"E\"', 'Chromatic', '\"E\",', 'shades', 'plug-in', 'LCD', 'reminder', 'calibrate', 'tuner..', 'non-backlit', 'meter,', 'cents,', 'AAA', 'vision', 'viewing', 'readout.', 'C,', 'ear.', \"Isn't\", 'compact.', 'basics', 'specs.', 'say!', 'Tunes', 'Review', 'cushioned.', 'American.', 'Warehouse', 'style)', 'KT7800', 'Keyboard', 'Bench', 'anticipated.', 'frequently,', 'seat.', 'crossing', 'Comfy', 'FS7850B', 'combo.', 'D-Addario', 'happy!', 'octive', 'too).', 'cleanish', 'wicker', 'Face', 'muff', 'even.', 'trading', 'da', 'pony,', 'retrofit', 'equalize', 'fuzz...', 'smashing', 'welcome', 'Bag\"', 'Hardwood', '(Shades', 'Quality;', 'pages,', 'pockets', 'tools,', 'zipped', '20mm', 'piping', 'lasts.', 'arse', 'fly.', 'klutz', 'transmission.', \"money's\", '50%', 'pet', 'U-shaped', 'cellulose', 'twists', 'hauling', 'east', 'rain', 'shower', 'shut.', 'closes', 'allen', 'wrenches,', 'stink', 'stairs', 'baggage,', 'distances', 'horror', 'strange,', 'industrial', 'distances.', 'wave', 'cases)', 'Adequate', 'entering', 'reviewers,', 'objectionable', '(solid', 'three-quarters', 'music)', 'Appears', 'Taking', 'bothersome', 'trepidation', 'proceeded', 'flathead', 'Station', 'motion,', 'benefit,', 'spend,', 'reliable?', 'product?', 'then?', 'scrapes', 'off!', 'socket.', 'sockets', '(This', 'be)', 'Connectors', '(These', 'f', 'tremendously.', '6&#34;', 'segments', 'myself)', 'careful.I', 'appreciate.', 'great.For', 'sheet.', 'sturdiness', 'sitting,', '50\"', 'you:', '\"two', '20\"', 'rehearsals.', 'sections,', 'table-top', 'Herco', 'minimal.', 'vibrations,', 'music!', 'tile', 'pickin', 'justifiable', 'complaint.', 'DE-1', 'explains', 'modulated', 'modding', 'echo.', 'D-4', 'Electro', 'Harmonix', 'Memory', 'rockabilly', 'brainer,', 'Slap', 'slapback', 'stompbox.', 'ever?', 'slap-back', 'board!', 'Sounding', 'circuits.', 'DR600', 'RV600', 'ducking', 'fluke', 'gross.', 'stoner', 'chips.', 'Fab', 'flange', 'all;', 'sweeps', 'leslie', 'univibe', 'discreet', 'Deep', 'touchy', 'sweeping', 'demo', 'job?', 'Behringer!', 'tester', 'intermittent', 'Tester', 'faults', 'Nifty', 'CT100', 'documentation', 'readout', 'knockoff', 'understand.', 'Terrible', 'documentation.', 'indication', 'dropout,', 'knife.', 'phillips', 'ridiculous.', 'guess.', '(red)', 'ibanez', 'dime', 'puppy', 'faint', 'pricing.', 'Uses', 'fattens', 'tweak.', 'pedals-', 'PLUS', 'Danelectrode', 'chained', 'change!', 'Modified', 'Electrode', '$20)', '$50,', 'thinking,', 'detuned', 'shimmers', 'thickening', 'arent', 'broad', 'Shopped', 'Regarding', 'lukewarm.', 'Entourage', 'Rustic', 'fur', 'Guardian?', 'nicked', 'housed', 'archtop.', 'wide,', '5&#34;', 'tolex', 'posture', 'late.', 'heights.', 'prop', 'Flamenco', 'got.', 'sideways,', 'gradual', 'Rest.', 'job...', 'heights', 'racks', 'Podcasting', 'Rig', 'deformed', 'TWO', 'flawed', 'angle,', 'rack,', 'carry.', 'stressed', 'rectified', 'trivial', 'portability,', 'wart,', 'Line:', 'Crybaby,', 'quack', 'warble', 'baby,', '$600', 'recomendation', 'customizable.', 'wahs', '90s', 'sounds.I', 'trade-off', 'gig-bag', 'all\"', 'Powered', 'well+', 'Inputs', 'control+', 'Effect', 'liven', 'Microphone!', '200w', 'booklet', 'PWMA-230', 'bar.', 'feather', 'troubles', 'marketplace', 'godsend', 'ZT', 'Club', 'Oct.', 'praising', 'transferred', 'Line6', 'age,', 'MIC2200', 'imo.', 'humming', 'separate,', 'Perception', '220', 'outs,', 'flexability', 'explore', 'duration', 'planet.', 'Dials', 'internet.', 'preamps,', 'equalization', 'implemented', 'contributes', 'API', 'tests.', 'Grace', 'warmed', 'Allen', 'Lexicon', 'Crown', 'win-win', \"mic'ing.\", 'flops', 'Record', 'headset', 'Pod', 'UX2.', 'DP-008.', 'need,', 'C-1U.', 'connectivity.', 'programs', 'port', 'denying', 'refund', 'purchasers', 'C-1U', 'phantom-powered', 'Studio,', 'requirement', '(found', 'mistakenly', 'plastic).', 'looking.I', 'iMac.', 'right...', 'Audix', 'darned', 'paging', 'cancels', 'set.If', 'SET', 'XY', 'upwards', '$1200', 'mice', '15&#34;', 'treating', 'utmost', 'down).', 'price.They', 'blackout', 'tu-2', '(i', 'bass)', 'korg', 'pitchblack', 'heartbeat', 'acoustically.', 'incorrectly', 'Display', 'nowadays', 'jumps', 'tune.The', 'build-in', 'visibility', 'Seiko', 'SAT800', 'CA-40:SAT800', 'CA-40', 'not.CA-40', '45deg', 'not.SAT800', 'auto.SAT800', 'displays', '1E,', '2E,', 'alphabet,', 'oactaves.SAT800', 'numerical', 'wholly', 'dim', 'read.', 'blind', 'Korg.', 'Input', 'Wal-Mart', 'KORG', 'older,', 'detects', 'dynamically', \"rockin'\", 'batteries)', 'jumpy', 'cheesy', 'chromatic', '\"F\"', 'tunings.', 'GA-40', 'inline', 'ABOUT', 'WORK', 'WHO', 'PLAYED', 'HE', 'TUNES', 'ITSELF', 'HAD', 'TRY', 'TUNER', 'TUNED', 'YET', 'OFF.', 'BEAT', 'gross', 'always.', 'swirl', 'brown.', 'Inc', 'Triangle', 'all),', 'practising', ';', 'Serves', 'style\"', 'playing),', 'taper', \"anyone's\", 'Large,', 'complimentary', 'series.', 'depress', 'HARD', 'Plan', 'score', 'trebles.', 'Havent', 'forefront', 'remember.', 'Gerlitz', 'contours', \"time.I've\", 'applicator,', 'Meguiars', 'blems', 'product.The', 'laugh', 'tilted', 'forward,', 'patented', 'elevating', 'Strong,', 'upright.', 'tests,', 'in...', 'lifting', 'concede', 'K&M;', 'unfold', '(large', 'pivoting', \"K&M;'s\", 'yoke,', 'applied.', 'clumsiness.', 'K&M;,', 'GS100', 'automatic', 'Hamilton', 'expanded', 'wrapping', 'Fantasic', 'legs.', 'leery', 'Hercules,', 'well-balanced', 'reclining', 'conservative', \"J74's\", 'Consistent', 'good-sounding', 'Brilliant,', 'instrument;', 'ergonomically', 'debated', 'simple.I', 'iPad,', 'creative,', 'offered.', 'Biggest', 'book!', 'class.', 'it.Just', 'blast.', 'Effective,', 'Remember', 'cans', ',this', 'HAPPY', 'tilts', '$29', 'musics', 'XXL', 'timer', 'flash', 'toys.', 'size!', 'diferent', 'shiney', 'on!I', 'genres', 'borderline', 'master', 'texture.', '(smaller', '3s', 'sims,', 'sim', 'articulate,', 'Improves', 'walker', 'williams', 'fatal', 'ring.', 'channel,', 'those,', 'pick\"', 'thumbnail', 'later:', '\"large\"', 'refers', 'National', '(its', 'treatment,', 'way!', 'connoisseur,', 'it,it', '2011', 'scrub', 'evenly.', 'Elixirs)', 'Stars.', 'residue,', 'film.', 'slapping', 'thankful', 'spring-loaded', \"it.I'm\", 'facility', 'responses', 'WRONG!', 'separated,', 'remember,', 'workbench.', 'Unique', 'oxidation,', 'Ax', 'Wax', 'spray.', '$3.', 'Johnson', 'wack', \"Duck's\", 'stingy', 'ones!', 'Cordoba', 'C5', 'metallica', 'THEY', 'EVEN', 'long-time', 'Columbus,', 'Ga.', 'BR-180', 'S6', 'Coastal', 'Spruce.', 'Pitch', 'tortoise', 'flannel', '65.', 'lacquered', 'you;', 'scent.', 'new!', 'everything!', \"guitars'\", 'Cleaner.', 'Polisher', 'substance', 'amnot', '4-1/2', '\"California', \"'Product\", 'reads:', 'State', 'birth', 'reproductive', 'STARS', 'fashion,', 'fade', '4oz.', 'initially,', 'chinese', 'beer', 'relied', 'eye-glass', 'quid)', 'laminate', 'instrument!', 'appearance,', 'counts.', 'points,', 'click-locks,', 'twist,', 'reattach', 'thought-out', 'configurations', 'extensions', 'eyelets', 'being,', 'Digging', 'shirt,', 'sweet!', 'fender.', 'industry!', 'minor,', 'bouzouki,', 'Select', 'mouth,', 'harmonica.', 'P.', 'orient', 'mouth.', 'Nov', 'prepared.', 'Particularly', 'Harmonica', 'lt', 'diatonic', 'lieu', 'unto', 'Bear', 'Hohners', 'springs,', 'Cons:', '(make', '1/2\"', 'even,', 'OVER', 'Hohner.', 'Knowing', 'customizing', 'arranged', '\"one', 'shit', 'alright.', 'admirably.', '$15,', 'block.', 'signals', '5x', '(amp', 'decent.', 'market!', 'lousy', 'Incidentally,', 'review-', '1979', 'caring', 'Kramer,', 'humbucker', 'smokes', 'growl', 'remarkable', 'upgrades', 'Tube.', 'instruments),', 'trap', 'bungee', 'vehicle', 'shoulder,', 'trip.', 'bound', 'unstable.', 'fold-up', 'groups', 'Ableton', 'point!', 'WIth', 'violins,', 'interest.', 'Added', 'teacher,', 'time).', 'eaten', 'first),', 'glob', 'fiddling,', 'neccessity', 'peg,', 'obnoxious', 'turn).', 'temperamental', 'teachers', 'techs', 'symptoms', 'indicate,', 'reapply', 'disabled', 'mobility', '26', 'cheat', 'there.If', 'is!', 'notch.', 'Yamaha,', \"thing's\", 'trades', 'Yamaha.', 'review.The', 'buys', 'hype.', 'dud', 'lines.', 'scales.', 'Smaller', 'large?', 'songwriter', 'songwriting', 'ideas.', 'studied', 'web.', 'stamp', 'STAMP', 'ALSO', 'UKULELE,', 'BANJO.', 'PLEASED', 'CHORDS', 'MUSIC', 'ass.', '2011.', 'one:', 'included!', 'Onkyo', '80', 'spikes', 'compromises', 'audiophiles', 'fussy,', 'turntable', 'D/A', 'Phono', 'negligible', 'compactness,', 'usability.', 'amplifying', \"'I'm\", 'noise.The', 'preamps.', 'Compact,', 'aux', 'rca', 'Pre-amp', 'UCA202.', 'network', 'warmer,', 'intimate', 'powered,', 'installs', 'Win7', 'zero-latency', 'monitoring', 'Cubase', 'jargon', 'unfamiliar', 'intro', 'USB.', 'prominently', 'affecting', \"cakewalk's\", 'Creator', 'Touch', 'LE', 'anyways', 'Interface', '$60.', 'Doing', 'Vista,', 'Audacity', 'download.', 'heat.', 'Mid', 'fattening', 'configurations.', 'it.Great', 'pedals)', 'NOW', 'use...but', 'switch...', 'ruined', 'uca202/uca222', 'usb', 'shack', 'asio', 'drivers', 'please,', 'anything!', 'tascam', 'coil,', 'jammed', 'iPod', 'XENYX', 'shoddy', 'inputs,', 'ITS', 'disposal.', 'descent', '(God', 'prettiest', 'explanatory', 'Mid,', 'mixer!', 'grass', 'practice.I', 'british', 'huh?', 'wayyy', 'Mixer', 'tweek', 'deaf.', 'Beringer', 'Iffy', '(considering', 'UCA202', 'Anyways,', 'keen', 'Fostex', '302usb', 'misleading', 'correction', 'experts.', 'Connect', 'selector', 'cushioning.', 'FEDEX', 'referring', 'Relatively', 'responsive.', 'kind)', 'early,', 'pre-amps', 'CD', 'Noise', '1202FX,', 'effects).', 'Logic,', 'MIDI,', '(a)', '(b)', 'handle.This', 'minus.', 'less/more', 'zero.', 'faders', 'main);', 'far.By', 'mixer:', 'AT3035', 'audiotechnica', 'QS8.1,', 'line-in', \"mic'd),\", 'RP5', 'Firebox.', \"Everything's\", 'far.The', 'unit.I', 'shabby', 'dice,', 'Dead', '80Hz', '3-band', 'litle', 'Mackie', '1202', 'Berhinger', 'similarity', 'here),', 'OFF', 'V67G', 'defective.', 'overs,', 'singers,', 'outperform', 'tweaking,', 'overdubbing', 'engineer,', 'studio?', 'point?', 'serious,', 'simultaneously,', 'behave', 'clipping.', 'candidate', 'pictures.', 'moisture', 'attenuation', 'Later', 'MC401', 'buffer,', 'ECB003', 'dissappointed', 'Beast', 'law.', 'sophistication', 'Electronic', '(non', 'Keyboard.', 'Tiny', 'cabling', 'convenient!', 'behringer.', 'Device', 'EHX', 'summing', 'mixers.', 'mixer),', 'preset', 'problem:', 'match.', 'brushed', 'cycle', 'gizmo.', 'amps).', 'amp)', '$25.00', 'Eurolive', \"Mackie's\", 'weekly', 'that.If', 'could,', 'translated', 'back..', 'indicators', 'coupon', 'fee', 'Santa', 'nap', 'german', 'genius.', 'technica', 'voila,', 'HA400', 'Headphone', 'Porta', 'another.I', 'type)', '\"are', 'Europe', 'transforms', 'volts', 'exelent', 'playback.', 'overdubs.', 'forewarned', 'Duet', '770', 'describe,', 'better.The', \"iMac's\", 'soundcard', 'up:', 'sloppy.', 'flaw.', 'listeners', 'Rate', 'unthinkable', 'shifter', 'loop,', 'pedal-', 'lush', '\"Lightning', 'Crashes\"', 'reasons:', 'miniscule', '*think*', 'enclosure.', 'Twenty', 'Stone', 'Phaser.', 'differnt', 'figured,', '\"What', 'emulate', 'adapters,', 'guts', 'Ohm', '\"footswitch\"', 'activates', 'emulation', 'ac', 'satisfactory.', 'lit,', 'GROUND', 'SWITCH', 'logically', 'injects', 'TREBLE', '12db', 'db', 'cut)', 'Presence', '\"ON\"', 'remedy', 'conflict', 'none,', 'Duracell', 'taping', 'joint.', 'limit.', 'foremost', 'combos.', 'combos', 'XP', 'software,', '\"gig', '(well,', 'yet),', 'firewire', 'job;', 'satisfy', 'hazard', 'MKII', 'tube-like', 'Stopped', 'awsome,', 'plastic.I', 'V-Amp', 'pedal...', 'steal!', 'butt.', 'awesome!!!!', 'Floorboard', 'low-priced', 'hope,', 'curve.', 'Wah.', 'switches,', 'somewhat.', 'oriented.', 'babe', 'rip.', 'youre', 'Uber', 'combo)', 'Orchestra', 'altering', '2-channel', 'befor', 'crapped', 'respect,', 'experimentation,', 'unbeatable,', 'transformer,', '$25.', 'Pink', 'tones.I', \"Behringer's.\", 'routinely', 'setups', 'liked,', 'Overdrive.', 'gritty,', \"strings.I've\", 'retired', \"'tone\", \"suck'.\", 'joyo', 'hit.', 'Scream', 'problems...', 'outright', 'TS9,', 'Side', 'manual,', 'battery!', 'Princeton', 'TO800', 'Amplifier,', 'amplifier,', 'TO-800', 'TS-808.', 'thing\"', '(A', 'one-trick', \"'gear\", 'Voodoo', 'YT', \"hat's\", 'gritty', 'TS800', 'audibly', 'Slightly', '[...],', 'me;', 'gutiar.', 'Mustang,', 'appreciating', 'starcaster', 'retains', 'Flip', 'Yea', 'Yup', 'S', '(set', 'amp!)', 'activation', 'THe', 'shipped.', 'NY', 'horribly', '\"tube-like\"', 'top-rated', 'sound\".', 'subsequent', 'OneSpot', 'Preamplifier/Volume', '(something', 'any,', 'activate', '12:00,', 'VT30', 'etc.)', 'Stomp', 'bones', '15\"', 'intentionally', 's***', 'pen', 'PB100', 'Nevertheless', 'out.This', 'instances', 'instruments).', 'switch)', 'mo', 'truley', 'equipment?', '\"line', 'distorion', 'location,', 'time-', 'screams', 'vocalist/instrumentalist', 'levels,', 'manually.', 'microphones...', 'Drummer', 'me\"', 'Windows,', 'Linux', 'laptop,', 'STEREO', 'success.', 'Mono', 'largely', 'attribute', 'streaming', 'sees', 'drivers.', 'Windows', 'x64', 'dismayed', 'page,', 'drivers,', 'downloaded', 'Needless', '1202FX', 'detected', 'latency', 'computer.I', 'Audacity.', 'Audacity)', 'shut', 'well.For', 'latency,', 'exquisite', 'digitized', 'Mac,', 'PC,', 'laptops', 'unity', 'buy&#34;', 'Rivals', 'aBehringer', 'July', 'cassette', 'deck', 'converting', 'money.My', '\"Duh,', 'really?', 'dealie', 'arrogant', '$150.00', 'value!!', 'Virtual', '(Soundcraft', 'cards.', 'latency.', 'computer;', 'Germany,', 'Ableton,', 'FL', 'Functional', 'Service', 'EZDrummer', 'expansion', 'EZ', 'download', 'EZD2', 'ROCK!', 'customization', 'program,', 'off-the-shelf', 'Tools,', 'Cubase,', 'Drum,', 'Snare', 'Room.', 'running,', 'dramatically.', 'Adding', 'trained', 'expansions', 'EZX', 'Rock.', 'personally,', 'lacking,', 'hi-hat,', 'drumset,', 'drumset', 'window', 'seriously,', 'advice:', 'toontrack.com', 'modules', 'experience:1)', 'files,', 'updates', '(take', 'mini,', 'Garageband.', 'inept', 'buggy', 'Garageband', 'cheese', 'pizza', 'shoo', 'wadda', 'Apparently,', 'stick\"', 'crashes.', 'ting-ting.', 'girl', 'competitors,', 'crashing', 'blame.', 'Attractive', 'ones)', 'these...the', 'trademark', 'functionally', '10mm', 'staggered', 'Blacktop', 'E-A-D', 'capstans', 'tremelo,', 'BUT,', '(MIM)', 'Indiana', 'difference!!!', 'drilling.', 'below).', 'Telecasters', 'Proper', 'backside.', 'bores', 'jig', 'jig,', 'FENDER', 'bored', 'warmoth', '11/32\"-', 'installing,', 'shorter.', 'Nearly', 'positive,', '1/16th', 'Copy.', 'tapped', 'magnifying', 'wonders.', 'voila', \"MIM's\", 'enough)', 'theMighty', 'Mighty', 'lamps', 'great-', 'illuminating', 'lists', '28', 'continuous', 'ballpark', 'illumination', 'chart.', 'conditions.', 'glare', 'rooms.', 'midrange,', 'anti-feedback', '\"muddy\"', 'loudly,', 'accompaniment', 'delay/echo', 'Lack', 'drawback,', 'themselves.', 'seamless', 'Push', 'doorstep.', 'flashing', 'apps', 'adept', 'dial.', 'menus', 'tablet,', \"y'all\", '&#34;click&#34;', 'up...', 'earbuds', 'LOUD.', '10W', 'deal;', 'snatch', 'Doors', 'soldering,', 'loudest', '(because', 'apartment,', 'better).', 'tone).', 'loud!', \"guitarist's\", '1/4\".', 'amps\",', 'this:', 'aesthetics', 'shrunk', 'feat', 'nothing,', '\"5\"', 'objectively', '4*', '5*', 'amp),', 'smartphone', 'Nonetheless,', 'reported.', 'inlay.', 'lends', 'reversible', 'later.I', 'described,', 'well?', 'mikes.', 'each).', 'washer.', 'insulated', 'mics!', 'isolates', 'Knob', 'Professor', 'away!', 'tuner!', 'swapping', 'setup.I', 'fears', 'placebo', 'well--', 'Starion', 'shells', 'Attacks', \"G2's\", 'resonate', 'choking', 'tune.I', 'subtlety', 'gretsch', 'respectively,', 'easiest,', 'slinkier', 'developed.', 'impression.', 'review;', 'cherish', 'Sovereign.', 'sounded.', 'tone?', 'scooped', 'all-round', 'mid-scoop', 'Puppets', '*cough*', 'well;', 'itself;', 'package!', 'suggests,', 'Fans', 'bold.', 'camper', 'Ultracoustic', 'AT108', 'hears', 'understood', 'delight,', 'AT108,', 'shocking', 'aims', \"'hear'\", 'processed', 'us,', 'equalizer,', 'Watts', '8\"', 'full-range', 'loudspeaker', '(1/4\"', 'CDs', '(Low,', 'measures', 'investments', 'behalf', 'electrified', '(XLR', 'power)', '(your', 'inch,', 'PCs', 'wholeheartedly.', 'mindful', '(we', 'box.It', 'perfection,', '108', 'compressed', 'tame.', 'Sold', 'cash.', 'ME-70', 'Multi-Effects', 'ME-70,', 'tube-amp', 'capability,', 'affordable)', 'Fullbore', 'Muff.', 'Boost.', 'Frequency', 'Dang', 'slop', 'switchable', 'fizzy.', 'album.', 'muff.', 'after,', 'Hotrod', 'Rocktron', 'Zombie', 'shines.', 'flat)', 'walled', 'Lightweight', 'car,', 'bulletproof,', '$80.', 'dust.', 'song!', 'Learning', 'EBow', 'Country', 'simulate', 'dimension', 'improve.', 'exceptional.', 'velvet', 'trumpet', 'ebow.', 'clearly,', 'modes:', 'Powerful', 'sorry,', 'apparently,', 'Normally,', 'item...', 'fidelity.', 'Karaoke', 'Pros:-Price', 'Shoulder', 'Tis', 'US.', 'ProPicks,', 'fleshy', 'matter)', 'fingernails', 'fingerpicks', '1800s', 'beside', 'On/Off', 'Sensitivity', '2,', 'setup),', 'word,', 'reasonable,', \"wasn't.\", 'lied', 'drink', 'spike', 'of:', '39.99', 'ULTRAVOICE', 'deserved', '910ce,', 'humidifying', 'Woods', 'swell', 'quality.The', 'cups', 'membrane', 'humidifiers,', 'packages', 'country.', '2-4', 'doubled', 'ordered...', 'monitored', 'Bob', 'endorsing', 'lab', 'Humidipaks', 'occupy', 'whatnot', 'tapewounds', 'remarkable.', '4-string', 'bright-sounding', 'bass!', 'stand-up', 'Oddly,', 'satisfy.', 'fretless,', 'round-wounds', 'vibrato', 'fretless', 'J74', '009', \"012's\", 'knowledgeable', 'NAMM', 'corporate', 'mark,', 'mean?', 'own!', 'raw', 'D&#8217;Addario', 'dead,', 'packaged,', 'south', 'enhancing', 'wholeheartedly', 'God-send.', 'church.', 'aRoland', 'V-Combo', \"hand's\", 'optimized', 'spectacular.', 'CM-30', 'extended.', 'Acoustasonic', 'lbs)', 'lbs),', 'pick-up,', 'P.A.,', 'bandleader', 'Roland,', 'Kurzweil', 'brick,', 'KC150', 'heavens', 'KC', '350', 'uninspiring', 'gradually', 'long).', 'smoother,', 'springing', '\"ok\"', 'profound', \"o'clock.\", 'fizz.', 'unusable,', 'ashamed', 'colored.', 'warning.', 'AC-3', 'burnt', \"this.I'm\", 'toppy', 'sampling', 'bucker', 'church)', 'AC3', 'PA,', 'infinitely', '(tested', 'Terror', 'fizzy', 'AC-2', 'multi-effects', 'modelling', 'discrete', 'FS-6', 'ME', 'latching', 'mode)', 'banks', '(overdrive)', 'case)', 'rat', 'RC-3', 'intuitive', 'briefcase', 'harps,', 'Design!', 'AC-33', 'foot-switch.', 'battery)', 'tandem', 'map', 'opens', 'ME-70.', 'programmed', 'models)', 'Fiber', \"III's\", 'fingers,they', 'boring,', '9024', '&#34;tight', 'next-best,', 'pick..', 'out..', 'problem...', 'readjusted', 'incredible!', 'surprized', 'Graph', 'compensation', 'bone', 'tusq', '\"plastic\"', 'sweetwater', 'GraphTech', 'Upgrade', 'directions.', 'sandpaper.', 'brightened', 'saddles.', 'PQ-9280-C0', 'Fully', 'Compensated', 'vibrational', 'wait.', 'lefty', \"acoustic's\", 'K&K', '310', 'pleased!', 'transducer', 'endpin', 'Taylor,', 'Para', 'bit.I', 'transducers.', 'discontinued', 'Western', 'cardboard,', 'tape.', 'transducers', 'gets!', 'tricky,', 'patience', 'reading,', '$30,', 'CF', 'resides', 'K&K;', 'sensors', 'repairman', 'promptly.', 'LR', 'buster', 'corner,', 'nearby.', '(mine', 'safe,', 'Finishes', 'lightly.', 'levers,', 'nudge', 'up.I', 'license', 'Sonar', 'editor.', 'RS', 'times.The', 'MainStage', 'Interface,', 'Software', 'overcome', 'windows', 'starter,', 'Acer', 'UCG102', 'intriguing', 'configuring', '\"latency\"', 'ASIO', 'driver.', 'science', 'disc', 'Native', '(there', 'recognizing', 'card,', '..it', 'is....', 'wha', 'plenty.', 'crackling,', 'jumper', 'drives', 'amp?', 'use:', 'workstation.', 'free!Hope', 'practice)', 'usability', 'moving.', 'higher.', 'ver', 'mans', 'Use:', 'addresses', \"5'\", 'low-noise', 'jr', 'ditto', 'looper,', 'haul.', 'upfront.', 'tuners!', 'low-E', '1985', ':)I', 'Manji', 'reed', '$48', 'Delta', 'rename', 'repair,', 'semi-pro', ',not', 'it,,', '$19.', '20.', 'simpler.', 'passion', 'clear),', 'exploring', 'cart.', 'machine,', 'bestest', 'Sorry.', 'invite', 'admirably', 'child.', 'full-time', 'engagements.', 'ea', 'mono,', 'equip', '25ft', 'Quality.', 'DI-box', 'insulators', 'dragged', 'conductors', 'entered', 'JamHub', \"XLR's\", '$70', 'subwoofer,', 'himself.', 'toying', 'Earth', 'update:', 'Sennheisers', 'SHURE', 'Seriously...', 'competitor', 'noise-free', 'acurately', 'clubs', 'restaurants', 'path.', 'belt.', 'menu', 'pad.', 'mistakes', 'Awkward', 'scored', 'decay', 'Trademark', 'modelers.', 'junior', 'imagination,', 'downright', 'XT', '&#34;grip&#34;', 'modeled', 'easy-to-use', 'right;', 'amp/cab', 'easily.The', 'CD,', 'buds,', 'worldwide', 'Pi,', 'whammy,', 'surge', 'Functional,', 'Fuel', 'Lab', 'Hardwire', 'CS400', 'viable', 'impressed,', 'L6', 'adaptors', 'Ibanez,', 'chain)', 'so),', 'YAY!!', 'underneath.', \"L's\", 'assortment', 'super.', 'running.', 'bricks', 'dc', 'outlets,', 'Arion', 'CM-2', 'Overdrive,', 'suppressor.', 'voodoo', '$150+', 'Yes.Would', 'issue?', 'organized.', 'conform', \"65'\", 'HELL', 'Sometime', 'stompboxes,', 'YES!', 'nonsense.', 'overkill.', 'gizmos.', 'bye', 'reliably', 'hookups', 'pedalboards', 'boss,', 'cables.The', 'Chorus,', 'Leslie', 'Vibrato', 'like)', 'bands.', 'downgrading', 'Rise', '\"at', 'subtract', 'unlatched', 'reach,', '\"Super', 'money,,', 'cisco2fun1@youtube.com', 'doubles', 'FYI,', \"buddy's\", 'multi-effect', 'perfectunder', 'qualityI', 'quirks,', 'faint.', 'good).', 'Pins,', 'HD-28', 'picker', 'research.', 'Coastline', 'wife,', 'S6,', 'tomorrow', 'virtues', 'North', 'intrigued', 'narrow,', 'counts,', '2012:', 'equivalent.', 'whom', 'fingering.', 'guitar.-', 'Asian/Mexican', 'mystical', 'vibes.', 'received,', 'rates,', 'years)', 'manages', 'Performing', 'burning', 'inferior.', 'jacked', \"15's\", 'UP', 'FRONT:', 'Orange,', 'Marshall,', 'narrow.', 'British', 'crispy', 'overwhelming', 'STARS?', \"mic'd\", 'Amps', 'engaged.', 'opportunities', 'MOD', 'teens.', 'mold', 'genre', 'to.I', 'flavors', 'mt-2', 'beat.I', 'ports', 'Channel', 'Injection', 'neck)', 'swivels', 'fastening', 'backwards.', 'left/right', 'unsightly', 'axes,', 'Colors', 'tracing', 'requirement.', 'well.Not', 'cheap?', 'problems!', 'MOSFET', \"man's\", 'price.This', 'sports', '\"presence\"', 'FM', '18v', 'headroom,', 'Fulldrive', '\"go', 'to\"', 'saying,', 'cut,', 'transparent.', 'breakup,', '1960', 'Bassman', 'versatile.I', 'overdrives', 'demoed', 'Hence,', 'roomy', 'standby', 'string.Overall,', 'G,', 'March', 'in-line', 'G-Dec', 'Guitarist', 'seconds,', 'lights,', 'definetly', 'TU-2', 'subpar', 'at-home', 'slow.', 'frist', 'activated,', 'criticize', '(Boss,', 'Korg,', 'tuner...', 'enough..', 'category.', 'separated', '\"All', '=]', 'Jason', 'slow,', 'ignored', 'hi-hat.', 'double.', 'plethora', 'slave', 'linkage', 'Iron', 'Cobra,', 'Gibraltar', 'pedal.If', 'Competes', 'Bonamassa', 'say..', 'screamer.', 'TS9.', 'TS808', 'versa', 'wording.', 'irrelevant', 'Zone', '\"fuzz\"', 'sloppy', 'bit),', '\"crunch\"', \"Digitech's\", 'BD-2', 'Driver,', 'underlying', 'responding', 'Green', 'overdrives.', 'charging', 'deserving', 'settings:', 'Hot,', '+,', 'screamers', '\"overdrive\"', 'TS-9dx', 'turbo', 'Bugera', '1990', 'tap,', 'knock-off', 'modern,', 'tubescreamers', 'automatically.', 'ts-9', 'freak.', 'psychedelic', '\"break', 'territory', 'fields', 'honestly.', 'than,', 'Wicker', 'well:', 'ModTone', 'substantially', 'GIGANTOR', 'E-H', 'YouTube,', 'alt', 'saturation.', '(EQ),', 'Sustain,', 'stark', '\"Sustain\"', 'colorful,', 'interesting,', 'pedals.This', 'simulation', 'moe', 'quirks', 'Slow', 'Motion', 'Shimmer', 'Reverbs', 'Swell', 'linked', 'creamy,', \"o'\", 'clock.', 'silences', 'BOOST.', 'GAIN', 'spits', '(built', 'abusive', 'LED,', 'sounds!', '80%', 'Baby.', 'association', 'Hendrix.', 'gone,', 'JS', 'that.I', 'grat', 'back!', 'ave', 'flap', 'wieght', 'insane.', 'Trower', 'tours', 'HP/LP', 'true-bypass', 'OCD,', 'transitions', 'Pluck', 'shifting', 'OCD', 'stratty', 'early.', 'fattest', 'HSS', 'intact', 'FAVORITE', 'Sept.', '2012)', 'reflect', 'overdrive/distortion.', '18V', 'avoids', 'tweed.', 'compression.', 'philips', '(wish', 'own.The', 'punch,', 'rules!', 'Purpose', '(reverb,', 'programmable', 'MXR.', 'quieter.', 'DC9.', 'ratios,', 'knobs:', '\"sustain\"', 'DC9', 'Dynamics', 'reproduction.', 'favorite!', 'chimey', 'sound.Overall', 'fumbling', 'all-time', 'True,', 'gimmicky', 'house!', 'supremely', '8.', 'large.', 'prefered', 'fashioned', 'orientation.', 'GREAT,', 'cans.', 'pleather', 'soundstage', 'outclass', 'uncomfortable.', 'ATHM50S', 'seasons', 'anyway.I', 'ext', 'cable.I', 'same!', 'awesome.I', 'Comfort', \"Grado's,\", 'between,', 'isolation,', 'markedly', \"HD-280's,\", 'imaging', 'GNX4', 'mixing,', 'clear!', \"ATH-M50's\", 'thing).', 'Complete', 'blasting', 'exist,', 'Axe-Fx', 'Senheiser', '280', 'flaking', 'Blows', 'themselves,', 'ATH-M50', 'middy', 'following:', '[+1dB', 'Q', '[+1.5dB', '1],', 'clicks)', 'panning', 'hundred.', 'curves', 'exaggerated', 'emphasized', 'muff,', 'pristine.', 'drown', '12AX7,', '12AT7', 'happened.', 'benefit.I', 'quieter,', 'PI', 'GT', 'Electro-Harmonix,', \"JJ's\", 'sweeten', 'tone-', 'lent', 'amps.The', 'identical,', 'Volume,', 'OD.', 'Dirt', '\"Distortion\"', 'ears;', 'Dirty', 'Metal)', '\"fizzy\"', 'Twin,', \"'78\", 'Distortion.', 'BB', 'DP-008', 'recorder,', 'charger', 'cell', \"Tascam's\", 'DR-07', 'DR-07MKII', 'transportation,', 'Board', 'mustang', 'Chain', 'Labs', 'styrofoam', 'comfortably.', '(MXR', 'Board,', 'huge!', 'Suppressor', \"player's\", 'section.', 'normalize', '.wav', '.raw', 'file.', 'field.', 'Recorder', 'H2', 'whisper', 'scroll', '\"record\"', 'steps.', '(red', 'stop.', 'WAV', 'remote.', 'movements.', 'Simplicity', 'SDHC', 'minidisc', 'AGC', 'recorders', 'exchanged', 'H4n', 'H2.', 'Olympus', '96/24', '5.1', 'encoding', 'tradeoff', 'money.I', '2010.', 'Materials', 'truck.', 'R-09', 'Edirol', 'H2,', 'scaled', '120', 'surround', 'demonstrations', 'Edirol,', 'Adobe', 'Audition', \"H2's\", 'darling', 'choir', 'format', '(darn', '\"recording', 'sock', 'sequences', '\"Audacity\"', 'bounced', 'ZOOM', \"recording.I've\", 'it.You', 'disk,', 'rating,', 'endorse', 'recorders.', '\"back-up\"', 'stealth', 'spared', 'manuals', 'encouraging', 'designers', 'loops,', 'programs.', 'Sony,', 'degrees,', 'promises', '4)', 'captured', 'step,', 'numb', 'imagining', 'impatient', 'scrolling', 'Undoubtedly', '(128-meg)', 'enabled', 'iMac', 'OSX', 'Leopard', 'downloading', '\"real', 'mastering', 'gratuitous', 'reinstall', 'on-the-fly', 'asked.', 'Steinway', 'arms.', 'THEM', 'COULD', 'inevitable', 'god', 'trouble?', '\"does', 'DI-boxes.', 'shall', 'cable.+', 'defects,', 'GOOD.', '&#34;What', 'expectation.', \"20'\", 'dub', 'comb', '75W', 'shoulders', 'JAM', 'G-Dec.', '2gb', 'overdub', 'creation.', 'Spyder', 'rythmn', 'menus,', 'timing', 'looping', 'IV', 'watter', 'Cyber', 'Jam,', 'Jam.', 'Crank', 'Devil', 'HD500,', 'away.The', 'it),', 'pedal.The', 'Amps,', 'Artists,', 'Songs', 'Jam.If', 'isyour', 'Jam.I', 'JM4', 'Looper', 'engine.While', '150)', 'SPECIFIC', 'isnot', 'flexible.I', 'without,', 'Express', '4.Also', 'mildly,', 'Starcaster.', 'Electric.', 'headphones-', 'compartments', 'Exotic', 'EW20', 'W', 'REVIEWS', 'expected!', 'San', 'fit!', 'runner', 'square.', 'danger', 'Boy!', 'GT-2', 'TM300', 'state).', 'modelers', 'warrior', 'provides.', 'continued', 'bridge)', 'beast.', 'modeler', 'non-guitar', 'placement,', 'driving.', 'Commonwealth', 'Sansamp', 'Folks', 'cares,', 'VT999', '---', 'full-on', 'tube-based', 'rodded', 'EARS', 'overdrives,', 'out:', 'drive,', 'bag...', 'zipper,', 'styling', 'handsome', 'Bag,', 'Intelli', '100x', \"tuner's\", 'Dulcimer.', 'college', 'hammered', 'dulcimer.', 'blank', 'neckplate', 'Great!!!', '1/8th', 'slapped', 'supply?', 'patient', 'supplying', 'Volt', 'powering.', 'Minus', '6-pack', 'holiday', 'tactile', 'Button', 'repairs,', 'afterwards', 'course)', 'serving', 'unaware', 'noting', 'Cotton', 'understated', '\"Fender\"', 'ones.It', 'snap-on', 'venerable', 'Grolsch', '\"strap', 'Keith', 'buying)', 'waist', 'midway', 'classy', 'problem.I', 'Comfortable,', 'adjustable),', 'Straplocks,', 'anyway)', 'monster,', 'bouncing', 'miracle,', 'place!', 'dye', 'Suede', 'mess!', 'extendo', 'fired', 'failures', 'choices.', 'admired', 'straps...', 'Wayne', 'distracting', 'wrestling', 'shirt.', 'Quality!!!', \"'cause\", 'baby!', 'clothing', 'pass.', 'dependable,', 'Attaching', 'superbly', 'unit!', 'delighted.', 'footprint,', 'plug-ins,', 'Soooo', 'loss.', 'bank,', '&#34;1', 'Spot&#34;', 'amazement', 'wall-wart', 'amperage', 'daisy-chain', 'known,', 'sentimental', 'review)', '\"chorus\"', 'yer', 'bucket', '...I', '\"on\"', 'pedals?', 'fortune.', '$11', 'as,', 'repeats', 'wise.', 'DD400', 'off...', '\"in', 'delayed', 'extra-long', 'voices.', 'HOW', 'DD-7', \"100's\", 'U2', 'Thing', 'poping', 'DD,', 'demo,', 'Machine', 'guitar/amp', 'Flashback', 'Corona', 'Hall', 'Fame', 'Reverb,', 'Ditto', 'power-grip', \"'industrial'\", 'Boss)', 'Satchurator', 'Time-Machine', 'Reverb.', 'PT-2', 'Pro.', 'M13,', 'M9', 'M13', 'velcro.', 'laziness', 'cheap-o', 'velcro,', '(read', 'tech,', 'fiber,', 'CA.', 'Schub,', 'ridiculous,', 'painful.', 'arms,', 'harder.', '(got', 'thermoplastic.', 'brilliantly', 'carry,', 'yoga', \"capo'd\", 'when/if', 'AC30', 'gains,', '(tried', 'tele,', 'jazz/blues', 'AC30,', 'Rickenbacker', 'Hit', 'amPlug', 'Amplug', 'Amplug.', '\"Marshall\"', 'AC30.', 'circuitry,', '6-8', \"Vox's\", 'Amplug,', 'gig...', 'Jazzmaster', 'crackles', 'uncoil', 'wireless,', 'Jackson,', 'Gold.', 'bunch,', 'Mogami.', 'Evidence', '20W', 'PPC108', '1x8\"', 'effects-connecting', 'ups,', 'transmitted', 'KS8291XX', 'supports,', 'V-combo', '76', 'insertion', '1400', 'pyle', 'label,', 'Defective', 'probally', 'Lute', 'customized', 'necessity,', 'briefly', 'stopped,', 'read,', 'O-Port', 'Oscar', 'soundhole.', 'minuscule', 'essentials', 'case).', 'dimensions.', 'switch.The', 'PH9', 'list.', 'times!', 'Gilmour.', 'usually,', 'fan,', 'Gilmour,', 'Classical,', 'La', 'Patrie', 'expiriance', 'kid.', 'Ill', 'PM0.5', 'BX5a', 'popular,', 'tweeter,', 'details,', 'ports).', 'Comparison', 'capacitors', \"M-Audio's\", 'East', 'recorded.', 'subtleties', \"CD's\", 'portables,', 'babies!', 'Woofer', 'pads.', 'panels', 'throughout.', 'uncommon', 'woofer', 'unreliable', 'Deluxe.I', 'Internal', 'AV', 'over!', 'stiffer.', 'grippers', 'Tip', 'oriented', 'Whenever', 'consisting', 'technology.', 'short;', 'Dreadnaught', 'Ice', 'PICK', 'connected,', 'teacher.', 'therefore,', \"III's,\", 'puppies', 'shaky', 'material),', 'LOL.', 'along,', 'goes.', '98%', '15+', '..and', 'ears!', 'Korg...', 'opinion!', 'Silent', 'offerings', 'tc', 'true-bypass,', 'tolerances', 'box:', 'hesitation,', 'Tuner!!!', 'DT-10', 'traffic', 'visibility.', 'Occasionally', 'Skip', 'tunner,', 'pedalboards.', 'Polytune.', 'tunner', 'harmony', 'divider', '(up', 'down)It', 'intervals', 'TUNE', 'chorus-like', 'fun!', 'US600', 'amp...this', 'Harmonist/Shifter', 'learn,', 'octaves,', 'Shifter', 'outputs,', 'Harmonist', 'Duane', 'Allman', 'harmony.', 'results.The', 'Bar', 'gadget,', 'device.One', 'example)', 'Octave', 'cake.', 'enthusiast', 'harmonist', 'polyphonic', 'flutter', 'fluttering', 'shifter,', 'bombs,', 'lead,', \"get's\", 'delays', 'D-8', '600Ms', 'time...I', '5,', 'Adjustments', 'delicious', 'lodged', 'Delay.', 'delays.', 'DD3', 'chorusing', 'DD-3', 'Aqua', 'Boy,', 'delays,', 'good.This', 'Lush', 'FRV-1', 'Puss', 'Copy,', 'Malekko', 'Ekko', 'alley.', 'recreate', 'easily...', 'BOSS.', 'Love,', 'pong', 'Delay,', 'produces,', 'ambience.', 'fortunately,', 'echo)', '\"U2\"', 'ms.', 'ms', 'Mooer', 'chain.The', 'bright&#34;', 'BRIGHT', '(indicating', 'combined.', 'eyes.', 'desired.The', 'lighting.', 'changes,', 'overtone', 'octaves', 'tweaks', 'noisier', 'instrument).', 'shimmering', 'tracking,', 'trails', 'cave', 'pedals;', 'assuring', 'off*the', 'Comprehensive', 'February', 'Ducking', 'Verbzilla,', 'GSP', '2101', 'Wrote', 'Left', 'insignificant', 'HATE', 'cos', 'verbzilla', \"1970's.\", 'fry', 'PedalBehringer', 'M104', 'Processor', 'decrease', 'good)', 'EM600', '(IMO)', 'tempo.', 'sequence', 'Park,', 'dock', 'copied', 'Biyang', 'profit', 'noticed,', 'limitless', 'Kala', 'Makala', 'Schmidt', 'Single', 'better?', 'case?', 'bag.I', 'dorky', 'uku', 'relationship', '\"tracks\"', 'overlap', 'bizarre', 'LOUDER', 'far...', 'sophisticated', 'rythms', 'Park', 'flashes', 'for.It', 'straightforward', '\"new\"', 'timing.', 'cracks,', 'Unhappy', 'designed,', 'Tung-Sol', 'Tung', 'Sol', 'Valvetronix', 'Modern', 'improvement,', 'Ruby', 'Amp:', 'Filtertrons,', 'JJ12ax7', 'Tongsol', 'ears).', 'harsher', 'heaven!', 'EH6V6', '6V6', 'fizz', 'AC7', 'CHINA', 'Die', 'blends', 'sledge', 'and....', 'saver,', 'vertically,', 'Constructed', 'brackets', 'curvatures', 'separation', 'night,', 'Expect', 'flood.', 'DSP', '$1,200', 'Nevertheless,', 'movement,', 'Specifically,', 'setting.I', 'Helped', 'ceiling.', 'Lightweight,', 'knee.', '$85.', 'it.As', 'backrest.', 'backrest', 'compromised', 'keyboardists', 'However.', 'bit.The', 'contrary,', 'offsets', 'Tuesday.', 'economical.', 'guitarr&oacute;n', 'cello.', 'amenable', 'fork,', 'LOOK', 'view,', 'discourage', 'guitarr&oacute;n,', 'trying.', 'Value!', 'rotates,', '(hence', 'Tepper', 'suffice.', 'corners.', 'good..', 'frame.', 'durable!', 'inconvenient.', 'Store', 'etc....', 'welds', 'cushions', 'father', 'grommet', 'MF)', 'crushed', 'rugs', 'complain)', '(aside', 'INTO', '(guitar,', 'corrugated', 'clipboard', '2/3', 'Petty', 'lyrics', 'rehearsal.', 'inconspicuous', 'cheapest.', \"battery's\", '20-25', 'forget.', 'vigorous', 'overlay', '320', 'Milli-amps.', 'ons.', 'got,', 'harmonix', 'patience.', 'bursts', 'advertisements', \"'perfect'\", 'group,', 'THESE.', 'redrilling', 'Downside', 'Duet2', 'Kindle', '5-6', 'them.The', 'all)', '$10.', 'well-placed', 'pages.', \"LED's\", 'Book', 'sure;', 'readable', 'letter', 'fringes', 'separately).', 'on.I', 'indistinguishable', 'orchestra', 'coverage', 'Illuminates', 'non-USB', 'budget.The', 'iTunes', '2.2', 'sensitivity.', 'barring', 'drasticly', 'strand', 'now.The', 'corrosive', 'Improved', 'Wonderful.', 'Saga', 'ads', \"'F'\", '&#34;just', 'universe,', 'Crush', 'beyond.', 'Soul', '-&#62;', 'midnight', 'BEING', 'cops', 'news.', \"8's\", 'morning,', 'noon', 'exercises', 'Cube,', 'CM-2.', '\"classic\"', 'delight!', '\"level\"', '\"gain\"', 'gain).', 'distorted,', 'Neil', 'Young,', 'Young', '(particularly', 'front-end', 'well.However,', 'hard-rock', 'without.', 'prog', 'emulated', 'scooped,', 'mAH', 'Sanyo', 'time.This', '(strings', 'DAW,', 'destroy', 'drink,', 'cups.', 'corresponding', 'notation', 'gig?', 'theory.', 'major,', 'pentatonic,', 'appears.', 'wheel.', 'written.', 'helpfull', 'visualize', 'wheel,', 'Bb.', 'asset', 'relate', 'on.The', 'accuracy,', 'Musiciansfriend', 'Sabine,', 'affordably', 'loan', 'tucked', \"(doesn't\", 'adapts', 'blink,', 'flashing,', 'flashing.', 'X2', 'Footswitch', 'Wrong', 'voicings', 'pcs', 'last?', 'pinnacle', 'ukelele,', 'guitar-playing', 'ukelele.', 'Row', 'Boat,', 'yanked', 'improving,', 'Whole', 'Twinkle', 'authored', 'pamphlet', 'Ukelele', 'Association', 'Lanikai', 'sharp;', 'ukulele!', 'LU-21.', 'violins', 'optical', 'duh,', 'myRoland', 'Pianoand', 'depression', 'considering.', 'pre-amp.', 'ever!!', 'interviews', \"Blue's\", 'programs,', 'stressing', 'macbook', 'Icicle', '\"dynamic\"', 'marginal', 'conversion.', 'comparably', 'laptop.', 'Thankfully', 'noticably', 'can&#8217;t', 'Zipper', 'bangs', 'inspecting', 'fine;', 'accesories', '(expensive)', 'limits.', 'electric)', 'Keyser', 'guitar..', 'casters', 'cabinets,', 'punched', \"drummer's\", 'gizmos', 'longer!', 'solution!', 'shell.', 'Wash', 'rethink', 'fully,', 'small),', 'cutouts', 'useable,', 'Pedaltrain,', 'Comp,', 'soft-sided', 'teaching', \"FX's\", 'super-overdrive,', 'brackets,', 'bag;', 'PT2', 'corners)', \"she'd\", 'Furman', 'outlet.The', 'attempted', \"can't,\", '(You', 'rectangle', 'volume/wah', 'drawbacks.', '5w', 'rig)', 'professionaly', 'stuff).', 'suggest.', 'Grail,', 'to.It', 'one;', 'AUX', 'low-budget', 'con,', 'traveling,', 'trs', 'jewel', 'sample,', 'thinly', 'rehearse', 'negatively', 'parameters', 'certain.', 'Rumble', 'tripods', 'presses', 'knob.I', '90-degree', 'thumbscrew', 'acting', 'transporting,', 'cameras.', '\"no', 'dusty', 'executed.', '3.5', 'triangles', 'cork', '$1.00', 'FYI:', 'rotates', 'Cradle', 'Combined', 'amp-like', \"led's\", 'Vibe', 'Bender', 'uni-vibe', 'Controls', 'marking', 'PRO', 'PRICE', 'Uni-vibe', 'love-hate', 'boosted,', 'MXR/Dunlop', 'M68', '(new', 'Jimi,', 'Dunlop/MXR', 'LED.', '2X', 'Knobs', 'brick.', 'it.-', 'lush,', 'cut.', 'uni-vibes', 'Intensity', 'space-age', 'NOTE', 'MixDSPnet', '15%', 'restocking', '85%', 'addressed', 'transaction', 'cram', 'put:-', 'stands-', 'SS7761B', 'canvas', 'handles.', 'poles.', 'Moving', 'pile', 'Vibro', 'draws', 'Tweed,', 'Blackface,', 'Rod,', 'stack.', 'right.The', 'selected,', '(Vibratone,', 'F/X', 'Lucille', 'supplement', 'maybe?', 'essentially,', 'tweed,', 'Small.', 'Blackface', 'voicing', '\"you', 'realistic,', 'drummer.', 'done?', '2010,', 'sprang', 'BulletStrat', '10x', '\"project\"', 'screwdriver,', 'minute,', 'guard,', 'ANYTHING', 'glue.', 'bother?', 'woodworking', 'skill.', 'me!!!', 'proceed', 'stabilized', 'sensitive.The', 'plucking.', 'feet)', 'Win', 'straighten', 'Bulky', 'Travels', 'weee', 'roo', 'juh', 'Du', 'milled', 'problems:', 'TONS', 'headroom.', 'warranty).', 'Exceptionally', 'LOUD,', 'definitive', 'w/the', 'beat,', 'JCM2000', 'DSL', 'breakers', 'slots.', 'dimples', 'Luthier', 'thumbwheel', '(But', \"fender's\", 'sections.', 'two.The', 'reinforcement', 'mods.', 'myFender', 'illustrate', 'ranks', 'Watts,', 'AMP,', '15w', 'spanky', 'Chorus.', 'Princeton,', 'Sure.', 'Metalheads', 'Blues,', 'technological', 'mini-tube', 'Killer', 'Ant', '(12\"', 'Blackheart', 'leaned', 'Epiphone,', 'guts,', 'man...', 'Compliments', 'hidden,', '\"Marshall', 'rinky', 'dink', 'preset.', 're-issue', '75.', 'Switches', 'plastic...', 'Mustangs', '1&2', 'messy.', 'Bronco', 'deg.', 'gender', 'changer,', '1/4inch', 'Suitable', 'STAY', 'deceiving.', 'hookups.', 'Garageband,', 'Macbook', 'firmware', 'duties', 'REAPER.', 'reinstalled', 'uninstalled', 'transferring', \"device's\", \"'n'\", 'Value.', 'data,', 'Notebook', 'Cakewalk', 'programming', 'Cedar', 'department', 'yard', '(Do', 'Classical.', 'GC,', 'ugly.', 'Assorted', 'botton', 'misunderstood', 'Sigma', 'strapping', 'knot', 'LOOKING', 'Headstock', 'install;', 'vey', 'anywhere.I', 'sits,', 'pinch!', '64', 'stereo.', 'lasted.', 'notebook', 'MacBook', 'communications', 'headset.', 'Macs', 'plug-and-play', 'Dell', 'Micro,', 'availability', 'accessibility', 'Head,', 'high-frequency', 'Catalinbread', '(poor', 'side)', 'Mechanical', 'reacts', '(kind', 'spongy', 'mat.', 'Accessories', 'theJim', 'Maintenance', 'easy;', 'Mat', 'lucky.', 'O.K.', 'Treated', 'ecru', 'whiff', 'Proposition', 'consumers', 'docked', 'e-mailed', 'epic', 'ware', 'mailed', 'reshape', 'pics,', 'Wished', 'Picking', 'cactus', 'dreadnaught.', 'buying.', '\"assorted\"', 'thicknesses.', 'responsively', 'maneuvering', '551s', 'beveled', 'chops', 'mediums,', 'delrin', '1FRD1-25', 'Delflex', 'progression', 'evidence', '10\".', 'Plated', '\"quality\"', 'etc...', 'Ur', 'place...', 'snobs', 'pedal..', 'Sweetwater', 'Ebay,', 'M5,', 'taxing', 'mood', '427P3', '(works', 'great).', 'iiis', 'warned.', 'message', 'yellowish', 'H4N', 'Skype.', 'Aux', 'tracks.The', 'reaction', 'doubt.', 'Dream', \"H4n's\", 'reviews.I', 'Stamina', 'Auto', 'comment.', 'Response', 'savvy', 'METAL', 'KIND', '\"furry', 'head\"', 'centers', 'spoke', 'dime.', 'H4n.', 'earlier,', 'Sandisk', 'rate.', 'entry,', 'H1,', 'quick,', 'full-bodied,', 'expensive)', 'Zooms,', 'misleading,', 'PCM-50', 'permit', 'simplifies', 'XP.', 'converter,', 'cleans.', 'PSA', 'Expected', 'module', 'footswitches.', 'Tonelab', 'avid', 'patches,', 'introducing', \"PC's\", 'clunky,', \"Cakewalk's\", 'registered', 'registration', 'PCs.', '64-bit', 'Afterwards', 'Multimedia', 'Cinema', 'hub', 'resolved,', 'Mixcraft', 'tiny.', 'Yeti.', 'Omni', 'obtained', 'requirements,', 'Packaging', 'Xbox', 'Hero', 'Snowflake', 'inspired', 'diminutive', 'favoring', 'Snowflake,', 'iMac,', 'insure', '(either', '(using', 'intrusive', 'refined', 'lemon.', \"friggin'\", 'Companies', 'fast!', 'Universal', 'Excellent.', 'toughest', 'STILL', 'kinks.', 'sleeve,', 'THey', 'receipt', 'IMO)', 'it\".', 'receipt,', 'knots', '39', 'number,', 'indeed.', 'money.This', 'coiling.', 'Fatso', '\"high', 'each),', 'Quiet,', 'Xotic', 'EP', 'something?', 'guidance', 'realizing', 'Minimal', \"'gig'\", 'activity.', 'devices,', 'Talk', 'mounted,', 'movable', 'aid', 'life-time.', 'approx', 'board.The', 'gear:', 'gigs.I', 'EDIT', 'Painted', 'Economy', 'snag', 'magnet,', 'upgrade,', 'AQ-S', 'Nylgut', 'Uke.', 'U-30', \"starter's\", 'patterns.', 'pitched', '\"Hawaiian\"', 'problematic,', 'in.\"', 'Chords', 'gifts...', 'child', 'senior', 'options.Okina', 'UK100', 'Rosewood', 'NaturalDiamond', 'DU-150', 'NaturalMahalo', 'U-30OR', '(Orange)Lanikai', 'LU-11', 'UkuleleKala', 'KA-15S', 'UkuleleThe', 'Okina,', 'Mahalo', 'Okina', '20-', '40-year-old', 'level.The', '\"island\"', 'attributed', \"Head's.\", 'Head)', 'Aquilas', 'much.The', 'geared,', 'are.The', 'Aloha', 'RP255', 'generating', 'profiles,', 'presets,', '(pretty', 'unit?', \"freakin'\", 'quirky', 'Man.', 'pre-sets', '(included)', 'X-Edit', 'cables.I', 'monoprice', 'discovery', 'blinking', 'HDE', 'app.', 'pipe.', 'netbook', 'bag\"', 'semi-rigid', 'term.', 'bike', 'minimalist', 'evaluating', 'ES-58', 'SM57s.', '302USB', '5-Input', 'cons.Pros1.', 'heft,', 'deduct', 'amateur.', 'webcam', 'co-host', 'Skype', 'editor', 'right:', 'SM-57s', 'Magic!', 'Meets', 'circumstance', 'shocks', 'Mike', 'Snark,', 'strobe', 'G.', 'internals', 'squeal', 'vids', 'reaper', 'uca', '222', 'Reaper', 'tapes', 'UCA222', 'Users', 'sour', 'THOSE', '(could', 'Latency', 'issues).', 'costlier', 'guys).', 'Sony.', 'defaults', 'tow', 'Leash', 'injure', 'entertaining', 'how-to', '(nothing', 'Toy', 'MIGHT', 'stands!', 'folded,', '(electric', \"We're\", 'lessen', 'Spanish', 'Sliding', 'plagued', 'WELL', 'WORTH', 'lamp', 'suitcase', 'overwhelm', 'STARTER', 'adjustments!', 'shuts', '300mA', 'twang,', 'micro,', 'named.', 'dice', \"didnt'\", 'POS', \"didn't,\", 'PDC21', 'Z)', 'M1A', 'requires.', 'Portable,', 'crescendo', 'Track', 'mixers)', 'application.I', 'mags', 'seperated', 'friend!', 'Schaler', 'heroes', 'counterparts', 'amber', '6.5\"', '(excuse', 'reverbs,', 'advertisement', 'overview', 'graphical', 'selectable', 'patches.', 'controversy', 'hat,', 'mentally', 'sampled', '(meaning', 'terms,', 'imitation', 'pedal),', 'phenomenal', \"(I'll\", 'extent,', 'nuance', 'accomplished.', 'suction', 'comparison)', 'Cherub', 'AXL.', 'AXL', 'FOR!', 'Transducer', 'temp', 'ukeleles', 'Lanakai', 'ragged', 'dowel', 'peg-hole', 'shoved', 'washer,', 'bread,', 'words.', 'soundhole,', 'spun', 'IT!!!', 'body;', 'Blown', 'nightmare', 'GIANT', 'SOME', 'arsenal,', 'reuse', 'slit', 'stretches', 'flop', 'outweigh', 'explain,', 'wicked', 'silk-and-phosphor', '\"out', 'nip', 'softer.', 'theme', 'Beatles', 'RECEIVED', 'BEATLE', 'LITTLE', \"DIDN'T\", 'reducer.', 'hides', 'quiets', 'bypassed', 'effects.The', 'do-', 'Admittedly', '!!!!', 'sensor,', 'crate', 'to..', 'Contrary', 'minimally', 'silence', 'management', 'bay', 'convienent!', 'thumbpicks', 'micrometer', '&#34;Large&#34;', 'thumb.', 'Bic', 'objects', '(far', 'reflects', 'flubby', 'V5,', 'V5.', '.1w', 'AC4', 'boasts', 'V22', 'attenuator,', 'pinned', 'distortion/overdrive', 'Plexi', 'clone)', 'stuff)', 'Page', 'minimal,', 'T5', 'anticipating', 'protectors', 'Country,', 'Beatles,', 'Led', 'Online', 'th', 'bills.', 'Hundreds', 'Tape', 'Controller', 'pre-CBS', 'unseen', 'fly,', 'more),', 'FBV', 'Mk', 'controller.', 'essential,', 'downloadable', 'explored', 'recreates', 'narrowed', 'conducting', '\"sweet', 'anyway.One', 'theLine', 'MkII', 'Away', 'dramatic.', '$1000+', 'spider', 'IV.', 'Solos', 'vol', 'scoured', 'bug', 'workaround', 'ABCD', 'overdub,', 'acknowledged', 'cry,', 'nope', 'paddle', 'completes', 'reccommend', 'peice', 'overs.', 'moreover,', 'accounts', 'Bye', 'go!!!', 'Batteries', 'Tuner!', 'GA1', 'register.', 'gimmick.', 'sixth', 'Gift', 'permanent,', 'needle,', 'swivel.', 'ukuleles!', 'Intellitouch', 'dimly-lit', 'backlit', 'plucking', 'hesitancy', '2032', 'grocery', 'Reason,', 'Reason', '4.', 'LPD8', 'flaky,', 'AKAI', 'Akai', 'sequencer', 'GarageBand', 'recognizes', 'Keyboard,', \"Apple's\", 'inputting', 'minds', 'screen\"', 'instruments.I', 'telecaster.', 'library', 'fabric!!', '=)', 'slower', 'desirable', 'scheme', 'audience.', 'obscure', 'articulating', 'movies', 'PT10', 'CA1', 'Polytune', 'Usually,', 'IMT500', 'minuses.', 'forgetting', 'i.e.,', 'E1', 'seas', 'workarounds', 'Intelli.', 'Finally!', 'IMT-500', 'EADGBE.', 'guitarlele', 'backlight,', 'fiddle,', 'Intelli,', 'shock-absorbing', 'metering', 'science.', 'distributor', '\"needle\"', 'SNARK', 'there.The', 'tunner.', 'gift,', 'autoharp', 'mystery', 'Everest', '1960A', 'depended', '&#34;selling', 'Comparing', 'peer', 'ADA', 'GCS-3,', 'all-analog', 'everybody,', 'dicey', 'US-100', 'occured', 'Tascam,', 'was!', 'behold', 'instructional', 'footage.', \"US-100's\", 'ASIO4ALL', 'I/O', 'busses.', 'launching', 'revert', 'restart', 'mini-jack', 'garageband,', 'sony', 'protools', 'MBox', 'Sent', 'Pro-Picks', 'trumps', 'practical.', 'DA', 'headset,', 'Ridiculous', 'Natural,', 'cautious', 'precision.', 'distracting.', 'Booster', 'Indeed,', 'noticeable,', 'sauce', 'yeti.', 'youll', 'hosts', 'instruments.The', 'Sennheisers,', 'nope,', 'mounts,', 'Radius,', 'Mic!', 'computer-ready', 'stand),', 'too-', 'linux', 'GarageBand,', 'A/D', 'case.At', 'literature', 'attainable', 'comparably-priced', 'hub.', 'Vista', 'Microsoft', 'icon', 'issues.The', 'Logitech', 'rebooting', 'fine-tuning', 'say-', 'about?', 'SVT', 'footswitch,', 'compressor.', 'compressors.', 'ratios', 'amazed.', \"done'.\", 'flimsey', 'fast.The', 'over-hyped', 'originals.', 'see,', '440', 'blades', 'accents', '2-3x', 'skeptical,', 'better)', 'BANJO', 'Playability', 'PLAYER', 'SEE', 'ARRIVED', 'INSTRUMENT', 'FINE.', 'PACKAGE', 'Jameson', 'extensively.', 'investigating', 'mainstream', 'SN-2', 'Clip-On', 'Tuner...', 'aware,', 'confusion,', 'Davison', 'does)', 'spend.', 'sunlight.', 'update.', 'updates,', 'update,', 'individually.', 'grace', 'quickly)', 'polytune', 'one-spot', '+/-', '$70.', '(top', '(sold', 'intonated.', 'Snarks', 'reads', 'MG102c', 'ProFX8', 'better.For', 'heartily', 'struggling', 'tab,', 'concept,', 'hand-made', 'April', 'questionable', 'hissing.', 'edrums', 'duo.', '(powered)', '\"clone\"', 'cloned', 'interval', 'creation', 'centered', 'retracted', 'confines', 'oversize', 'fit/feel', 'basic.', 'Canada.', 'slicing', 'designs.', 'vibe,', 'paul.', 'great.It', 'quicker.', 'hitch', 'curl', 'economically', '&#34;twist&#34;', 'One,', 'shed', '!!!!!!', 'color;', 'blue,', 'lengths,', 'Awful.', 'foresee', 'row.', 'economic', 'row,', 'roundwound', 'meh', 'AC15,', 'AC15', 'tone.If', 'panel,', 'godin', 'breakup.', 'rewarded.', 'gripes.', 'musical.', '\"Normal\"', '\"hiss\"', '\"boutique', 'advertized', 'ratcheting', 'squeeze,', 'keyhole', 'attach,', '073-3150-406', 'experts', 'perhaps,', 'overdriven,', 'chapterhouse,', 'himself', 'secret,', 'off),', 'PHONE', 'JamMan', 'tracks).', 'tin.', 'Beatle', 'Tin', 'collects', 'Garbage', 'G30', 'unforgiving', 'Relay', 'CSP202', 'blah', 'Wampler', 'Script', 'Compressor,', '\"Attack\"', '\"effect\"', 'envision', 'Comp.', 'arguably', 'eBay,', 'palette,', '\"New', 'apt', 'tone/sustain.', 'velvety', 'Flanger', 'Easy,', 'sparingly.', 'Outside', 'rotation', 'needed...', \"stay's\", 'Tremelo', 'Jagmaster', 'rebuild.', 'bevel', 'note...', 'zinc', 'block,', 'import,', 'bolted', 'mass.', 'indicative', 'crummy', 'considerably.', 'revising', 'mu', '250s.', '42', 'On!', 'Cylindrical', 'Shaped', 'cavity.', 'Jazzmaster.', 'gravitated', 'hiccups.', 'piles', 'ever!!!', 'Ever!', 'brilliantly.', 'Max-Grips', 'tea.', 'Joyner', 'jury', 'Clip-on', 'Adapter.', 'overlapped', 'fin', 'squash', 'encountered.', 'Sat', 'uninstall', 'vintage-style', 'revised', 'Screw', 'sturdy-', 'Lunchbox', \"p/u's,\", 'dissappointed.', 'ZT.', 'behavior.', 'reactive', 'ambiance', 'video.', 'laden', '5)', 'fine.If', 'increase.', 'blackface', 'painfully', 'thoughtfully', 'ultra-portable', 'harmonica)', '$450', 'PS', 'quirks.', 'routing', '6.5', 'procedure', 'out.Bottom', 'preface', 'lettering.', 'nubs', 'jazz.', 'pace.', 'six,', 'off.The', 'hugely', 'apart:', 'glides', 'then...', 'Tubes)', 'JJs.', 'V32', \"EL84's\", 'Mullard', 'screens.', 'Tubes,', 'definate', 'specify', 'YPG-235', 'compliant,', 'disk', 'WIN', '235', '235.', 'salt', 'price.So', '535', 'possesses', 'differences,', '535,', '235,', 'compatibility,', 'cheaply.', 'miced', 'label.', 'EXACT', '(still', 'kick-drum', 'cabs,', 'Coil', 'hosting', 'having,', 'PDMIC58', '8,', \"wan't\", 'mimics', 'exhibits', 'registers', 'cardiod', 'announcers', 'D40', 'Vocalist', 'you...', 'Tremendous', 'PVC', 'tearing.', 'Press', 'shooting', 'relieved', 'shielding,', 'sites.', '...i', \"note's\", 'Well...', 'discretion', 'shown,', 'figured...', 'behaving', 'basics.', 'presentable', 'learner', 'telecasters', 'crackly', 'tax.', 'mentioning.', 'paper.', 'difficult.', 'bandmates', 'Screen', 'hour,', 'etc.),', 'caliber', 'painstaking', 'couple,', 'Italian', 'string!', 'Everywhere', 'Ukuleles', 'SOPRANO', 'BARITONE', 'UKULELE.', 'INEXPENSIVE', 'TIME', 'esp', 'needs!', 'hall,', 'faulty.', '&lt;', 'Versatile,', 'grail.', 'soon...', 'desire.', '30%', 'only)', 'PODs', 'OS', 'anticipated', 'disable', 'X3', 'worthy.', 'endless.', 'started,', '\"pro\"', 'X3Live', 'GONE', 'ToneLab', 'X3Live.', 'M13.', 'FX.', 'meantime,', 'Amplitube', 'Concert', 'greater.', 'ideal,', 'grooves,', 'easily)', 'Wedding', 'wedding', 'mark.', 'et', 'around...', 'come...', '(yeah,', 'distortion),', 'TONE:', 'compressed.', 'Trace', 'Elliot', 'TA50R', 'TA50R.', 'Loudbox', 'BLURB:', 'guild', '1/16\"', 'matter?', 'item.I', 'Anything', 'Waste', 'MAT', 'ACOUSTIC', 'HOWEVER,', 'intonating', 'ooh', 'SN-1', 'great!It', 'Tunner', 'SN-1.', 'Accurate,', 'kool', 'acurate', 'exceeding', 'iPhone,', 'suffered', 'dims', \"uke's\", 'convienient', 'TU-12', 'Snark.', 'Accurate.', 'primarily,', 'sync', '\"hear\"', 'see!', \"Godin's\", 'skimming', 'tuner!!', 'onstage.', 'bummer', 'status', 'Tu-70.', 'GoGo', 'TT-1', 'chormatic,', 'read...better', 'mine).', 'GoGo.', 'Barcus', 'Berry,', 'quicktune', 'raved', 'intellitouch', 'iphone', 'SN-5', 'negatives,', 'decisions.', 'Intellitouch.', 'CR2032', 'apps.', \"Snark's\", 'Tight\"', 'kick,', 'dead-on', 'r', 'SN-8', 'SN1', 'instantly.', 'settles', 'instant,', 'resolution.', 'transposable,', '&#34;electric', 'A.', 'PW-CT-12', 'Tuner.', 'lemons', 'metronome;', 'capo;', 'chromatic.', 'direction,', \"DVD's\", 'sky', 'jack-in', 'tuner.The', 'soured', 'enthusiasm', 'Peterson', 'students,', 'unobtrusive.', 'dead-on,', 'vibration,', 'cases!', 'differ.', 'Android', 'fine.The', 'Brazilian', 'whack', 'tunes,', 'fastest', 'garish', 'hideous', 'twitchy', 'sharp.I', \"SN-2's\", 'Snarks.', 'socket,', 'Point', 'Sabine', '(acoustic', 'SN-2.', 'saxophone,', 'Red.', 'flashed', 'recognition', 'drop-D', 'trumpet,', \"other's\", 'chromatic,', '*is*', 'Newer', 'Fiddle', 'root', 'NIECE', 'USE.', 'LEFT', 'PURCHASE.', 'wannabes,', 'tuner:1.', '(was', 'peghead', 'ugly,', 'Tap', 'Tempo', 'guitarlele.', 'multicolored', 'daylight.', '3x.', 'testify', 'viewing.', 'subdued', 'SN2', 'past...', 'accurate...', 'Tabletop', 'wind,', 'enough...', 'curly', '28\"', '-->', '10-12', 'POINTS:', 'gap,', '20-foot', 'ipad.', 'id', 'app,', 'websites,', '3Gs,', 'seriously.', 'somthing', 'accurate!', 'plasticy', 'squares', 'jams.', 'SC-1', \"SC-1's\", 'Zoid', 'THREE', \"Tuner's\", 'AD/DA', '(Although', 'threshold.', 'dependent', 'MXL.', '-*', 'functionality,', 'launched', 'USB,', 'justified', 'itself.The', 'potential,', 'calibrated', 'skew', 'it&#8217;s', 'Tank', 'Chameleon', 'ME-6B', \"its'\", 'ZERO', 'markings', 'Star', 'Behringer)', '\"retro\"', 'AIDS', 'wonderful!', 'Zoom.', 'lightly,', 'buck!!!', 'Fuse', 'Dark', 'WOW!!!', 'FUSE', 'Amp!', 'Variety', 'era.', 'told,', 'Bassman,', 'ableton', 'know)', 'switch.If', '\"amp', 'preset,', 'combinations,', 'Champ.', 'effects)', 'blow-out', 'until,', 'modulations,', 'substandard', '100-watt', 'II)', 'recessed', '(standard', '(Marshall', 'return,', 'recreation', 'play.The', 'Modeling', 'Tones.', 'sparkle,', 'translates', 'cabs', 'Nashville', 'amplug', 'Satch', 'amPlug,', '\"niche\"', 'amPlugs', 'discussed', 'equal.', '8.1', 'intermittent.', 'bus,', 'vary,', 'max.', 'unresponsive', 'firm,', 'batterry', 'review?', 'Saw', 'ed', 'readings.', 'disappoint!', 'Placing', 'anolog', '123', 'RA-090', '123,', '$700', '$35', 'inspiring.', 'JF-02', 'Octive', 'youtube.', 'for!!!', 'layed', 'toolbox', 'Sp', 'Hiway', '51,', 'Spec', 'w/p/90', 'BJ,', '30/50.', 'clones\"', 'Chinese-made', 'Distortion\"', '\"clones\"', '\"Ultimate', 'Drive\"', 'original).', 'Fills', 'laser,', 'Galaxian', 'red/green', 'completely,', 'lid,', 'cap,', 'Pleasantly', 'Important', 'erase', 'JoYo', 'remained.', 'days)', 'newly', 'SN-4', 'kick-stand', 'Banjo,', 'omitted', 'whatsoever!', 'ampeg', 'Ampeg,', 'egg', 'here.I', '\"fizz\"', 'cranked.', 'mile.', 'youth', 'intuitive.', 'navigate', 'M3.', 'M3,', 'decribed', \"'fizz'\", 'fizzing', 'it!!!!!!', '11,', 'existed', 'processed.', 'Thing.', 'gems', 'FINAL', 'adopted', 'limits', 'purchased,', 'slot.Or,', 'RC', 'gate,', 'clock', 'assembling', 'nanoKontrol2', 'imagined', 'faders,', 'stop,', 'device.If', 'Protools', 'ardour2', 'Drivers', 'far.I', 'SONAR', 'Shorter', 'delightful', 'Toneprint', 'user-friendly', 'Nova', 'strymon', '2290', 'Meteor', 'Vine', 'theSamson', 'hisses', 'C01UCW', 'LE,', 'suspension', \"Meteor's\", 'quaint', '(It', \"wife's\", 'varied', 'sampler', 'tho.', 'concave', 'listen.', 'go..', 'bi', 'coaster', 'underside,', 'campfire', 'duets', 'guitalele', 'G-C-E-A', 'E-A-D-G-B-E', 'blatantly', 'grant', 'facts', 'toneprint', 'Transparent', 'Grail.I', 'more.Overall', 'Sound&#34;', 'Linear', 'MojoMojo', 'boosts.', 'Beck', 'gtr', 'MOJOMOJO', 'Drive,', 'Tubescreamer.', 'wav', 'allotoday', 'TEST', 'followingtascams...dr', '05,', 'dr', 'mk2,', 'myself,ended', 'nothing...their', 'ears...are....dr', 'toy...NO', 'in...use', 'meetings,', 'etc.NOT', 'music...can', 'good..if', 'mic...u', 'either...HIGH', 'HISS', '3.dr', '07etc', 'etc...only', '05...all', 'same...dr', 'level...be', 'it...in', 'inquite', 'dollars...this', 'too.so,', 'mics...that', 'two...for', 'wantingLINE', 'in...means', '40...however,my', 'seriousLIVE', 'recordings...took', '40...upon', 'CDs...a', 'mstr', 'r24', 'cd,', 'vs...b', 'dr40', 'cd...the', '/no', 'a/d', 'recorder...my', 'tripled', 'least...and', '!no', 'there....for', 'r24,', 'downto', 'finallly', 'recorder....hoping', 'r100', 'r200', 'trick,in', 'come....many', 'thanks,', 'camels', 'humps', '!k', 'void', '(easily', 'sonically', 'TIGHT', 'days?', 'cushioned', '22nd', '(Again,', 'Anyhow', '(love', 'alder', 'mim', 'trem,', 'baseball', 'Beautifully', 'AMAZING!!!', 'rebate', 'Expectations', 'lectures', 'capsules', 'hd', 'discounted', 'Amateur', 'M5', 'Riot,', 'infront', 'button.The', 'detracts', 'anchored', 'EA', 'footswitchable', 'box?', '$40!', 'JF-09', '($40', 'diminish', 'vendors', 'STAR', \"wire's\", 'movements', 'delivered,', 'UNWANTED', 'USING', 'WCP-60G', 'Mainland', '(why', 'headstock!', 'concepts', 'vertically', 'neck.I', 'Switched', 'S1', 'Effective.', 'convince', 'unattached', 'hold?', 'SN-8.', 'Practice,', 'too;', 'SN8', 'SN5', '(finger', 'tighter.', 'display-', 'A-440', 'Accuracy', 'mandolins,', 'violas,', 'SN-8,', 'readable,', 'silly,', 'Snark-2', 'Snark-6', 'uke!', 'displays.', 'SN-6', 'Hola!', '&#34;settle', 'in&#34;.', 'snark.', 'reused', 'extrudes', '&#34;tuning', 'mode&#34;', 'Hola!.Hola!', '&#34;chromatic&#34;,', '&#34;guitar&#34;,', '&#34;bass&#34;', '&#34;ukulele&#34;', 'long-press', 'on/off).', '&#34;Ukulele&#34;', '&#34;chromatic&#34;', 'rotated', '*at', 'all*', 'deal-breaker,', \"Hola!'s\", 'influences', 'easy-to-read', 'gig-worthy', 'shut-off', 'iRiffport', 'iRiffport.', \"iPad's\", '\"prongs\"', 'portrait', 'anchor.', '30-pin', 'preferring', '8-track', 'recorders,', 'mixers,', 'JAM.', '--&#62;', 'iOS', 'JamUp', 'Positive', 'JAM,', 'mid-level', 'iPhone.', 'Power-Grip', 'moly', 'shark', 'metal-on-metal', '\"Easy', 'Ukelele\"', 'listens', 'DVD,', 'settle.', 'stretch.', 'tenor,,', 'level)', 'syndrome.', 'Audacity,', 'details.', 'stand..', 'Artist,', 'physics', 'Position', 'Indicator', 'Measuring', 'tri-corner', 'Technique', 'electrified.', 'electric-acoustic', 'adore', 'Didnt', '.46', 'pack)', 'now.Other', 'THUMB', 'FINGER', 'FELT', \"guitar.I'm\", '&#34;hiss&#34;', 'Pop,', 'Wind', 'shared', 'scratch,', 'yokes', \"Paul's\", 'Hooks', 'nonetheless.', 'charm,', 'spaceship', 'hub)', '\"Audio', 'UFO202', 'burner', 'Googling', 'confusing,', 'guitar/voice', 'mini-mixer', '-6', 'dB0', 'maudio', 'differential', 'BX5', 'woofer,', 'MOTU', 'Ultralite', 'theatre', 'PDF', 'city', 'movies,', 'delicate,', 'Honest', 'cool!', 'ID', 'Med.', '&#34;hear&#34;', 'semi-tones', 'discretely', 'Tiny,', 'Fender-style', 'players:', 'TINY', 'resolution,', 'resolution', 'tune;', 'right-side', 'auto-shutoff', 'octaves.', 'ratcheted', 'Impressive!', 'daylight', 'ha', 'perpendicular', 'paperback', 'Previous', 'Functionally,', 'headstocks,', 'current,', 'to:', 'Enote', 'resonation', 'headpiece', 'capo-tuners', 'oval', 'elliptical', 'half,', 'proprietary', 'guitar-like', 'hexagonal', 'ipad', 'bed.', 'rigid,', \"OD's\", 'joyo.', 'dimed.', 'difference.The', 'bla', 'plexi', 'props', 'harmonically', 'full-stack', 'Ramones', 'Joyo.', 'Scandinavian', 'Crunchbox', '5%', \"Joyo's\", 'fulltone', 'ocd', 'approaching', 'ripoff.', 'OD-3', 'lest', 'own...in', 'case????', 'BONUS.', 'Suhr', 'Riot', 'Harrington,', 'VC5212(Webber', 'speakers)tube', 'Drive.', 'clock,', 'box\"', 'Plexi,', 'Tech21', '12:00', 'net.', 'JF-15', '(\"Joyo', 'Boogie.', \"'o\", '\"Drive\"', '\"always', 'on\"', '\"Voice\"', 'OneSpot.', 'stomped', 'rules.', 'VFE', 'JF-13', 'objective', 'Clipon', 'DR-40', 'thing.And', 'Lite', 'ubuntu', '48v', 'Hopefully,', 'alesis', 'intel', 'realtime', 'kernel', 'jackd', 'xruns', 'Rate:', '(hard)', 'digital-to-analog', '23', 'Suite', 'i/o', 'ago.I', 'crash,', 'cello,', 'pres', 'Item,', 'could)', '1A-SX2S-JTXK', '10-Feet', 'Stainless', 'blamed', 'rainbow', 'calm', 'concerts.', \"could've\", 'wall-board', 'conceived', 'guitar:', 'staircase', 'SN-8!', 'renewed', 'SN-8(B)', 'tuner!!!', 'gradients', 'SN', 'notorious', 'counts', '\"super', 'granular', 'blessing,', 'granularity', 'display.On', 'stall', 'over-tune.', '(Though', 'avoided.)Anyway,', 'represents,', 'pitch\"', 'Subtly', 'preconceived', 'notions', \"used.It's\", 'decayed', 'involved.As', \"concerned...WRONG!I've\", 'Tight,', 'HINT', 'bar.This', 'symmetric!', 'lit.', 'illuminated', 'flat?', '*all*', 'indications', 'sharpness', 'flatness', 'vanish.In', 'yellow.', 'Uhm...no.The', 'TV,', 'price!\"I', 'Tights', 'Kenny', 'Shepherd', 'Tools', 'jersey', 'Aqila', 'value...', 'proficient', 'Harley', '\"Mini', 'framed', 'Daily', 'intent', 'Nut', 'guarded', 'heavy-wood', 'P-90', \"Dean's\", \"p90's\", 'diminishing', 'P90', 'fretwork', 'fretboard).', 'neck).', '10&#34;', '&#34;tube&#34;', '&#34;Blackface&#34;', 'component.', 'full-sounding', 'clean/dirty,', '(metal,', 'here.They', 'nickels.', 'fullbore,', 'guytone', 'pickle,', 'nice....', 'captured.', 'shredders', \"Other's\", 'bight', 'say.However,', 'guess...', ':).', 'lame).', 'cobalt...', 'warm/woman', 'PURE', 'folks!!).', 'pures.Also,', 'across.', 'less.There', 'Sling', 'Cobalt', 'M-Steels', 'Cobalts', 'tune!!', 'AC.', 'Encore', 'hammerhead', 'news:', 'Fire', '7&#34;', 'LIFEPROOF', 'ChargerCity', 'Tablet', 'tablets', 'Riot.', 'Dream.', 'Joyo-', 'Spark', 'Yorozuya', 'Yokoshima', 'Us', 'Boring,', 'you.The', 'sharper,', 'JF-10', 'Compressors', 'touch-up', '@55', 'sought', 'CAPOs', 'JohnJ', '&/or', 'Israel', 'owed', 'S1.', 'tensioner', '1966', '(That', 'tune.So', 'Tri-Action', 'detuning', 'Ned', 'Steinberger', 'tri-action', 'evolved', 'Kaiser', 'kaiser', 'Capos.', 'lifeless,', 'stars...', 'ROS-06', 'capo?', 'one-hand', 'apt.', 'around)', 'Weber', '10A125', 'GE', 'Champ,', '#3:', 'tumble', 'say:', 'guarantees', 'Terror,', 'club,', 'Agent', 'Luv', 'Hall.', 'shakes', 'fairness,', '7$', 'correction.', '12v', 'feature.The', 'octaver', 'TM50BK', 'TM40', 'Timefactor', '500mA', 'isolated,', '9v/12v', '100maOutput', '100MA', 'reference.', 'iTrack', 'multitrack', 'iOS7', 'catalog', 'Blu-Ray', 'LZ', 'Bonham', 'x4', 'wind.', 'luggage,', 'SN-13', 'woodwinds', 'MS50G', 'sown', 'Chromacast', 'advertizes', 'compartments,', 'keeley', 'imho,', 'ATR2100', 'EXL111', '\"Balanced', '\"greater', 'husband,', 'EXL110BT', '\"balanced', 'XLs', 'XLs,', '\"balanced\"', 'no-nonsense,', 'DITTO', 'workout', 'riff,', 'looping.', 'Maggot', 'anther', 'loopers', 'playback,', 'M50s', '5X', 'unwated', '40W', 'DP-008EX', 'DP-03', 'TASCAM', 'software-based', 'MK-II', 'DP-008EX.', 'non-functional', 'trade-offs', 'versa,', 'DP-004', 'DP-004,', 'USB-equipped', 'US-322', '366', 'load,', 'LE6', 'eLicense', 'AI', 'Steinberg', 'iLok', 'hub,', 'choose,', 'discounts', 'ProTools', 'G4', 'cursor', 'clinking', 'selection.', 'dura', \"pickin'\", 'Hola', 'yup.', 'foldable', 'GT-1', 'TH-2000-S', '24-bit', '240', 'EXH', '&#34;familiar&#34;', 'micro-adjusting', 'Artist.', 'iPad/iOS', '96k', 'AD', '(2014)', 'A/D,', '(version', 'strings.-', 'flatwounds', 'FlexSteels', 'Rotosounds', '.085', '.11', \"NYXL's\", 'NYXL', 'NYXLs', 'formulation', '&#8216;broken', '&#8216;new', 'I&#8217;d', 'collaborating', 'picker,', '&#34;HD&#34;', '1970s', 'Gospel', 'D-35', 'strummer,', 'end&#34;']\n"
          ],
          "name": "stdout"
        }
      ]
    },
    {
      "cell_type": "code",
      "metadata": {
        "id": "_T0jI-AhP00Q",
        "colab_type": "code",
        "colab": {
          "base_uri": "https://localhost:8080/",
          "height": 442
        },
        "outputId": "b759320a-ecdc-4d5b-a59a-0d0e8bbe7062"
      },
      "source": [
        "# word embedding specify \n",
        "print(model['product'])"
      ],
      "execution_count": 11,
      "outputs": [
        {
          "output_type": "stream",
          "text": [
            "[-0.72567797 -0.07258378  0.06486934 -1.4165906  -0.59376043 -0.54533523\n",
            " -1.2422066   0.0745732   1.2693793   0.48747656 -0.79385024 -1.3183563\n",
            "  0.68236834  0.7302492  -0.32409018  0.5642163  -0.21450092  0.25278646\n",
            "  1.1994176  -0.56639224 -0.9247094  -1.1669632  -0.15359136  0.7029243\n",
            "  0.16487648  1.0188729   0.03284046  0.14540473 -0.8251565  -1.1987996\n",
            "  1.0331037   1.2302513  -0.14102417 -0.62813115  1.4703873  -0.25799713\n",
            " -0.03715021 -2.3748345   0.5490114  -1.9018321   0.31887966 -1.8795857\n",
            " -0.30401665  0.26423433  1.6782098   1.1369122  -0.20821147  0.94523627\n",
            " -0.051891    0.1950746   1.3259581  -0.7097333   0.1735357  -0.41055152\n",
            "  0.7832278  -1.6833656   0.5533354  -0.53486645  0.7029572  -0.6771257\n",
            "  0.30646676 -0.7684554   1.8795353   0.8197498  -0.01567808  0.2628857\n",
            "  0.09912908  0.46952608 -0.4430097   0.60546374 -0.5675991   0.16579333\n",
            " -1.5485915  -0.81668115  0.4383012   0.80805475  1.7668523  -0.7511212\n",
            "  0.4795635   0.11962099  0.22353299 -0.70523417 -1.5822297   0.23322314\n",
            " -0.01603637 -0.29514268 -0.89404285 -1.2747898  -0.09729888 -0.41576612\n",
            "  0.6568879  -0.17167361  1.1167191   0.57700914 -0.6372564   0.12477548\n",
            "  0.17899801 -2.905086    1.5457189  -1.4201183  -1.8507887   1.1896174\n",
            " -1.5687054  -0.25449955  1.5340841  -0.25121734  0.6578195  -1.0917263\n",
            "  0.7025112   0.18599781  2.3142226  -1.6648624  -1.5999166  -1.4818711\n",
            "  3.4800649   0.15719363  0.6651722   0.7976781  -1.2144417  -0.51391196\n",
            " -0.2282999   0.5055916   0.35597    -1.0583861   1.8710146   0.8998764\n",
            " -0.5216864   1.050468    0.1717201   0.14685403 -0.66232795  0.13211434\n",
            "  0.9305893  -2.5099895   0.73402953 -1.3957379   1.4838063   1.8422143\n",
            "  0.39852655  1.6801825   0.65882605  0.22140945 -0.9750338   1.4703486\n",
            " -0.5861858   2.0761998   1.214594   -0.3145474  -0.8497415  -1.7285807 ]\n"
          ],
          "name": "stdout"
        }
      ]
    },
    {
      "cell_type": "code",
      "metadata": {
        "id": "zrpDRwYQQEj2",
        "colab_type": "code",
        "colab": {}
      },
      "source": [
        "# salve model \n",
        "model.wv.save_word2vec_format('model.bin')"
      ],
      "execution_count": 12,
      "outputs": []
    },
    {
      "cell_type": "code",
      "metadata": {
        "id": "pqtUkGYVSm9g",
        "colab_type": "code",
        "colab": {}
      },
      "source": [
        "new_model = gensim.models.KeyedVectors.load_word2vec_format('model.bin')"
      ],
      "execution_count": 13,
      "outputs": []
    },
    {
      "cell_type": "code",
      "metadata": {
        "id": "pGqNhFWxVL_h",
        "colab_type": "code",
        "colab": {
          "base_uri": "https://localhost:8080/",
          "height": 34
        },
        "outputId": "72c0caa3-7d5b-4c05-eab4-62e862fa62d7"
      },
      "source": [
        "new_model.wv.similarity(w1='product', w2='bad')"
      ],
      "execution_count": 14,
      "outputs": [
        {
          "output_type": "execute_result",
          "data": {
            "text/plain": [
              "0.3222769"
            ]
          },
          "metadata": {
            "tags": []
          },
          "execution_count": 14
        }
      ]
    },
    {
      "cell_type": "code",
      "metadata": {
        "id": "3LI2MF-sQV9Q",
        "colab_type": "code",
        "colab": {}
      },
      "source": [
        "# save in txt\n",
        "model.wv.save_word2vec_format('model.txt', binary=False)"
      ],
      "execution_count": 15,
      "outputs": []
    },
    {
      "cell_type": "code",
      "metadata": {
        "id": "UbWlBDsnV2ht",
        "colab_type": "code",
        "colab": {}
      },
      "source": [
        "# load txt \n",
        "new_model = gensim.models.KeyedVectors.load_word2vec_format('model.txt')"
      ],
      "execution_count": 16,
      "outputs": []
    },
    {
      "cell_type": "markdown",
      "metadata": {
        "id": "Sm59FWcNAIdv",
        "colab_type": "text"
      },
      "source": [
        "<hr>\n",
        "<br>\n",
        "\n",
        "##### <b> Similar context </b> \n",
        "\n",
        "Let´s see the most similar words in each word in our vocabulary\n",
        "\n",
        "* Similarity is calculate across cosine using word vectors (Embeddings) "
      ]
    },
    {
      "cell_type": "code",
      "metadata": {
        "id": "WV5wDlSs15-i",
        "colab_type": "code",
        "colab": {
          "base_uri": "https://localhost:8080/",
          "height": 187
        },
        "outputId": "8a799ac9-4100-4e1c-81af-2bbdb528ac4a"
      },
      "source": [
        "w1 = 'product'\n",
        "model.wv.most_similar(positive=w1)"
      ],
      "execution_count": 17,
      "outputs": [
        {
          "output_type": "execute_result",
          "data": {
            "text/plain": [
              "[('item', 0.8093810081481934),\n",
              " ('product,', 0.7302640080451965),\n",
              " ('product.', 0.6977494359016418),\n",
              " ('item.', 0.6859559416770935),\n",
              " ('seller', 0.6540715098381042),\n",
              " ('extender', 0.6272962689399719),\n",
              " ('company', 0.6166255474090576),\n",
              " ('purchase.', 0.6146968007087708),\n",
              " ('one.', 0.5914859771728516),\n",
              " ('deal.', 0.5881485342979431)]"
            ]
          },
          "metadata": {
            "tags": []
          },
          "execution_count": 17
        }
      ]
    },
    {
      "cell_type": "code",
      "metadata": {
        "id": "twtDiiLJ3nQ9",
        "colab_type": "code",
        "colab": {
          "base_uri": "https://localhost:8080/",
          "height": 187
        },
        "outputId": "0c55ef11-0714-40ee-a8e0-12d497bff196"
      },
      "source": [
        "w1 = 'amazon'\n",
        "model.wv.most_similar(positive=w1)"
      ],
      "execution_count": 18,
      "outputs": [
        {
          "output_type": "execute_result",
          "data": {
            "text/plain": [
              "[('Amazon,', 0.8293683528900146),\n",
              " ('Amazon', 0.8159904479980469),\n",
              " ('Free', 0.7912590503692627),\n",
              " ('$2', 0.7843044996261597),\n",
              " ('sale', 0.7803460359573364),\n",
              " ('Amazon.', 0.7694070339202881),\n",
              " ('$30', 0.758276104927063),\n",
              " ('shipping.', 0.7572162747383118),\n",
              " ('$5', 0.746415913105011),\n",
              " ('$40', 0.7410605549812317)]"
            ]
          },
          "metadata": {
            "tags": []
          },
          "execution_count": 18
        }
      ]
    },
    {
      "cell_type": "code",
      "metadata": {
        "id": "WjMoVKzv_7Pe",
        "colab_type": "code",
        "colab": {
          "base_uri": "https://localhost:8080/",
          "height": 102
        },
        "outputId": "e588e93b-a3b8-4d2a-f60e-79a5e1bc397c"
      },
      "source": [
        "# top 5 \n",
        "w1 = 'music'\n",
        "model.wv.most_similar(positive=w1, topn=5)"
      ],
      "execution_count": 19,
      "outputs": [
        {
          "output_type": "execute_result",
          "data": {
            "text/plain": [
              "[('home', 0.6874479055404663),\n",
              " ('studio.', 0.6353310346603394),\n",
              " ('band', 0.621025025844574),\n",
              " ('local', 0.6190083622932434),\n",
              " ('studio', 0.6159166693687439)]"
            ]
          },
          "metadata": {
            "tags": []
          },
          "execution_count": 19
        }
      ]
    },
    {
      "cell_type": "code",
      "metadata": {
        "id": "vTXqpg5Sg8Qm",
        "colab_type": "code",
        "colab": {
          "base_uri": "https://localhost:8080/",
          "height": 187
        },
        "outputId": "7f890fa5-dfbb-4991-e54f-3659d9c400be"
      },
      "source": [
        "# Positive and Negative \n",
        "model.most_similar(positive=['instrument', 'sound'], negative=['bad'])"
      ],
      "execution_count": 20,
      "outputs": [
        {
          "output_type": "execute_result",
          "data": {
            "text/plain": [
              "[('instrument.', 0.6132300496101379),\n",
              " ('bass', 0.571622371673584),\n",
              " ('taxing', 0.5684571862220764),\n",
              " ('bass,', 0.5519868731498718),\n",
              " ('soundhole.', 0.5377969145774841),\n",
              " ('instruments.', 0.5278424620628357),\n",
              " ('contour', 0.5209226012229919),\n",
              " ('growl', 0.5204681754112244),\n",
              " ('acoustic', 0.5125704407691956),\n",
              " ('playing!', 0.5054688453674316)]"
            ]
          },
          "metadata": {
            "tags": []
          },
          "execution_count": 20
        }
      ]
    },
    {
      "cell_type": "markdown",
      "metadata": {
        "id": "Elpjl8rPA_uw",
        "colab_type": "text"
      },
      "source": [
        "<hr>\n",
        "<br>\n",
        "\n",
        "#### <b> Similarity between words </b>\n",
        "\n",
        "We Gonna Check it similarity between different words \n"
      ]
    },
    {
      "cell_type": "code",
      "metadata": {
        "id": "OtkISoGQBB_H",
        "colab_type": "code",
        "colab": {
          "base_uri": "https://localhost:8080/",
          "height": 34
        },
        "outputId": "20e19ab7-c1fe-45f3-c1b4-9c37c02c3023"
      },
      "source": [
        "w1 = 'product'\n",
        "w2 = 'good'\n",
        "model.wv.similarity(w1=w1, w2=w2)"
      ],
      "execution_count": 21,
      "outputs": [
        {
          "output_type": "execute_result",
          "data": {
            "text/plain": [
              "0.22747348"
            ]
          },
          "metadata": {
            "tags": []
          },
          "execution_count": 21
        }
      ]
    },
    {
      "cell_type": "code",
      "metadata": {
        "id": "QZ7Mp6daBtAQ",
        "colab_type": "code",
        "colab": {
          "base_uri": "https://localhost:8080/",
          "height": 34
        },
        "outputId": "686ef288-20d1-4f5d-860f-df35826cfe62"
      },
      "source": [
        "w1='studio'\n",
        "w2='best'\n",
        "model.wv.similarity(w1,w2)"
      ],
      "execution_count": 22,
      "outputs": [
        {
          "output_type": "execute_result",
          "data": {
            "text/plain": [
              "0.024785964"
            ]
          },
          "metadata": {
            "tags": []
          },
          "execution_count": 22
        }
      ]
    },
    {
      "cell_type": "code",
      "metadata": {
        "id": "Hqpnaep1B2Iy",
        "colab_type": "code",
        "colab": {
          "base_uri": "https://localhost:8080/",
          "height": 34
        },
        "outputId": "8c870ab5-bdec-43c1-9f76-2be0fe1ef0f8"
      },
      "source": [
        "w1='money'\n",
        "w2='item'\n",
        "model.wv.similarity(w1,w2)"
      ],
      "execution_count": 23,
      "outputs": [
        {
          "output_type": "execute_result",
          "data": {
            "text/plain": [
              "0.4136492"
            ]
          },
          "metadata": {
            "tags": []
          },
          "execution_count": 23
        }
      ]
    },
    {
      "cell_type": "code",
      "metadata": {
        "id": "caFoQ4Y3CCXf",
        "colab_type": "code",
        "colab": {
          "base_uri": "https://localhost:8080/",
          "height": 34
        },
        "outputId": "bcd3ebe4-cce1-4ed1-fe76-3501cf0a93ce"
      },
      "source": [
        "w1='price'\n",
        "w2='good'\n",
        "model.wv.similarity(w1,w2)"
      ],
      "execution_count": 24,
      "outputs": [
        {
          "output_type": "execute_result",
          "data": {
            "text/plain": [
              "0.29567206"
            ]
          },
          "metadata": {
            "tags": []
          },
          "execution_count": 24
        }
      ]
    },
    {
      "cell_type": "markdown",
      "metadata": {
        "id": "XPqHZ2WKKBAU",
        "colab_type": "text"
      },
      "source": [
        "<br>\n",
        "<hr>"
      ]
    },
    {
      "cell_type": "markdown",
      "metadata": {
        "id": "Z878CBPDd0PF",
        "colab_type": "text"
      },
      "source": [
        "#### Visualize Word Vectors \n",
        "\n",
        "We can create a 2-dimensional PCA model of the word vectors using the scikit-learn PCA\n",
        "\n",
        "<br>"
      ]
    },
    {
      "cell_type": "code",
      "metadata": {
        "id": "64CFsEAKevo-",
        "colab_type": "code",
        "colab": {}
      },
      "source": [
        "class GensimWord2vecPlotter(object):\n",
        "\n",
        "    __slots__ = [\"model\", \"words\", \"result\", \"_tem\"]\n",
        "\n",
        "    def __init__(self, model):\n",
        "        self.model = model\n",
        "        self.words = None\n",
        "        self.result = None\n",
        "        self._tem = self.preprocess()\n",
        "\n",
        "    def plot_scatter_words(self, Size=80):\n",
        "        SIZE = Size\n",
        "        words = self.words\n",
        "        result = self.result\n",
        "\n",
        "        for i, word in enumerate(words):\n",
        "            if i == SIZE:\n",
        "                break\n",
        "            \n",
        "            plt.annotate(word,\n",
        "                         xy=(result[i, 0], result[i, 1]),\n",
        "                         horizontalalignment='left',verticalalignment='bottom')\n",
        "\n",
        "        plt.scatter(result[:SIZE, 0], result[:SIZE, 1],s=(40,))\n",
        "        plt.title(\"Word Vectors\")\n",
        "        plt.grid(True, alpha=1)\n",
        "        plt.legend()\n",
        "        plt.grid(False)\n",
        "        plt.show()\n",
        "\n",
        "\n",
        "    def preprocess(self):\n",
        "        \"\"\"\n",
        "        Pre Processing sets all the variable in constructor\n",
        "        :return: None\n",
        "        \"\"\"\n",
        "        model = self.model\n",
        "        X = model[model.wv.vocab]\n",
        "        pca = PCA(n_components=2)\n",
        "        result = pca.fit_transform(X)\n",
        "        words = list(model.wv.vocab)\n",
        "        self.words = words\n",
        "        self.result = result\n",
        "\n",
        "    def getPandasDF(self):\n",
        "        result = self.result\n",
        "        words = self.words\n",
        "        \n",
        "        x = [result[i, 0]  for i, word in enumerate(words)  ]\n",
        "        y = [result[i, 1]  for i, word in enumerate(words)  ]\n",
        "\n",
        "        wordsdf = pd.DataFrame(data={\n",
        "            \"words\":words,\n",
        "            \"x\":x,\n",
        "            \"y\":y\n",
        "        })\n",
        "        \n",
        "        return wordsdf\n",
        "\n",
        "\n",
        "    def plot_catter(self):\n",
        "\n",
        "        model = self.model\n",
        "        X = model[model.wv.vocab]\n",
        "        result = self.result\n",
        "        words = self.words\n",
        "\n",
        "        x = [result[i, 0]  for i, word in enumerate(words)  ]\n",
        "        y = [result[i, 1]  for i, word in enumerate(words)  ]\n",
        "\n",
        "        wordsdf = pd.DataFrame(data={\n",
        "            \"words\":words,\n",
        "            \"x\":x,\n",
        "            \"y\":y\n",
        "        })\n",
        "        wordsdf.plot.scatter(\"x\", \"y\", s=10, figsize=(20, 12))"
      ],
      "execution_count": 25,
      "outputs": []
    },
    {
      "cell_type": "code",
      "metadata": {
        "id": "YHKN00M5lIDV",
        "colab_type": "code",
        "colab": {}
      },
      "source": [
        "visualize = GensimWord2vecPlotter(model=model)"
      ],
      "execution_count": 26,
      "outputs": []
    },
    {
      "cell_type": "code",
      "metadata": {
        "id": "7QhKR-FylQvR",
        "colab_type": "code",
        "colab": {
          "base_uri": "https://localhost:8080/",
          "height": 407
        },
        "outputId": "fa4f3928-a41a-4e0f-898b-18b357635d11"
      },
      "source": [
        "plt.figure(figsize=(14,6))\n",
        "visualize.plot_scatter_words(Size=100)"
      ],
      "execution_count": 27,
      "outputs": [
        {
          "output_type": "stream",
          "text": [
            "No handles with labels found to put in legend.\n"
          ],
          "name": "stderr"
        },
        {
          "output_type": "display_data",
          "data": {
            "image/png": "[encoded data removed]",
            "text/plain": [
              "<Figure size 1008x432 with 1 Axes>"
            ]
          },
          "metadata": {
            "tags": [],
            "needs_background": "light"
          }
        }
      ]
    },
    {
      "cell_type": "markdown",
      "metadata": {
        "id": "Cg25t5Fbnt-Y",
        "colab_type": "text"
      },
      "source": [
        "<hr>\n",
        "<br>\n",
        "\n",
        "#### Pre-Trained Word2Vec \n",
        "\n",
        "A pre-trained model is nothing more than a file containing tokens and their associated word vectors. The pre-trained Google word2vec model was trained on Google news data (about 100 billion words); it contains 3 million words and phrases and was fit using 300-dimensional word vectors.\n",
        "\n",
        "<br>"
      ]
    },
    {
      "cell_type": "code",
      "metadata": {
        "id": "pG4mn538u36y",
        "colab_type": "code",
        "colab": {}
      },
      "source": [
        "#!wget -c \"https://s3.amazonaws.com/dl4j-distribution/GoogleNews-vectors-negative300.bin.gz\""
      ],
      "execution_count": 28,
      "outputs": []
    },
    {
      "cell_type": "code",
      "metadata": {
        "id": "58DI2DrQxKjl",
        "colab_type": "code",
        "colab": {
          "base_uri": "https://localhost:8080/",
          "height": 34
        },
        "outputId": "8bfb8013-c2e5-42c6-c7b3-95b27f63996c"
      },
      "source": [
        "# Google Word2Vec \n",
        "model = api.load('word2vec-google-news-300')"
      ],
      "execution_count": 29,
      "outputs": [
        {
          "output_type": "stream",
          "text": [
            "[=================================================-] 98.5% 1637.4/1662.8MB downloaded\n"
          ],
          "name": "stdout"
        }
      ]
    },
    {
      "cell_type": "code",
      "metadata": {
        "id": "177EvTPOz12n",
        "colab_type": "code",
        "colab": {
          "base_uri": "https://localhost:8080/",
          "height": 34
        },
        "outputId": "cd085e90-5ee8-421f-c5e6-45601743fdae"
      },
      "source": [
        "result = model.most_similar(positive=['woman', 'king'], negative=['man'], topn=1)\n",
        "print(result)"
      ],
      "execution_count": 30,
      "outputs": [
        {
          "output_type": "stream",
          "text": [
            "[('queen', 0.7118192911148071)]\n"
          ],
          "name": "stdout"
        }
      ]
    },
    {
      "cell_type": "markdown",
      "metadata": {
        "id": "KqkX0mijGyXJ",
        "colab_type": "text"
      },
      "source": [
        "<hr>\n",
        "<br>\n",
        "\n",
        "\n",
        "#### Glove with Gensim \n",
        "\n",
        "\n",
        "* convert from glove file to word2vec "
      ]
    },
    {
      "cell_type": "code",
      "metadata": {
        "id": "8UhSHPNzHTOL",
        "colab_type": "code",
        "colab": {
          "base_uri": "https://localhost:8080/",
          "height": 442
        },
        "outputId": "e82fd957-decc-4ad9-8afa-7d5d9f3617ee"
      },
      "source": [
        "!wget http://nlp.stanford.edu/data/glove.6B.zip\n",
        "!unzip glove.6B.zip"
      ],
      "execution_count": 31,
      "outputs": [
        {
          "output_type": "stream",
          "text": [
            "--2020-09-17 18:34:41--  http://nlp.stanford.edu/data/glove.6B.zip\n",
            "Resolving nlp.stanford.edu (nlp.stanford.edu)... 171.64.67.140\n",
            "Connecting to nlp.stanford.edu (nlp.stanford.edu)|171.64.67.140|:80... connected.\n",
            "HTTP request sent, awaiting response... 302 Found\n",
            "Location: https://nlp.stanford.edu/data/glove.6B.zip [following]\n",
            "--2020-09-17 18:34:41--  https://nlp.stanford.edu/data/glove.6B.zip\n",
            "Connecting to nlp.stanford.edu (nlp.stanford.edu)|171.64.67.140|:443... connected.\n",
            "HTTP request sent, awaiting response... 301 Moved Permanently\n",
            "Location: http://downloads.cs.stanford.edu/nlp/data/glove.6B.zip [following]\n",
            "--2020-09-17 18:34:41--  http://downloads.cs.stanford.edu/nlp/data/glove.6B.zip\n",
            "Resolving downloads.cs.stanford.edu (downloads.cs.stanford.edu)... 171.64.64.22\n",
            "Connecting to downloads.cs.stanford.edu (downloads.cs.stanford.edu)|171.64.64.22|:80... connected.\n",
            "HTTP request sent, awaiting response... 200 OK\n",
            "Length: 862182613 (822M) [application/zip]\n",
            "Saving to: ‘glove.6B.zip’\n",
            "\n",
            "glove.6B.zip        100%[===================>] 822.24M  2.08MB/s    in 6m 29s  \n",
            "\n",
            "2020-09-17 18:41:10 (2.12 MB/s) - ‘glove.6B.zip’ saved [862182613/862182613]\n",
            "\n",
            "Archive:  glove.6B.zip\n",
            "  inflating: glove.6B.50d.txt        \n",
            "  inflating: glove.6B.100d.txt       \n",
            "  inflating: glove.6B.200d.txt       \n",
            "  inflating: glove.6B.300d.txt       \n"
          ],
          "name": "stdout"
        }
      ]
    },
    {
      "cell_type": "code",
      "metadata": {
        "id": "2Vj-K-RQG2g-",
        "colab_type": "code",
        "colab": {
          "base_uri": "https://localhost:8080/",
          "height": 34
        },
        "outputId": "87936d85-551f-47dd-fee4-36b552f6b2b0"
      },
      "source": [
        "from gensim.scripts.glove2word2vec import glove2word2vec\n",
        "\n",
        "glove_input_file = 'glove.6B.300d.txt'\n",
        "word2vec_output_file = 'glove.6B.300d.txt.word2vec'\n",
        "\n",
        "# convert \n",
        "glove2word2vec(glove_input_file, word2vec_output_file)"
      ],
      "execution_count": 32,
      "outputs": [
        {
          "output_type": "execute_result",
          "data": {
            "text/plain": [
              "(400000, 300)"
            ]
          },
          "metadata": {
            "tags": []
          },
          "execution_count": 32
        }
      ]
    },
    {
      "cell_type": "code",
      "metadata": {
        "id": "LxKeWHVIILEz",
        "colab_type": "code",
        "colab": {
          "base_uri": "https://localhost:8080/",
          "height": 34
        },
        "outputId": "f2b3c918-713f-478f-f519-5adcaac27f27"
      },
      "source": [
        "# using glove \n",
        "filename = 'glove.6B.300d.txt.word2vec'\n",
        "\n",
        "model = KeyedVectors.load_word2vec_format(filename, binary=False)\n",
        "result = model.most_similar(positive=['woman', 'king'], negative=['man'], topn=1)\n",
        "print(result)"
      ],
      "execution_count": 33,
      "outputs": [
        {
          "output_type": "stream",
          "text": [
            "[('queen', 0.6713277101516724)]\n"
          ],
          "name": "stdout"
        }
      ]
    },
    {
      "cell_type": "markdown",
      "metadata": {
        "id": "7oIxfrTwLwKR",
        "colab_type": "text"
      },
      "source": [
        "<hr>\n",
        "<br>\n",
        "<br>\n",
        "<hr>\n",
        "<br>\n",
        "\n",
        "### Word2vec Embedding + LSTM "
      ]
    },
    {
      "cell_type": "code",
      "metadata": {
        "id": "TkPhf43OLnv7",
        "colab_type": "code",
        "colab": {
          "base_uri": "https://localhost:8080/",
          "height": 119
        },
        "outputId": "efc1aac5-5471-478d-8411-2eb69d936f20"
      },
      "source": [
        "import os \n",
        "import re\n",
        "import string\n",
        "import random \n",
        "import time \n",
        "import numpy as np\n",
        "import pandas as pd \n",
        "import matplotlib.pyplot as plt \n",
        "import seaborn as sns \n",
        "\n",
        "%matplotlib inline \n",
        "import warnings\n",
        "warnings.filterwarnings('ignore')\n",
        "\n",
        "\n",
        "import nltk\n",
        "nltk.download('punkt')\n",
        "nltk.download('wordnet')\n",
        "nltk.download('stopwords')\n",
        "\n",
        "from nltk.corpus import stopwords\n",
        "from nltk.stem.porter import PorterStemmer\n",
        "from nltk.stem import SnowballStemmer\n",
        "from nltk.stem.wordnet import WordNetLemmatizer\n",
        "from nltk.tokenize import word_tokenize\n",
        "from nltk.tokenize import sent_tokenize\n",
        "from wordcloud import WordCloud\n",
        "\n",
        "from sklearn.model_selection import train_test_split\n",
        "from sklearn.metrics import classification_report\n",
        "from sklearn.preprocessing import LabelEncoder\n",
        "\n",
        "import tensorflow as tf \n",
        "from tensorflow import keras \n",
        "from tensorflow.keras.models import Sequential\n",
        "from tensorflow.keras.preprocessing.text import Tokenizer\n",
        "from tensorflow.keras.preprocessing.sequence import pad_sequences\n",
        "from tensorflow.keras.optimizers import Adam\n",
        "from tensorflow.keras.losses import BinaryCrossentropy\n",
        "from tensorflow.keras.layers import Flatten, Embedding, Dropout\n",
        "from tensorflow.keras.layers import Conv1D, SpatialDropout1D\n",
        "from tensorflow.keras.layers import Dense, Input \n",
        "from tensorflow.keras.layers import GlobalMaxPooling2D, GlobalAveragePooling1D\n",
        "from tensorflow.keras.layers import LSTM, Dropout, GRU, Bidirectional"
      ],
      "execution_count": 34,
      "outputs": [
        {
          "output_type": "stream",
          "text": [
            "[nltk_data] Downloading package punkt to /root/nltk_data...\n",
            "[nltk_data]   Package punkt is already up-to-date!\n",
            "[nltk_data] Downloading package wordnet to /root/nltk_data...\n",
            "[nltk_data]   Package wordnet is already up-to-date!\n",
            "[nltk_data] Downloading package stopwords to /root/nltk_data...\n",
            "[nltk_data]   Package stopwords is already up-to-date!\n"
          ],
          "name": "stdout"
        }
      ]
    },
    {
      "cell_type": "code",
      "metadata": {
        "id": "A8jBA1rLG6Q9",
        "colab_type": "code",
        "colab": {}
      },
      "source": [
        "path = '/content/drive/My Drive/Deep Learning - Projetos/Classificação de Texto - Twitter /training.1600000.processed.noemoticon.csv'\n",
        "data = pd.read_csv(path, encoding='latin', header=None)"
      ],
      "execution_count": 35,
      "outputs": []
    },
    {
      "cell_type": "code",
      "metadata": {
        "id": "9CNfjNv9LuGA",
        "colab_type": "code",
        "colab": {
          "base_uri": "https://localhost:8080/",
          "height": 289
        },
        "outputId": "1b48b474-01a4-4a09-f112-fca2b2b2ba24"
      },
      "source": [
        "data.columns = ['sentiment', 'id', 'date', 'query', 'user_id', 'text']\n",
        "data.head()"
      ],
      "execution_count": 36,
      "outputs": [
        {
          "output_type": "execute_result",
          "data": {
            "text/html": [
              "<div>\n",
              "<style scoped>\n",
              "    .dataframe tbody tr th:only-of-type {\n",
              "        vertical-align: middle;\n",
              "    }\n",
              "\n",
              "    .dataframe tbody tr th {\n",
              "        vertical-align: top;\n",
              "    }\n",
              "\n",
              "    .dataframe thead th {\n",
              "        text-align: right;\n",
              "    }\n",
              "</style>\n",
              "<table border=\"1\" class=\"dataframe\">\n",
              "  <thead>\n",
              "    <tr style=\"text-align: right;\">\n",
              "      <th></th>\n",
              "      <th>sentiment</th>\n",
              "      <th>id</th>\n",
              "      <th>date</th>\n",
              "      <th>query</th>\n",
              "      <th>user_id</th>\n",
              "      <th>text</th>\n",
              "    </tr>\n",
              "  </thead>\n",
              "  <tbody>\n",
              "    <tr>\n",
              "      <th>0</th>\n",
              "      <td>0</td>\n",
              "      <td>1467810369</td>\n",
              "      <td>Mon Apr 06 22:19:45 PDT 2009</td>\n",
              "      <td>NO_QUERY</td>\n",
              "      <td>_TheSpecialOne_</td>\n",
              "      <td>@switchfoot http://twitpic.com/2y1zl - Awww, t...</td>\n",
              "    </tr>\n",
              "    <tr>\n",
              "      <th>1</th>\n",
              "      <td>0</td>\n",
              "      <td>1467810672</td>\n",
              "      <td>Mon Apr 06 22:19:49 PDT 2009</td>\n",
              "      <td>NO_QUERY</td>\n",
              "      <td>scotthamilton</td>\n",
              "      <td>is upset that he can't update his Facebook by ...</td>\n",
              "    </tr>\n",
              "    <tr>\n",
              "      <th>2</th>\n",
              "      <td>0</td>\n",
              "      <td>1467810917</td>\n",
              "      <td>Mon Apr 06 22:19:53 PDT 2009</td>\n",
              "      <td>NO_QUERY</td>\n",
              "      <td>mattycus</td>\n",
              "      <td>@Kenichan I dived many times for the ball. Man...</td>\n",
              "    </tr>\n",
              "    <tr>\n",
              "      <th>3</th>\n",
              "      <td>0</td>\n",
              "      <td>1467811184</td>\n",
              "      <td>Mon Apr 06 22:19:57 PDT 2009</td>\n",
              "      <td>NO_QUERY</td>\n",
              "      <td>ElleCTF</td>\n",
              "      <td>my whole body feels itchy and like its on fire</td>\n",
              "    </tr>\n",
              "    <tr>\n",
              "      <th>4</th>\n",
              "      <td>0</td>\n",
              "      <td>1467811193</td>\n",
              "      <td>Mon Apr 06 22:19:57 PDT 2009</td>\n",
              "      <td>NO_QUERY</td>\n",
              "      <td>Karoli</td>\n",
              "      <td>@nationwideclass no, it's not behaving at all....</td>\n",
              "    </tr>\n",
              "  </tbody>\n",
              "</table>\n",
              "</div>"
            ],
            "text/plain": [
              "   sentiment  ...                                               text\n",
              "0          0  ...  @switchfoot http://twitpic.com/2y1zl - Awww, t...\n",
              "1          0  ...  is upset that he can't update his Facebook by ...\n",
              "2          0  ...  @Kenichan I dived many times for the ball. Man...\n",
              "3          0  ...    my whole body feels itchy and like its on fire \n",
              "4          0  ...  @nationwideclass no, it's not behaving at all....\n",
              "\n",
              "[5 rows x 6 columns]"
            ]
          },
          "metadata": {
            "tags": []
          },
          "execution_count": 36
        }
      ]
    },
    {
      "cell_type": "code",
      "metadata": {
        "id": "B7urm56fL5-M",
        "colab_type": "code",
        "colab": {}
      },
      "source": [
        "data.drop(['id', 'date', 'query', 'user_id'], axis=1, inplace=True)"
      ],
      "execution_count": 37,
      "outputs": []
    },
    {
      "cell_type": "code",
      "metadata": {
        "id": "0yiREYL1L8Nq",
        "colab_type": "code",
        "colab": {}
      },
      "source": [
        "stop_words = stopwords.words('english')\n",
        "stemmer = SnowballStemmer('english')"
      ],
      "execution_count": 38,
      "outputs": []
    },
    {
      "cell_type": "code",
      "metadata": {
        "id": "bf-GCrqAL-EN",
        "colab_type": "code",
        "colab": {}
      },
      "source": [
        "text_cleaning_re = \"@\\S+|https?:\\S+|http?:\\S|[^A-Za-z0-9]+\"\n",
        "\n",
        "\n",
        "def preprocess(text, stem=False):\n",
        "  text = re.sub(text_cleaning_re, ' ', str(text).lower()).strip()\n",
        "  tokens = []\n",
        "  for token in text.split():\n",
        "    if token not in stop_words:\n",
        "      if stem:\n",
        "        tokens.append(stemmer.stem(token))\n",
        "      else: \n",
        "        tokens.append(token)\n",
        "  return \" \".join(tokens)"
      ],
      "execution_count": 39,
      "outputs": []
    },
    {
      "cell_type": "code",
      "metadata": {
        "id": "iJKoMsCgMAgI",
        "colab_type": "code",
        "colab": {}
      },
      "source": [
        "data['text'] = data['text'].apply(lambda x: preprocess(x, stem=False))"
      ],
      "execution_count": 40,
      "outputs": []
    },
    {
      "cell_type": "code",
      "metadata": {
        "id": "z7jFeWzOMDFU",
        "colab_type": "code",
        "colab": {
          "base_uri": "https://localhost:8080/",
          "height": 51
        },
        "outputId": "929f86f2-482b-4644-b171-15633ff66a77"
      },
      "source": [
        "X = data['text']\n",
        "y = data['sentiment']\n",
        "\n",
        "\n",
        "X_train, X_test, y_train, y_test = train_test_split(X,y, test_size=0.30, random_state=42)\n",
        "\n",
        "\n",
        "encoder = LabelEncoder()\n",
        "y_train = encoder.fit_transform(y_train)\n",
        "y_test = encoder.fit_transform(y_test)\n",
        "\n",
        "print('Train: {}'.format(X_train.shape))\n",
        "print('Teste: {}'.format(X_test.shape))"
      ],
      "execution_count": 41,
      "outputs": [
        {
          "output_type": "stream",
          "text": [
            "Train: (1120000,)\n",
            "Teste: (480000,)\n"
          ],
          "name": "stdout"
        }
      ]
    },
    {
      "cell_type": "code",
      "metadata": {
        "id": "YfInEZ9uMD0l",
        "colab_type": "code",
        "colab": {
          "base_uri": "https://localhost:8080/",
          "height": 34
        },
        "outputId": "0c51605c-6993-4618-f0e8-6c61f2637b77"
      },
      "source": [
        "tokenizer = Tokenizer()\n",
        "tokenizer.fit_on_texts(X_train)\n",
        "\n",
        "# Índice de palavras \n",
        "word_index = tokenizer.word_index\n",
        "vocab_size = len(word_index) + 1\n",
        "print('Vocabulary size: {}'.format(vocab_size))"
      ],
      "execution_count": 42,
      "outputs": [
        {
          "output_type": "stream",
          "text": [
            "Vocabulary size: 266578\n"
          ],
          "name": "stdout"
        }
      ]
    },
    {
      "cell_type": "code",
      "metadata": {
        "id": "lUh2E6_aMD4F",
        "colab_type": "code",
        "colab": {
          "base_uri": "https://localhost:8080/",
          "height": 51
        },
        "outputId": "65913fd5-899a-43ab-e92a-3497536de96b"
      },
      "source": [
        "max_sequence_length = 50 \n",
        "\n",
        "sequences_train = tokenizer.texts_to_sequences(X_train)\n",
        "sequences_test = tokenizer.texts_to_sequences(X_test)\n",
        "\n",
        "X_train = pad_sequences(sequences_train, maxlen=max_sequence_length, padding='post')\n",
        "X_test = pad_sequences(sequences_test, maxlen=max_sequence_length, padding='post')\n",
        "\n",
        "\n",
        "print('Maior Sequência: {}'.format(len(max(data.text))))\n",
        "print('Sequência definida: {}'.format(max_sequence_length))"
      ],
      "execution_count": 43,
      "outputs": [
        {
          "output_type": "stream",
          "text": [
            "Maior Sequência: 58\n",
            "Sequência definida: 50\n"
          ],
          "name": "stdout"
        }
      ]
    },
    {
      "cell_type": "code",
      "metadata": {
        "id": "SI3GwX-mSfNS",
        "colab_type": "code",
        "colab": {}
      },
      "source": [
        "EMBEDDING_DIM = 300\n",
        "vocab_size = 266578"
      ],
      "execution_count": 44,
      "outputs": []
    },
    {
      "cell_type": "code",
      "metadata": {
        "id": "Lj6uf-MZMhxC",
        "colab_type": "code",
        "colab": {
          "base_uri": "https://localhost:8080/",
          "height": 51
        },
        "outputId": "018703d9-9d3d-41af-d90f-b13c058526fa"
      },
      "source": [
        "# Word2vec \n",
        "%%time \n",
        "\n",
        "# Corpus \n",
        "document = data['text']\n",
        "corpus = []\n",
        "for word in document:\n",
        "  corpus.append(word.split())\n",
        "\n",
        "word2vec_embedding = Word2Vec(sentences=corpus, size=300, window=5, min_count=2, iter=10, sg=1, seed=42)"
      ],
      "execution_count": 45,
      "outputs": [
        {
          "output_type": "stream",
          "text": [
            "CPU times: user 21min 14s, sys: 2.26 s, total: 21min 17s\n",
            "Wall time: 11min 5s\n"
          ],
          "name": "stdout"
        }
      ]
    },
    {
      "cell_type": "code",
      "metadata": {
        "id": "C6BVjW0eR9qw",
        "colab_type": "code",
        "colab": {}
      },
      "source": [
        "word2vec_embedding.wv.save_word2vec_format('model.bin')"
      ],
      "execution_count": 46,
      "outputs": []
    },
    {
      "cell_type": "code",
      "metadata": {
        "id": "lLvJ5pniR4SW",
        "colab_type": "code",
        "colab": {
          "base_uri": "https://localhost:8080/",
          "height": 34
        },
        "outputId": "e2fcb0a0-2601-4e44-f6f9-f0aa98a875d2"
      },
      "source": [
        "embeddings_index = {}\n",
        "\n",
        "f = open('model.bin')\n",
        "\n",
        "for line in f:\n",
        "    values = line.split()\n",
        "    word = values[0]\n",
        "    coefs = np.asarray(values[1:], dtype='float32')\n",
        "    embeddings_index[word] = coefs\n",
        "f.close()\n",
        "\n",
        "print('Find {} Word vectors.'.format(len(embeddings_index)))"
      ],
      "execution_count": 47,
      "outputs": [
        {
          "output_type": "stream",
          "text": [
            "Find 121463 Word vectors.\n"
          ],
          "name": "stdout"
        }
      ]
    },
    {
      "cell_type": "code",
      "metadata": {
        "id": "Y0lAK5T1SWfv",
        "colab_type": "code",
        "colab": {}
      },
      "source": [
        "embedding_matrix = np.zeros((vocab_size, EMBEDDING_DIM))\n",
        "\n",
        "for word, i in word_index.items():\n",
        "  embedding_vector = embeddings_index.get(word)\n",
        "  if embedding_vector is not None:\n",
        "    embedding_matrix[i] = embedding_vector"
      ],
      "execution_count": 48,
      "outputs": []
    },
    {
      "cell_type": "code",
      "metadata": {
        "id": "UZdgqyTxMJn0",
        "colab_type": "code",
        "colab": {}
      },
      "source": [
        "word2vec_layer = Embedding(input_dim=vocab_size,\n",
        "                           output_dim=EMBEDDING_DIM,\n",
        "                           input_length=max_sequence_length,\n",
        "                           weights=[embedding_matrix],\n",
        "                           trainable=False)"
      ],
      "execution_count": 49,
      "outputs": []
    },
    {
      "cell_type": "code",
      "metadata": {
        "id": "Fl-fbERTNK2s",
        "colab_type": "code",
        "colab": {
          "base_uri": "https://localhost:8080/",
          "height": 428
        },
        "outputId": "f9563a99-a7bb-40f0-a43f-f103d0a5ab1a"
      },
      "source": [
        "# LSTM with Word2Vec \n",
        "\n",
        "model = Sequential()\n",
        "model.add(Input(shape=max_sequence_length))\n",
        "model.add(word2vec_layer) # Word2Vec \n",
        "model.add(SpatialDropout1D(0.20))\n",
        "model.add(LSTM(units=128, recurrent_dropout=0.20))\n",
        "model.add(Dense(units=512, activation='relu'))\n",
        "model.add(Dropout(0.20))\n",
        "model.add(Dense(units=512, activation='relu'))\n",
        "model.add(Dense(units=1, activation='sigmoid'))\n",
        "\n",
        "model.summary()"
      ],
      "execution_count": 50,
      "outputs": [
        {
          "output_type": "stream",
          "text": [
            "WARNING:tensorflow:Layer lstm will not use cuDNN kernel since it doesn't meet the cuDNN kernel criteria. It will use generic GPU kernel as fallback when running on GPU\n",
            "Model: \"sequential\"\n",
            "_________________________________________________________________\n",
            "Layer (type)                 Output Shape              Param #   \n",
            "=================================================================\n",
            "embedding (Embedding)        (None, 50, 300)           79973400  \n",
            "_________________________________________________________________\n",
            "spatial_dropout1d (SpatialDr (None, 50, 300)           0         \n",
            "_________________________________________________________________\n",
            "lstm (LSTM)                  (None, 128)               219648    \n",
            "_________________________________________________________________\n",
            "dense (Dense)                (None, 512)               66048     \n",
            "_________________________________________________________________\n",
            "dropout (Dropout)            (None, 512)               0         \n",
            "_________________________________________________________________\n",
            "dense_1 (Dense)              (None, 512)               262656    \n",
            "_________________________________________________________________\n",
            "dense_2 (Dense)              (None, 1)                 513       \n",
            "=================================================================\n",
            "Total params: 80,522,265\n",
            "Trainable params: 548,865\n",
            "Non-trainable params: 79,973,400\n",
            "_________________________________________________________________\n"
          ],
          "name": "stdout"
        }
      ]
    },
    {
      "cell_type": "code",
      "metadata": {
        "id": "ASDbTlrgRLgL",
        "colab_type": "code",
        "colab": {
          "base_uri": "https://localhost:8080/",
          "height": 411
        },
        "outputId": "9f13b48a-a55b-460d-a431-b224ec158f67"
      },
      "source": [
        "\n",
        "%%time\n",
        "\n",
        "\n",
        "model.compile(optimizer=Adam(0.001),\n",
        "              loss=BinaryCrossentropy(),\n",
        "              metrics=['accuracy'])\n",
        "\n",
        "\n",
        "history = model.fit(X_train, y_train,\n",
        "                    batch_size=1024,\n",
        "                    epochs=10,\n",
        "                    validation_data=(X_test, y_test))"
      ],
      "execution_count": 51,
      "outputs": [
        {
          "output_type": "stream",
          "text": [
            "Epoch 1/10\n",
            "1094/1094 [==============================] - 197s 180ms/step - loss: 0.5032 - accuracy: 0.7511 - val_loss: 0.4792 - val_accuracy: 0.7686\n",
            "Epoch 2/10\n",
            "1094/1094 [==============================] - 197s 180ms/step - loss: 0.4697 - accuracy: 0.7754 - val_loss: 0.4530 - val_accuracy: 0.7844\n",
            "Epoch 3/10\n",
            "1094/1094 [==============================] - 199s 181ms/step - loss: 0.4586 - accuracy: 0.7820 - val_loss: 0.4477 - val_accuracy: 0.7901\n",
            "Epoch 4/10\n",
            "1094/1094 [==============================] - 197s 180ms/step - loss: 0.4514 - accuracy: 0.7861 - val_loss: 0.4392 - val_accuracy: 0.7915\n",
            "Epoch 5/10\n",
            "1094/1094 [==============================] - 199s 182ms/step - loss: 0.4465 - accuracy: 0.7892 - val_loss: 0.4373 - val_accuracy: 0.7948\n",
            "Epoch 6/10\n",
            "1094/1094 [==============================] - 197s 180ms/step - loss: 0.4414 - accuracy: 0.7920 - val_loss: 0.4347 - val_accuracy: 0.7950\n",
            "Epoch 7/10\n",
            "1094/1094 [==============================] - 197s 181ms/step - loss: 0.4380 - accuracy: 0.7939 - val_loss: 0.4350 - val_accuracy: 0.7956\n",
            "Epoch 8/10\n",
            "1094/1094 [==============================] - 197s 180ms/step - loss: 0.4346 - accuracy: 0.7955 - val_loss: 0.4308 - val_accuracy: 0.7954\n",
            "Epoch 9/10\n",
            "1094/1094 [==============================] - 199s 182ms/step - loss: 0.4314 - accuracy: 0.7977 - val_loss: 0.4271 - val_accuracy: 0.7998\n",
            "Epoch 10/10\n",
            "1094/1094 [==============================] - 197s 180ms/step - loss: 0.4285 - accuracy: 0.7990 - val_loss: 0.4264 - val_accuracy: 0.8000\n",
            "CPU times: user 43min 14s, sys: 5min 18s, total: 48min 32s\n",
            "Wall time: 33min 1s\n"
          ],
          "name": "stdout"
        }
      ]
    }
  ]
}